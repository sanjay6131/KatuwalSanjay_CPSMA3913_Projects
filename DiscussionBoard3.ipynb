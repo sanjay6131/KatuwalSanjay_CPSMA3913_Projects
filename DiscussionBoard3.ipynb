{
  "nbformat": 4,
  "nbformat_minor": 0,
  "metadata": {
    "colab": {
      "name": "DiscussionBoard3.ipynb",
      "provenance": [],
      "collapsed_sections": [],
      "include_colab_link": true
    },
    "kernelspec": {
      "name": "python3",
      "display_name": "Python 3"
    }
  },
  "cells": [
    {
      "cell_type": "markdown",
      "metadata": {
        "id": "view-in-github",
        "colab_type": "text"
      },
      "source": [
        "<a href=\"https://colab.research.google.com/github/sanjay6131/discussion-3/blob/main/DiscussionBoard3.ipynb\" target=\"_parent\"><img src=\"https://colab.research.google.com/assets/colab-badge.svg\" alt=\"Open In Colab\"/></a>"
      ]
    },
    {
      "cell_type": "markdown",
      "metadata": {
        "id": "BYgkLn5sMiPQ"
      },
      "source": [
        "discussion board cubic equations"
      ]
    },
    {
      "cell_type": "code",
      "metadata": {
        "colab": {
          "base_uri": "https://localhost:8080/"
        },
        "id": "ptliEeyDF8xY",
        "outputId": "70e7ce70-f255-4351-f314-1c89a441c2e8"
      },
      "source": [
        "import numpy as np\r\n",
        "from scipy.misc import derivative\r\n",
        "\r\n",
        "n = 1\r\n",
        "x = np.linspace(-1, 1, 250)\r\n",
        "\r\n",
        "def f(x):\r\n",
        "  return 4*x**3 + 3*x**2+ + 2*x + 1\r\n",
        "\r\n",
        "def g(f, x, n):\r\n",
        "  slope = derivative(f, n, dx=1)\r\n",
        "  return n - f(n)/slope\r\n",
        "\r\n",
        "for i in range(20):\r\n",
        "  print(n)\r\n",
        "  n = g(f, x, n)"
      ],
      "execution_count": null,
      "outputs": [
        {
          "output_type": "stream",
          "text": [
            "1\n",
            "0.5833333333333333\n",
            "0.29021813224267207\n",
            "0.06959585383788075\n",
            "-0.10877423205504086\n",
            "-0.2568429514324777\n",
            "-0.3742484861831298\n",
            "-0.4592522607282472\n",
            "-0.5158341103757571\n",
            "-0.5515119175670719\n",
            "-0.573349306574475\n",
            "-0.5865064197342609\n",
            "-0.5943667481251746\n",
            "-0.59904074661927\n",
            "-0.60181271286447\n",
            "-0.6034541619068337\n",
            "-0.6044253057810768\n",
            "-0.604999575069398\n",
            "-0.6053390564609502\n",
            "-0.6055397063210806\n"
          ],
          "name": "stdout"
        }
      ]
    },
    {
      "cell_type": "markdown",
      "metadata": {
        "id": "py_btVulY_ku"
      },
      "source": [
        "And now for the graphing of y = x**3"
      ]
    },
    {
      "cell_type": "code",
      "metadata": {
        "colab": {
          "base_uri": "https://localhost:8080/",
          "height": 295
        },
        "id": "5-qIaX-82CMF",
        "outputId": "642e7b0e-1aa4-4884-a071-176854d8a9ad"
      },
      "source": [
        "import matplotlib.pyplot as plt\r\n",
        "import numpy as np\r\n",
        "\r\n",
        "\r\n",
        "x = np.linspace(-5,5,100) \r\n",
        "y = a*x**3 + b*x**2 + c*x+d ; \r\n",
        "fig = plt.figure()\r\n",
        "ax = fig.add_subplot(1, 1, 1)\r\n",
        "plt.xlabel('X-axis')\r\n",
        "plt.ylabel('Y-axis')\r\n",
        "plt.title('Cubical Graph')\r\n",
        "plt.grid(True)\r\n",
        "\r\n",
        "plt.plot(x,y, 'b')\r\n",
        "\r\n",
        "plt.show()"
      ],
      "execution_count": null,
      "outputs": [
        {
          "output_type": "display_data",
          "data": {
            "image/png": "[encoded data removed]",
            "text/plain": [
              "<Figure size 432x288 with 1 Axes>"
            ]
          },
          "metadata": {
            "tags": [],
            "needs_background": "light"
          }
        }
      ]
    }
  ]
}