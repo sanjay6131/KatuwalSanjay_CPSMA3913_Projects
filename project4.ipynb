{
  "nbformat": 4,
  "nbformat_minor": 0,
  "metadata": {
    "colab": {
      "name": "project4.ipynb",
      "provenance": [],
      "collapsed_sections": [],
      "include_colab_link": true
    },
    "kernelspec": {
      "name": "python3",
      "display_name": "Python 3"
    }
  },
  "cells": [
    {
      "cell_type": "markdown",
      "metadata": {
        "id": "view-in-github",
        "colab_type": "text"
      },
      "source": [
        "<a href=\"https://colab.research.google.com/github/sanjay6131/KatuwalSanjay_CPSMA3913_Projects/blob/main/project4.ipynb\" target=\"_parent\"><img src=\"https://colab.research.google.com/assets/colab-badge.svg\" alt=\"Open In Colab\"/></a>"
      ]
    },
    {
      "cell_type": "markdown",
      "metadata": {
        "id": "YCJaepmmfKrS"
      },
      "source": [
        "# Project Part # 4: CPSMA 3913\n",
        "# Discrete Mathematics \n",
        "\n",
        "# Sanjay Katuwal\n",
        "\n",
        "# Dr. Jacob \n",
        "\n",
        "\n"
      ]
    },
    {
      "cell_type": "markdown",
      "source": [
        "For this project I choose 10 cards out of a deck to make my own deck of cards of 10."
      ],
      "metadata": {
        "id": "_LPSuADcEeKu"
      }
    },
    {
      "cell_type": "code",
      "metadata": {
        "id": "3014601TxgnX"
      },
      "source": [
        "possiblepicks = ['blackJ','blackQ','blackK','blackA','redJ','redQ','redK','redA','joker1','joker2']"
      ],
      "execution_count": 17,
      "outputs": []
    },
    {
      "cell_type": "markdown",
      "metadata": {
        "id": "_7RoPTU_hXG1"
      },
      "source": [
        "##  Counting"
      ]
    },
    {
      "cell_type": "markdown",
      "metadata": {
        "id": "MMXFYCZ6hajg"
      },
      "source": [
        "There are only 3 possible outcomes black,red or joker in every random pick so that will be $10^{10}$ outcomes. \n",
        "\n",
        "Let's do it for 10 random picks.\n",
        "\n",
        "$$ 10*10*10\\dots *10 = 10^{10} $$"
      ]
    },
    {
      "cell_type": "code",
      "metadata": {
        "id": "5U5T3Fld5X0S",
        "colab": {
          "base_uri": "https://localhost:8080/"
        },
        "outputId": "1e8898a2-c025-4b08-ba36-1f359740aa8a"
      },
      "source": [
        "10**10"
      ],
      "execution_count": 18,
      "outputs": [
        {
          "output_type": "execute_result",
          "data": {
            "text/plain": [
              "10000000000"
            ]
          },
          "metadata": {},
          "execution_count": 18
        }
      ]
    },
    {
      "cell_type": "markdown",
      "metadata": {
        "id": "ImYyRFx919R5"
      },
      "source": [
        "Suppose the order didn't matter. And there are 20 possible outcomes.\n",
        "\n",
        "We are picking random cards 10 times which will only give 10 possible event everytime."
      ]
    },
    {
      "cell_type": "code",
      "metadata": {
        "id": "soDP2kUs14PV",
        "colab": {
          "base_uri": "https://localhost:8080/"
        },
        "outputId": "a3a8ccb9-8a7b-4829-a5c0-2fb283f77745"
      },
      "source": [
        "import math\n",
        "\n",
        "math.factorial(20)/(math.factorial(10)*math.factorial(10))"
      ],
      "execution_count": 19,
      "outputs": [
        {
          "output_type": "execute_result",
          "data": {
            "text/plain": [
              "184756.0"
            ]
          },
          "metadata": {},
          "execution_count": 19
        }
      ]
    },
    {
      "cell_type": "code",
      "metadata": {
        "id": "wt4Jqvw6s-TH",
        "outputId": "c96f43b1-5d15-487c-d6c6-76539254da8c",
        "colab": {
          "base_uri": "https://localhost:8080/"
        }
      },
      "source": [
        "from itertools import combinations_with_replacement\n",
        "\n",
        "print(list(combinations_with_replacement(possiblepicks,10)))"
      ],
      "execution_count": 20,
      "outputs": [
        {
          "output_type": "stream",
          "name": "stderr",
          "text": [
            "IOPub data rate exceeded.\n",
            "The notebook server will temporarily stop sending output\n",
            "to the client in order to avoid crashing it.\n",
            "To change this limit, set the config variable\n",
            "`--NotebookApp.iopub_data_rate_limit`.\n",
            "\n",
            "Current values:\n",
            "NotebookApp.iopub_data_rate_limit=1000000.0 (bytes/sec)\n",
            "NotebookApp.rate_limit_window=3.0 (secs)\n",
            "\n"
          ]
        }
      ]
    },
    {
      "cell_type": "markdown",
      "metadata": {
        "id": "u7JEQe8WuHfl"
      },
      "source": [
        "That is a very long series."
      ]
    },
    {
      "cell_type": "code",
      "metadata": {
        "id": "PbZFC96MuLEO",
        "outputId": "ad2dcdf0-999a-42f2-e641-618da3613643",
        "colab": {
          "base_uri": "https://localhost:8080/"
        }
      },
      "source": [
        "len(list(combinations_with_replacement(possiblepicks,10)))"
      ],
      "execution_count": 21,
      "outputs": [
        {
          "output_type": "execute_result",
          "data": {
            "text/plain": [
              "92378"
            ]
          },
          "metadata": {},
          "execution_count": 21
        }
      ]
    },
    {
      "cell_type": "markdown",
      "metadata": {
        "id": "y88um8aAuWKX"
      },
      "source": [
        "## Now without replacement!"
      ]
    },
    {
      "cell_type": "markdown",
      "metadata": {
        "id": "QkEEuL3Ysz8_"
      },
      "source": [
        "\n",
        "\n",
        "when the order matters it is $10!$ "
      ]
    },
    {
      "cell_type": "code",
      "metadata": {
        "id": "8rU6K0XU2e9w",
        "colab": {
          "base_uri": "https://localhost:8080/"
        },
        "outputId": "9d368b92-1a5c-48d2-c158-8252bf0dd115"
      },
      "source": [
        "print(math.factorial(10))\n"
      ],
      "execution_count": 22,
      "outputs": [
        {
          "output_type": "stream",
          "name": "stdout",
          "text": [
            "3628800\n"
          ]
        }
      ]
    },
    {
      "cell_type": "markdown",
      "metadata": {
        "id": "ceTp1P2-uu_K"
      },
      "source": [
        "Let's show all "
      ]
    },
    {
      "cell_type": "code",
      "metadata": {
        "id": "uXQsrlisuuON",
        "outputId": "6ae4f87a-29f3-4570-8d40-8387564796a3",
        "colab": {
          "base_uri": "https://localhost:8080/"
        }
      },
      "source": [
        "from itertools import permutations\n",
        "print(list(permutations(possiblepicks,10)))"
      ],
      "execution_count": 23,
      "outputs": [
        {
          "output_type": "stream",
          "name": "stderr",
          "text": [
            "IOPub data rate exceeded.\n",
            "The notebook server will temporarily stop sending output\n",
            "to the client in order to avoid crashing it.\n",
            "To change this limit, set the config variable\n",
            "`--NotebookApp.iopub_data_rate_limit`.\n",
            "\n",
            "Current values:\n",
            "NotebookApp.iopub_data_rate_limit=1000000.0 (bytes/sec)\n",
            "NotebookApp.rate_limit_window=3.0 (secs)\n",
            "\n"
          ]
        }
      ]
    },
    {
      "cell_type": "markdown",
      "metadata": {
        "id": "B3dNLbo-u0Si"
      },
      "source": [
        "when order doesn't matter"
      ]
    },
    {
      "cell_type": "code",
      "metadata": {
        "id": "xX_OCLDv6d1k",
        "colab": {
          "base_uri": "https://localhost:8080/"
        },
        "outputId": "dd207516-2187-47e8-fe43-c6247063ed45"
      },
      "source": [
        "math.factorial(10)/(math.factorial(0)*math.factorial(10))"
      ],
      "execution_count": 12,
      "outputs": [
        {
          "output_type": "execute_result",
          "data": {
            "text/plain": [
              "1.0"
            ]
          },
          "metadata": {},
          "execution_count": 12
        }
      ]
    },
    {
      "cell_type": "markdown",
      "metadata": {
        "id": "nI3nmQzeu3UU"
      },
      "source": [
        "This is what we get"
      ]
    },
    {
      "cell_type": "code",
      "metadata": {
        "id": "t9CzDaMRu5lr",
        "outputId": "211ddcb0-7c13-43ee-e072-2332d3ee0c31",
        "colab": {
          "base_uri": "https://localhost:8080/"
        }
      },
      "source": [
        "from itertools import combinations\n",
        "print(list(combinations(possiblepicks,3)))\n"
      ],
      "execution_count": 13,
      "outputs": [
        {
          "output_type": "stream",
          "name": "stdout",
          "text": [
            "[('blackJ', 'blackQ', 'blackK'), ('blackJ', 'blackQ', 'blackA'), ('blackJ', 'blackQ', 'redJ'), ('blackJ', 'blackQ', 'redQ'), ('blackJ', 'blackQ', 'redK'), ('blackJ', 'blackQ', 'redA'), ('blackJ', 'blackQ', 'joker1'), ('blackJ', 'blackQ', 'joker2'), ('blackJ', 'blackK', 'blackA'), ('blackJ', 'blackK', 'redJ'), ('blackJ', 'blackK', 'redQ'), ('blackJ', 'blackK', 'redK'), ('blackJ', 'blackK', 'redA'), ('blackJ', 'blackK', 'joker1'), ('blackJ', 'blackK', 'joker2'), ('blackJ', 'blackA', 'redJ'), ('blackJ', 'blackA', 'redQ'), ('blackJ', 'blackA', 'redK'), ('blackJ', 'blackA', 'redA'), ('blackJ', 'blackA', 'joker1'), ('blackJ', 'blackA', 'joker2'), ('blackJ', 'redJ', 'redQ'), ('blackJ', 'redJ', 'redK'), ('blackJ', 'redJ', 'redA'), ('blackJ', 'redJ', 'joker1'), ('blackJ', 'redJ', 'joker2'), ('blackJ', 'redQ', 'redK'), ('blackJ', 'redQ', 'redA'), ('blackJ', 'redQ', 'joker1'), ('blackJ', 'redQ', 'joker2'), ('blackJ', 'redK', 'redA'), ('blackJ', 'redK', 'joker1'), ('blackJ', 'redK', 'joker2'), ('blackJ', 'redA', 'joker1'), ('blackJ', 'redA', 'joker2'), ('blackJ', 'joker1', 'joker2'), ('blackQ', 'blackK', 'blackA'), ('blackQ', 'blackK', 'redJ'), ('blackQ', 'blackK', 'redQ'), ('blackQ', 'blackK', 'redK'), ('blackQ', 'blackK', 'redA'), ('blackQ', 'blackK', 'joker1'), ('blackQ', 'blackK', 'joker2'), ('blackQ', 'blackA', 'redJ'), ('blackQ', 'blackA', 'redQ'), ('blackQ', 'blackA', 'redK'), ('blackQ', 'blackA', 'redA'), ('blackQ', 'blackA', 'joker1'), ('blackQ', 'blackA', 'joker2'), ('blackQ', 'redJ', 'redQ'), ('blackQ', 'redJ', 'redK'), ('blackQ', 'redJ', 'redA'), ('blackQ', 'redJ', 'joker1'), ('blackQ', 'redJ', 'joker2'), ('blackQ', 'redQ', 'redK'), ('blackQ', 'redQ', 'redA'), ('blackQ', 'redQ', 'joker1'), ('blackQ', 'redQ', 'joker2'), ('blackQ', 'redK', 'redA'), ('blackQ', 'redK', 'joker1'), ('blackQ', 'redK', 'joker2'), ('blackQ', 'redA', 'joker1'), ('blackQ', 'redA', 'joker2'), ('blackQ', 'joker1', 'joker2'), ('blackK', 'blackA', 'redJ'), ('blackK', 'blackA', 'redQ'), ('blackK', 'blackA', 'redK'), ('blackK', 'blackA', 'redA'), ('blackK', 'blackA', 'joker1'), ('blackK', 'blackA', 'joker2'), ('blackK', 'redJ', 'redQ'), ('blackK', 'redJ', 'redK'), ('blackK', 'redJ', 'redA'), ('blackK', 'redJ', 'joker1'), ('blackK', 'redJ', 'joker2'), ('blackK', 'redQ', 'redK'), ('blackK', 'redQ', 'redA'), ('blackK', 'redQ', 'joker1'), ('blackK', 'redQ', 'joker2'), ('blackK', 'redK', 'redA'), ('blackK', 'redK', 'joker1'), ('blackK', 'redK', 'joker2'), ('blackK', 'redA', 'joker1'), ('blackK', 'redA', 'joker2'), ('blackK', 'joker1', 'joker2'), ('blackA', 'redJ', 'redQ'), ('blackA', 'redJ', 'redK'), ('blackA', 'redJ', 'redA'), ('blackA', 'redJ', 'joker1'), ('blackA', 'redJ', 'joker2'), ('blackA', 'redQ', 'redK'), ('blackA', 'redQ', 'redA'), ('blackA', 'redQ', 'joker1'), ('blackA', 'redQ', 'joker2'), ('blackA', 'redK', 'redA'), ('blackA', 'redK', 'joker1'), ('blackA', 'redK', 'joker2'), ('blackA', 'redA', 'joker1'), ('blackA', 'redA', 'joker2'), ('blackA', 'joker1', 'joker2'), ('redJ', 'redQ', 'redK'), ('redJ', 'redQ', 'redA'), ('redJ', 'redQ', 'joker1'), ('redJ', 'redQ', 'joker2'), ('redJ', 'redK', 'redA'), ('redJ', 'redK', 'joker1'), ('redJ', 'redK', 'joker2'), ('redJ', 'redA', 'joker1'), ('redJ', 'redA', 'joker2'), ('redJ', 'joker1', 'joker2'), ('redQ', 'redK', 'redA'), ('redQ', 'redK', 'joker1'), ('redQ', 'redK', 'joker2'), ('redQ', 'redA', 'joker1'), ('redQ', 'redA', 'joker2'), ('redQ', 'joker1', 'joker2'), ('redK', 'redA', 'joker1'), ('redK', 'redA', 'joker2'), ('redK', 'joker1', 'joker2'), ('redA', 'joker1', 'joker2')]\n"
          ]
        }
      ]
    },
    {
      "cell_type": "markdown",
      "source": [
        "##5th Order Of Bionomial Expression"
      ],
      "metadata": {
        "id": "COteAlHJdIeX"
      }
    },
    {
      "cell_type": "markdown",
      "source": [
        "For the 5th order of given bionomial expression\n",
        "\n",
        "$$\n",
        "{{(x-3)}^9}\n",
        "$$"
      ],
      "metadata": {
        "id": "sE0tyYCUbomU"
      }
    },
    {
      "cell_type": "markdown",
      "source": [
        "5th Order= 9C5 * (-3)^4\n",
        "         = 126 * 81\n",
        "         =10,206"
      ],
      "metadata": {
        "id": "Ayk4cls1chVW"
      }
    },
    {
      "cell_type": "markdown",
      "source": [
        "It was a little confusion on the possible events and outcomes but i love the bionomial expression part. And in overall it was okay to learn something evertime."
      ],
      "metadata": {
        "id": "B_Mi1hQxGwC4"
      }
    }
  ]
}