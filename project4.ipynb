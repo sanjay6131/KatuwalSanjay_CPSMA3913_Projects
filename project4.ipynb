{
  "nbformat": 4,
  "nbformat_minor": 0,
  "metadata": {
    "colab": {
      "name": "project4.ipynb",
      "provenance": [],
      "collapsed_sections": [],
      "include_colab_link": true
    },
    "kernelspec": {
      "name": "python3",
      "display_name": "Python 3"
    }
  },
  "cells": [
    {
      "cell_type": "markdown",
      "metadata": {
        "id": "view-in-github",
        "colab_type": "text"
      },
      "source": [
        "<a href=\"https://colab.research.google.com/github/sanjay6131/KatuwalSanjay_CPSMA3913_Projects/blob/main/project4.ipynb\" target=\"_parent\"><img src=\"https://colab.research.google.com/assets/colab-badge.svg\" alt=\"Open In Colab\"/></a>"
      ]
    },
    {
      "cell_type": "markdown",
      "metadata": {
        "id": "YCJaepmmfKrS"
      },
      "source": [
        "# Project Part # 4: CPSMA 3913\n",
        "# Discrete Mathematics \n",
        "\n",
        "# Sanjay Katuwal\n",
        "\n",
        "# Dr. Jacob \n",
        "\n",
        "\n"
      ]
    },
    {
      "cell_type": "markdown",
      "source": [
        "For this project I choose 10 cards out of a deck to make my own deck of cards of 10."
      ],
      "metadata": {
        "id": "_LPSuADcEeKu"
      }
    },
    {
      "cell_type": "code",
      "metadata": {
        "id": "3014601TxgnX"
      },
      "source": [
        "possiblepicks = ['blackJ','blackQ','blackK','blackA','redJ','redQ','redK','redA','joker1','joker2']"
      ],
      "execution_count": 1,
      "outputs": []
    },
    {
      "cell_type": "markdown",
      "metadata": {
        "id": "_7RoPTU_hXG1"
      },
      "source": [
        "##  Counting"
      ]
    },
    {
      "cell_type": "markdown",
      "metadata": {
        "id": "MMXFYCZ6hajg"
      },
      "source": [
        "There are only 3 possible outcomes black,red or joker in every random pick so that will be $10^{10}$ outcomes. \n",
        "\n",
        "Let's do it for 10 random picks.\n",
        "\n",
        "$$ 10*10*10\\dots *10 = 10^{10} $$"
      ]
    },
    {
      "cell_type": "code",
      "metadata": {
        "id": "5U5T3Fld5X0S",
        "colab": {
          "base_uri": "https://localhost:8080/"
        },
        "outputId": "ff478328-85c4-4f76-a140-884748d609b9"
      },
      "source": [
        "10**10"
      ],
      "execution_count": 2,
      "outputs": [
        {
          "output_type": "execute_result",
          "data": {
            "text/plain": [
              "10000000000"
            ]
          },
          "metadata": {},
          "execution_count": 2
        }
      ]
    },
    {
      "cell_type": "markdown",
      "metadata": {
        "id": "ImYyRFx919R5"
      },
      "source": [
        "Suppose the order didn't matter. And there are 20 possible outcomes.\n",
        "\n",
        "We are picking random cards 10 times which will only give 10 possible event everytime."
      ]
    },
    {
      "cell_type": "code",
      "metadata": {
        "id": "soDP2kUs14PV",
        "colab": {
          "base_uri": "https://localhost:8080/"
        },
        "outputId": "7fd91f86-2917-4290-bf88-17286f8d23f4"
      },
      "source": [
        "import math\n",
        "\n",
        "math.factorial(20)/(math.factorial(10)*math.factorial(10))"
      ],
      "execution_count": 14,
      "outputs": [
        {
          "output_type": "execute_result",
          "data": {
            "text/plain": [
              "184756.0"
            ]
          },
          "metadata": {},
          "execution_count": 14
        }
      ]
    },
    {
      "cell_type": "code",
      "metadata": {
        "id": "wt4Jqvw6s-TH",
        "outputId": "e6d496dd-ee8c-4707-d4b3-68e71b95ea9e",
        "colab": {
          "base_uri": "https://localhost:8080/"
        }
      },
      "source": [
        "from itertools import combinations_with_replacement\n",
        "\n",
        "print(list(combinations_with_replacement(possiblepicks,10)))"
      ],
      "execution_count": 15,
      "outputs": [
        {
          "output_type": "stream",
          "name": "stderr",
          "text": [
            "IOPub data rate exceeded.\n",
            "The notebook server will temporarily stop sending output\n",
            "to the client in order to avoid crashing it.\n",
            "To change this limit, set the config variable\n",
            "`--NotebookApp.iopub_data_rate_limit`.\n",
            "\n",
            "Current values:\n",
            "NotebookApp.iopub_data_rate_limit=1000000.0 (bytes/sec)\n",
            "NotebookApp.rate_limit_window=3.0 (secs)\n",
            "\n"
          ]
        }
      ]
    },
    {
      "cell_type": "markdown",
      "metadata": {
        "id": "u7JEQe8WuHfl"
      },
      "source": [
        "That is a very long series."
      ]
    },
    {
      "cell_type": "code",
      "metadata": {
        "id": "PbZFC96MuLEO",
        "outputId": "0110f453-5d27-466d-90da-28acd9d95a99",
        "colab": {
          "base_uri": "https://localhost:8080/"
        }
      },
      "source": [
        "len(list(combinations_with_replacement(possiblepicks,10)))"
      ],
      "execution_count": 8,
      "outputs": [
        {
          "output_type": "execute_result",
          "data": {
            "text/plain": [
              "92378"
            ]
          },
          "metadata": {},
          "execution_count": 8
        }
      ]
    },
    {
      "cell_type": "markdown",
      "metadata": {
        "id": "y88um8aAuWKX"
      },
      "source": [
        "## Now without replacement!"
      ]
    },
    {
      "cell_type": "markdown",
      "metadata": {
        "id": "QkEEuL3Ysz8_"
      },
      "source": [
        "\n",
        "\n",
        "when the order matters it is $10!$ "
      ]
    },
    {
      "cell_type": "code",
      "metadata": {
        "id": "8rU6K0XU2e9w",
        "colab": {
          "base_uri": "https://localhost:8080/"
        },
        "outputId": "dc7365ee-4c40-4791-ab29-cea3c297e99a"
      },
      "source": [
        "print(math.factorial(10))\n"
      ],
      "execution_count": 10,
      "outputs": [
        {
          "output_type": "stream",
          "name": "stdout",
          "text": [
            "3628800\n"
          ]
        }
      ]
    },
    {
      "cell_type": "markdown",
      "metadata": {
        "id": "ceTp1P2-uu_K"
      },
      "source": [
        "Let's show all "
      ]
    },
    {
      "cell_type": "code",
      "metadata": {
        "id": "uXQsrlisuuON",
        "outputId": "76a44f5f-71be-4181-e82a-407e4c85c010",
        "colab": {
          "base_uri": "https://localhost:8080/"
        }
      },
      "source": [
        "from itertools import permutations\n",
        "print(list(permutations(possiblepicks,3)))"
      ],
      "execution_count": 11,
      "outputs": [
        {
          "output_type": "stream",
          "name": "stdout",
          "text": [
            "[('blackJ', 'blackQ', 'blackK'), ('blackJ', 'blackQ', 'blackA'), ('blackJ', 'blackQ', 'redJ'), ('blackJ', 'blackQ', 'redQ'), ('blackJ', 'blackQ', 'redK'), ('blackJ', 'blackQ', 'redA'), ('blackJ', 'blackQ', 'joker1'), ('blackJ', 'blackQ', 'joker2'), ('blackJ', 'blackK', 'blackQ'), ('blackJ', 'blackK', 'blackA'), ('blackJ', 'blackK', 'redJ'), ('blackJ', 'blackK', 'redQ'), ('blackJ', 'blackK', 'redK'), ('blackJ', 'blackK', 'redA'), ('blackJ', 'blackK', 'joker1'), ('blackJ', 'blackK', 'joker2'), ('blackJ', 'blackA', 'blackQ'), ('blackJ', 'blackA', 'blackK'), ('blackJ', 'blackA', 'redJ'), ('blackJ', 'blackA', 'redQ'), ('blackJ', 'blackA', 'redK'), ('blackJ', 'blackA', 'redA'), ('blackJ', 'blackA', 'joker1'), ('blackJ', 'blackA', 'joker2'), ('blackJ', 'redJ', 'blackQ'), ('blackJ', 'redJ', 'blackK'), ('blackJ', 'redJ', 'blackA'), ('blackJ', 'redJ', 'redQ'), ('blackJ', 'redJ', 'redK'), ('blackJ', 'redJ', 'redA'), ('blackJ', 'redJ', 'joker1'), ('blackJ', 'redJ', 'joker2'), ('blackJ', 'redQ', 'blackQ'), ('blackJ', 'redQ', 'blackK'), ('blackJ', 'redQ', 'blackA'), ('blackJ', 'redQ', 'redJ'), ('blackJ', 'redQ', 'redK'), ('blackJ', 'redQ', 'redA'), ('blackJ', 'redQ', 'joker1'), ('blackJ', 'redQ', 'joker2'), ('blackJ', 'redK', 'blackQ'), ('blackJ', 'redK', 'blackK'), ('blackJ', 'redK', 'blackA'), ('blackJ', 'redK', 'redJ'), ('blackJ', 'redK', 'redQ'), ('blackJ', 'redK', 'redA'), ('blackJ', 'redK', 'joker1'), ('blackJ', 'redK', 'joker2'), ('blackJ', 'redA', 'blackQ'), ('blackJ', 'redA', 'blackK'), ('blackJ', 'redA', 'blackA'), ('blackJ', 'redA', 'redJ'), ('blackJ', 'redA', 'redQ'), ('blackJ', 'redA', 'redK'), ('blackJ', 'redA', 'joker1'), ('blackJ', 'redA', 'joker2'), ('blackJ', 'joker1', 'blackQ'), ('blackJ', 'joker1', 'blackK'), ('blackJ', 'joker1', 'blackA'), ('blackJ', 'joker1', 'redJ'), ('blackJ', 'joker1', 'redQ'), ('blackJ', 'joker1', 'redK'), ('blackJ', 'joker1', 'redA'), ('blackJ', 'joker1', 'joker2'), ('blackJ', 'joker2', 'blackQ'), ('blackJ', 'joker2', 'blackK'), ('blackJ', 'joker2', 'blackA'), ('blackJ', 'joker2', 'redJ'), ('blackJ', 'joker2', 'redQ'), ('blackJ', 'joker2', 'redK'), ('blackJ', 'joker2', 'redA'), ('blackJ', 'joker2', 'joker1'), ('blackQ', 'blackJ', 'blackK'), ('blackQ', 'blackJ', 'blackA'), ('blackQ', 'blackJ', 'redJ'), ('blackQ', 'blackJ', 'redQ'), ('blackQ', 'blackJ', 'redK'), ('blackQ', 'blackJ', 'redA'), ('blackQ', 'blackJ', 'joker1'), ('blackQ', 'blackJ', 'joker2'), ('blackQ', 'blackK', 'blackJ'), ('blackQ', 'blackK', 'blackA'), ('blackQ', 'blackK', 'redJ'), ('blackQ', 'blackK', 'redQ'), ('blackQ', 'blackK', 'redK'), ('blackQ', 'blackK', 'redA'), ('blackQ', 'blackK', 'joker1'), ('blackQ', 'blackK', 'joker2'), ('blackQ', 'blackA', 'blackJ'), ('blackQ', 'blackA', 'blackK'), ('blackQ', 'blackA', 'redJ'), ('blackQ', 'blackA', 'redQ'), ('blackQ', 'blackA', 'redK'), ('blackQ', 'blackA', 'redA'), ('blackQ', 'blackA', 'joker1'), ('blackQ', 'blackA', 'joker2'), ('blackQ', 'redJ', 'blackJ'), ('blackQ', 'redJ', 'blackK'), ('blackQ', 'redJ', 'blackA'), ('blackQ', 'redJ', 'redQ'), ('blackQ', 'redJ', 'redK'), ('blackQ', 'redJ', 'redA'), ('blackQ', 'redJ', 'joker1'), ('blackQ', 'redJ', 'joker2'), ('blackQ', 'redQ', 'blackJ'), ('blackQ', 'redQ', 'blackK'), ('blackQ', 'redQ', 'blackA'), ('blackQ', 'redQ', 'redJ'), ('blackQ', 'redQ', 'redK'), ('blackQ', 'redQ', 'redA'), ('blackQ', 'redQ', 'joker1'), ('blackQ', 'redQ', 'joker2'), ('blackQ', 'redK', 'blackJ'), ('blackQ', 'redK', 'blackK'), ('blackQ', 'redK', 'blackA'), ('blackQ', 'redK', 'redJ'), ('blackQ', 'redK', 'redQ'), ('blackQ', 'redK', 'redA'), ('blackQ', 'redK', 'joker1'), ('blackQ', 'redK', 'joker2'), ('blackQ', 'redA', 'blackJ'), ('blackQ', 'redA', 'blackK'), ('blackQ', 'redA', 'blackA'), ('blackQ', 'redA', 'redJ'), ('blackQ', 'redA', 'redQ'), ('blackQ', 'redA', 'redK'), ('blackQ', 'redA', 'joker1'), ('blackQ', 'redA', 'joker2'), ('blackQ', 'joker1', 'blackJ'), ('blackQ', 'joker1', 'blackK'), ('blackQ', 'joker1', 'blackA'), ('blackQ', 'joker1', 'redJ'), ('blackQ', 'joker1', 'redQ'), ('blackQ', 'joker1', 'redK'), ('blackQ', 'joker1', 'redA'), ('blackQ', 'joker1', 'joker2'), ('blackQ', 'joker2', 'blackJ'), ('blackQ', 'joker2', 'blackK'), ('blackQ', 'joker2', 'blackA'), ('blackQ', 'joker2', 'redJ'), ('blackQ', 'joker2', 'redQ'), ('blackQ', 'joker2', 'redK'), ('blackQ', 'joker2', 'redA'), ('blackQ', 'joker2', 'joker1'), ('blackK', 'blackJ', 'blackQ'), ('blackK', 'blackJ', 'blackA'), ('blackK', 'blackJ', 'redJ'), ('blackK', 'blackJ', 'redQ'), ('blackK', 'blackJ', 'redK'), ('blackK', 'blackJ', 'redA'), ('blackK', 'blackJ', 'joker1'), ('blackK', 'blackJ', 'joker2'), ('blackK', 'blackQ', 'blackJ'), ('blackK', 'blackQ', 'blackA'), ('blackK', 'blackQ', 'redJ'), ('blackK', 'blackQ', 'redQ'), ('blackK', 'blackQ', 'redK'), ('blackK', 'blackQ', 'redA'), ('blackK', 'blackQ', 'joker1'), ('blackK', 'blackQ', 'joker2'), ('blackK', 'blackA', 'blackJ'), ('blackK', 'blackA', 'blackQ'), ('blackK', 'blackA', 'redJ'), ('blackK', 'blackA', 'redQ'), ('blackK', 'blackA', 'redK'), ('blackK', 'blackA', 'redA'), ('blackK', 'blackA', 'joker1'), ('blackK', 'blackA', 'joker2'), ('blackK', 'redJ', 'blackJ'), ('blackK', 'redJ', 'blackQ'), ('blackK', 'redJ', 'blackA'), ('blackK', 'redJ', 'redQ'), ('blackK', 'redJ', 'redK'), ('blackK', 'redJ', 'redA'), ('blackK', 'redJ', 'joker1'), ('blackK', 'redJ', 'joker2'), ('blackK', 'redQ', 'blackJ'), ('blackK', 'redQ', 'blackQ'), ('blackK', 'redQ', 'blackA'), ('blackK', 'redQ', 'redJ'), ('blackK', 'redQ', 'redK'), ('blackK', 'redQ', 'redA'), ('blackK', 'redQ', 'joker1'), ('blackK', 'redQ', 'joker2'), ('blackK', 'redK', 'blackJ'), ('blackK', 'redK', 'blackQ'), ('blackK', 'redK', 'blackA'), ('blackK', 'redK', 'redJ'), ('blackK', 'redK', 'redQ'), ('blackK', 'redK', 'redA'), ('blackK', 'redK', 'joker1'), ('blackK', 'redK', 'joker2'), ('blackK', 'redA', 'blackJ'), ('blackK', 'redA', 'blackQ'), ('blackK', 'redA', 'blackA'), ('blackK', 'redA', 'redJ'), ('blackK', 'redA', 'redQ'), ('blackK', 'redA', 'redK'), ('blackK', 'redA', 'joker1'), ('blackK', 'redA', 'joker2'), ('blackK', 'joker1', 'blackJ'), ('blackK', 'joker1', 'blackQ'), ('blackK', 'joker1', 'blackA'), ('blackK', 'joker1', 'redJ'), ('blackK', 'joker1', 'redQ'), ('blackK', 'joker1', 'redK'), ('blackK', 'joker1', 'redA'), ('blackK', 'joker1', 'joker2'), ('blackK', 'joker2', 'blackJ'), ('blackK', 'joker2', 'blackQ'), ('blackK', 'joker2', 'blackA'), ('blackK', 'joker2', 'redJ'), ('blackK', 'joker2', 'redQ'), ('blackK', 'joker2', 'redK'), ('blackK', 'joker2', 'redA'), ('blackK', 'joker2', 'joker1'), ('blackA', 'blackJ', 'blackQ'), ('blackA', 'blackJ', 'blackK'), ('blackA', 'blackJ', 'redJ'), ('blackA', 'blackJ', 'redQ'), ('blackA', 'blackJ', 'redK'), ('blackA', 'blackJ', 'redA'), ('blackA', 'blackJ', 'joker1'), ('blackA', 'blackJ', 'joker2'), ('blackA', 'blackQ', 'blackJ'), ('blackA', 'blackQ', 'blackK'), ('blackA', 'blackQ', 'redJ'), ('blackA', 'blackQ', 'redQ'), ('blackA', 'blackQ', 'redK'), ('blackA', 'blackQ', 'redA'), ('blackA', 'blackQ', 'joker1'), ('blackA', 'blackQ', 'joker2'), ('blackA', 'blackK', 'blackJ'), ('blackA', 'blackK', 'blackQ'), ('blackA', 'blackK', 'redJ'), ('blackA', 'blackK', 'redQ'), ('blackA', 'blackK', 'redK'), ('blackA', 'blackK', 'redA'), ('blackA', 'blackK', 'joker1'), ('blackA', 'blackK', 'joker2'), ('blackA', 'redJ', 'blackJ'), ('blackA', 'redJ', 'blackQ'), ('blackA', 'redJ', 'blackK'), ('blackA', 'redJ', 'redQ'), ('blackA', 'redJ', 'redK'), ('blackA', 'redJ', 'redA'), ('blackA', 'redJ', 'joker1'), ('blackA', 'redJ', 'joker2'), ('blackA', 'redQ', 'blackJ'), ('blackA', 'redQ', 'blackQ'), ('blackA', 'redQ', 'blackK'), ('blackA', 'redQ', 'redJ'), ('blackA', 'redQ', 'redK'), ('blackA', 'redQ', 'redA'), ('blackA', 'redQ', 'joker1'), ('blackA', 'redQ', 'joker2'), ('blackA', 'redK', 'blackJ'), ('blackA', 'redK', 'blackQ'), ('blackA', 'redK', 'blackK'), ('blackA', 'redK', 'redJ'), ('blackA', 'redK', 'redQ'), ('blackA', 'redK', 'redA'), ('blackA', 'redK', 'joker1'), ('blackA', 'redK', 'joker2'), ('blackA', 'redA', 'blackJ'), ('blackA', 'redA', 'blackQ'), ('blackA', 'redA', 'blackK'), ('blackA', 'redA', 'redJ'), ('blackA', 'redA', 'redQ'), ('blackA', 'redA', 'redK'), ('blackA', 'redA', 'joker1'), ('blackA', 'redA', 'joker2'), ('blackA', 'joker1', 'blackJ'), ('blackA', 'joker1', 'blackQ'), ('blackA', 'joker1', 'blackK'), ('blackA', 'joker1', 'redJ'), ('blackA', 'joker1', 'redQ'), ('blackA', 'joker1', 'redK'), ('blackA', 'joker1', 'redA'), ('blackA', 'joker1', 'joker2'), ('blackA', 'joker2', 'blackJ'), ('blackA', 'joker2', 'blackQ'), ('blackA', 'joker2', 'blackK'), ('blackA', 'joker2', 'redJ'), ('blackA', 'joker2', 'redQ'), ('blackA', 'joker2', 'redK'), ('blackA', 'joker2', 'redA'), ('blackA', 'joker2', 'joker1'), ('redJ', 'blackJ', 'blackQ'), ('redJ', 'blackJ', 'blackK'), ('redJ', 'blackJ', 'blackA'), ('redJ', 'blackJ', 'redQ'), ('redJ', 'blackJ', 'redK'), ('redJ', 'blackJ', 'redA'), ('redJ', 'blackJ', 'joker1'), ('redJ', 'blackJ', 'joker2'), ('redJ', 'blackQ', 'blackJ'), ('redJ', 'blackQ', 'blackK'), ('redJ', 'blackQ', 'blackA'), ('redJ', 'blackQ', 'redQ'), ('redJ', 'blackQ', 'redK'), ('redJ', 'blackQ', 'redA'), ('redJ', 'blackQ', 'joker1'), ('redJ', 'blackQ', 'joker2'), ('redJ', 'blackK', 'blackJ'), ('redJ', 'blackK', 'blackQ'), ('redJ', 'blackK', 'blackA'), ('redJ', 'blackK', 'redQ'), ('redJ', 'blackK', 'redK'), ('redJ', 'blackK', 'redA'), ('redJ', 'blackK', 'joker1'), ('redJ', 'blackK', 'joker2'), ('redJ', 'blackA', 'blackJ'), ('redJ', 'blackA', 'blackQ'), ('redJ', 'blackA', 'blackK'), ('redJ', 'blackA', 'redQ'), ('redJ', 'blackA', 'redK'), ('redJ', 'blackA', 'redA'), ('redJ', 'blackA', 'joker1'), ('redJ', 'blackA', 'joker2'), ('redJ', 'redQ', 'blackJ'), ('redJ', 'redQ', 'blackQ'), ('redJ', 'redQ', 'blackK'), ('redJ', 'redQ', 'blackA'), ('redJ', 'redQ', 'redK'), ('redJ', 'redQ', 'redA'), ('redJ', 'redQ', 'joker1'), ('redJ', 'redQ', 'joker2'), ('redJ', 'redK', 'blackJ'), ('redJ', 'redK', 'blackQ'), ('redJ', 'redK', 'blackK'), ('redJ', 'redK', 'blackA'), ('redJ', 'redK', 'redQ'), ('redJ', 'redK', 'redA'), ('redJ', 'redK', 'joker1'), ('redJ', 'redK', 'joker2'), ('redJ', 'redA', 'blackJ'), ('redJ', 'redA', 'blackQ'), ('redJ', 'redA', 'blackK'), ('redJ', 'redA', 'blackA'), ('redJ', 'redA', 'redQ'), ('redJ', 'redA', 'redK'), ('redJ', 'redA', 'joker1'), ('redJ', 'redA', 'joker2'), ('redJ', 'joker1', 'blackJ'), ('redJ', 'joker1', 'blackQ'), ('redJ', 'joker1', 'blackK'), ('redJ', 'joker1', 'blackA'), ('redJ', 'joker1', 'redQ'), ('redJ', 'joker1', 'redK'), ('redJ', 'joker1', 'redA'), ('redJ', 'joker1', 'joker2'), ('redJ', 'joker2', 'blackJ'), ('redJ', 'joker2', 'blackQ'), ('redJ', 'joker2', 'blackK'), ('redJ', 'joker2', 'blackA'), ('redJ', 'joker2', 'redQ'), ('redJ', 'joker2', 'redK'), ('redJ', 'joker2', 'redA'), ('redJ', 'joker2', 'joker1'), ('redQ', 'blackJ', 'blackQ'), ('redQ', 'blackJ', 'blackK'), ('redQ', 'blackJ', 'blackA'), ('redQ', 'blackJ', 'redJ'), ('redQ', 'blackJ', 'redK'), ('redQ', 'blackJ', 'redA'), ('redQ', 'blackJ', 'joker1'), ('redQ', 'blackJ', 'joker2'), ('redQ', 'blackQ', 'blackJ'), ('redQ', 'blackQ', 'blackK'), ('redQ', 'blackQ', 'blackA'), ('redQ', 'blackQ', 'redJ'), ('redQ', 'blackQ', 'redK'), ('redQ', 'blackQ', 'redA'), ('redQ', 'blackQ', 'joker1'), ('redQ', 'blackQ', 'joker2'), ('redQ', 'blackK', 'blackJ'), ('redQ', 'blackK', 'blackQ'), ('redQ', 'blackK', 'blackA'), ('redQ', 'blackK', 'redJ'), ('redQ', 'blackK', 'redK'), ('redQ', 'blackK', 'redA'), ('redQ', 'blackK', 'joker1'), ('redQ', 'blackK', 'joker2'), ('redQ', 'blackA', 'blackJ'), ('redQ', 'blackA', 'blackQ'), ('redQ', 'blackA', 'blackK'), ('redQ', 'blackA', 'redJ'), ('redQ', 'blackA', 'redK'), ('redQ', 'blackA', 'redA'), ('redQ', 'blackA', 'joker1'), ('redQ', 'blackA', 'joker2'), ('redQ', 'redJ', 'blackJ'), ('redQ', 'redJ', 'blackQ'), ('redQ', 'redJ', 'blackK'), ('redQ', 'redJ', 'blackA'), ('redQ', 'redJ', 'redK'), ('redQ', 'redJ', 'redA'), ('redQ', 'redJ', 'joker1'), ('redQ', 'redJ', 'joker2'), ('redQ', 'redK', 'blackJ'), ('redQ', 'redK', 'blackQ'), ('redQ', 'redK', 'blackK'), ('redQ', 'redK', 'blackA'), ('redQ', 'redK', 'redJ'), ('redQ', 'redK', 'redA'), ('redQ', 'redK', 'joker1'), ('redQ', 'redK', 'joker2'), ('redQ', 'redA', 'blackJ'), ('redQ', 'redA', 'blackQ'), ('redQ', 'redA', 'blackK'), ('redQ', 'redA', 'blackA'), ('redQ', 'redA', 'redJ'), ('redQ', 'redA', 'redK'), ('redQ', 'redA', 'joker1'), ('redQ', 'redA', 'joker2'), ('redQ', 'joker1', 'blackJ'), ('redQ', 'joker1', 'blackQ'), ('redQ', 'joker1', 'blackK'), ('redQ', 'joker1', 'blackA'), ('redQ', 'joker1', 'redJ'), ('redQ', 'joker1', 'redK'), ('redQ', 'joker1', 'redA'), ('redQ', 'joker1', 'joker2'), ('redQ', 'joker2', 'blackJ'), ('redQ', 'joker2', 'blackQ'), ('redQ', 'joker2', 'blackK'), ('redQ', 'joker2', 'blackA'), ('redQ', 'joker2', 'redJ'), ('redQ', 'joker2', 'redK'), ('redQ', 'joker2', 'redA'), ('redQ', 'joker2', 'joker1'), ('redK', 'blackJ', 'blackQ'), ('redK', 'blackJ', 'blackK'), ('redK', 'blackJ', 'blackA'), ('redK', 'blackJ', 'redJ'), ('redK', 'blackJ', 'redQ'), ('redK', 'blackJ', 'redA'), ('redK', 'blackJ', 'joker1'), ('redK', 'blackJ', 'joker2'), ('redK', 'blackQ', 'blackJ'), ('redK', 'blackQ', 'blackK'), ('redK', 'blackQ', 'blackA'), ('redK', 'blackQ', 'redJ'), ('redK', 'blackQ', 'redQ'), ('redK', 'blackQ', 'redA'), ('redK', 'blackQ', 'joker1'), ('redK', 'blackQ', 'joker2'), ('redK', 'blackK', 'blackJ'), ('redK', 'blackK', 'blackQ'), ('redK', 'blackK', 'blackA'), ('redK', 'blackK', 'redJ'), ('redK', 'blackK', 'redQ'), ('redK', 'blackK', 'redA'), ('redK', 'blackK', 'joker1'), ('redK', 'blackK', 'joker2'), ('redK', 'blackA', 'blackJ'), ('redK', 'blackA', 'blackQ'), ('redK', 'blackA', 'blackK'), ('redK', 'blackA', 'redJ'), ('redK', 'blackA', 'redQ'), ('redK', 'blackA', 'redA'), ('redK', 'blackA', 'joker1'), ('redK', 'blackA', 'joker2'), ('redK', 'redJ', 'blackJ'), ('redK', 'redJ', 'blackQ'), ('redK', 'redJ', 'blackK'), ('redK', 'redJ', 'blackA'), ('redK', 'redJ', 'redQ'), ('redK', 'redJ', 'redA'), ('redK', 'redJ', 'joker1'), ('redK', 'redJ', 'joker2'), ('redK', 'redQ', 'blackJ'), ('redK', 'redQ', 'blackQ'), ('redK', 'redQ', 'blackK'), ('redK', 'redQ', 'blackA'), ('redK', 'redQ', 'redJ'), ('redK', 'redQ', 'redA'), ('redK', 'redQ', 'joker1'), ('redK', 'redQ', 'joker2'), ('redK', 'redA', 'blackJ'), ('redK', 'redA', 'blackQ'), ('redK', 'redA', 'blackK'), ('redK', 'redA', 'blackA'), ('redK', 'redA', 'redJ'), ('redK', 'redA', 'redQ'), ('redK', 'redA', 'joker1'), ('redK', 'redA', 'joker2'), ('redK', 'joker1', 'blackJ'), ('redK', 'joker1', 'blackQ'), ('redK', 'joker1', 'blackK'), ('redK', 'joker1', 'blackA'), ('redK', 'joker1', 'redJ'), ('redK', 'joker1', 'redQ'), ('redK', 'joker1', 'redA'), ('redK', 'joker1', 'joker2'), ('redK', 'joker2', 'blackJ'), ('redK', 'joker2', 'blackQ'), ('redK', 'joker2', 'blackK'), ('redK', 'joker2', 'blackA'), ('redK', 'joker2', 'redJ'), ('redK', 'joker2', 'redQ'), ('redK', 'joker2', 'redA'), ('redK', 'joker2', 'joker1'), ('redA', 'blackJ', 'blackQ'), ('redA', 'blackJ', 'blackK'), ('redA', 'blackJ', 'blackA'), ('redA', 'blackJ', 'redJ'), ('redA', 'blackJ', 'redQ'), ('redA', 'blackJ', 'redK'), ('redA', 'blackJ', 'joker1'), ('redA', 'blackJ', 'joker2'), ('redA', 'blackQ', 'blackJ'), ('redA', 'blackQ', 'blackK'), ('redA', 'blackQ', 'blackA'), ('redA', 'blackQ', 'redJ'), ('redA', 'blackQ', 'redQ'), ('redA', 'blackQ', 'redK'), ('redA', 'blackQ', 'joker1'), ('redA', 'blackQ', 'joker2'), ('redA', 'blackK', 'blackJ'), ('redA', 'blackK', 'blackQ'), ('redA', 'blackK', 'blackA'), ('redA', 'blackK', 'redJ'), ('redA', 'blackK', 'redQ'), ('redA', 'blackK', 'redK'), ('redA', 'blackK', 'joker1'), ('redA', 'blackK', 'joker2'), ('redA', 'blackA', 'blackJ'), ('redA', 'blackA', 'blackQ'), ('redA', 'blackA', 'blackK'), ('redA', 'blackA', 'redJ'), ('redA', 'blackA', 'redQ'), ('redA', 'blackA', 'redK'), ('redA', 'blackA', 'joker1'), ('redA', 'blackA', 'joker2'), ('redA', 'redJ', 'blackJ'), ('redA', 'redJ', 'blackQ'), ('redA', 'redJ', 'blackK'), ('redA', 'redJ', 'blackA'), ('redA', 'redJ', 'redQ'), ('redA', 'redJ', 'redK'), ('redA', 'redJ', 'joker1'), ('redA', 'redJ', 'joker2'), ('redA', 'redQ', 'blackJ'), ('redA', 'redQ', 'blackQ'), ('redA', 'redQ', 'blackK'), ('redA', 'redQ', 'blackA'), ('redA', 'redQ', 'redJ'), ('redA', 'redQ', 'redK'), ('redA', 'redQ', 'joker1'), ('redA', 'redQ', 'joker2'), ('redA', 'redK', 'blackJ'), ('redA', 'redK', 'blackQ'), ('redA', 'redK', 'blackK'), ('redA', 'redK', 'blackA'), ('redA', 'redK', 'redJ'), ('redA', 'redK', 'redQ'), ('redA', 'redK', 'joker1'), ('redA', 'redK', 'joker2'), ('redA', 'joker1', 'blackJ'), ('redA', 'joker1', 'blackQ'), ('redA', 'joker1', 'blackK'), ('redA', 'joker1', 'blackA'), ('redA', 'joker1', 'redJ'), ('redA', 'joker1', 'redQ'), ('redA', 'joker1', 'redK'), ('redA', 'joker1', 'joker2'), ('redA', 'joker2', 'blackJ'), ('redA', 'joker2', 'blackQ'), ('redA', 'joker2', 'blackK'), ('redA', 'joker2', 'blackA'), ('redA', 'joker2', 'redJ'), ('redA', 'joker2', 'redQ'), ('redA', 'joker2', 'redK'), ('redA', 'joker2', 'joker1'), ('joker1', 'blackJ', 'blackQ'), ('joker1', 'blackJ', 'blackK'), ('joker1', 'blackJ', 'blackA'), ('joker1', 'blackJ', 'redJ'), ('joker1', 'blackJ', 'redQ'), ('joker1', 'blackJ', 'redK'), ('joker1', 'blackJ', 'redA'), ('joker1', 'blackJ', 'joker2'), ('joker1', 'blackQ', 'blackJ'), ('joker1', 'blackQ', 'blackK'), ('joker1', 'blackQ', 'blackA'), ('joker1', 'blackQ', 'redJ'), ('joker1', 'blackQ', 'redQ'), ('joker1', 'blackQ', 'redK'), ('joker1', 'blackQ', 'redA'), ('joker1', 'blackQ', 'joker2'), ('joker1', 'blackK', 'blackJ'), ('joker1', 'blackK', 'blackQ'), ('joker1', 'blackK', 'blackA'), ('joker1', 'blackK', 'redJ'), ('joker1', 'blackK', 'redQ'), ('joker1', 'blackK', 'redK'), ('joker1', 'blackK', 'redA'), ('joker1', 'blackK', 'joker2'), ('joker1', 'blackA', 'blackJ'), ('joker1', 'blackA', 'blackQ'), ('joker1', 'blackA', 'blackK'), ('joker1', 'blackA', 'redJ'), ('joker1', 'blackA', 'redQ'), ('joker1', 'blackA', 'redK'), ('joker1', 'blackA', 'redA'), ('joker1', 'blackA', 'joker2'), ('joker1', 'redJ', 'blackJ'), ('joker1', 'redJ', 'blackQ'), ('joker1', 'redJ', 'blackK'), ('joker1', 'redJ', 'blackA'), ('joker1', 'redJ', 'redQ'), ('joker1', 'redJ', 'redK'), ('joker1', 'redJ', 'redA'), ('joker1', 'redJ', 'joker2'), ('joker1', 'redQ', 'blackJ'), ('joker1', 'redQ', 'blackQ'), ('joker1', 'redQ', 'blackK'), ('joker1', 'redQ', 'blackA'), ('joker1', 'redQ', 'redJ'), ('joker1', 'redQ', 'redK'), ('joker1', 'redQ', 'redA'), ('joker1', 'redQ', 'joker2'), ('joker1', 'redK', 'blackJ'), ('joker1', 'redK', 'blackQ'), ('joker1', 'redK', 'blackK'), ('joker1', 'redK', 'blackA'), ('joker1', 'redK', 'redJ'), ('joker1', 'redK', 'redQ'), ('joker1', 'redK', 'redA'), ('joker1', 'redK', 'joker2'), ('joker1', 'redA', 'blackJ'), ('joker1', 'redA', 'blackQ'), ('joker1', 'redA', 'blackK'), ('joker1', 'redA', 'blackA'), ('joker1', 'redA', 'redJ'), ('joker1', 'redA', 'redQ'), ('joker1', 'redA', 'redK'), ('joker1', 'redA', 'joker2'), ('joker1', 'joker2', 'blackJ'), ('joker1', 'joker2', 'blackQ'), ('joker1', 'joker2', 'blackK'), ('joker1', 'joker2', 'blackA'), ('joker1', 'joker2', 'redJ'), ('joker1', 'joker2', 'redQ'), ('joker1', 'joker2', 'redK'), ('joker1', 'joker2', 'redA'), ('joker2', 'blackJ', 'blackQ'), ('joker2', 'blackJ', 'blackK'), ('joker2', 'blackJ', 'blackA'), ('joker2', 'blackJ', 'redJ'), ('joker2', 'blackJ', 'redQ'), ('joker2', 'blackJ', 'redK'), ('joker2', 'blackJ', 'redA'), ('joker2', 'blackJ', 'joker1'), ('joker2', 'blackQ', 'blackJ'), ('joker2', 'blackQ', 'blackK'), ('joker2', 'blackQ', 'blackA'), ('joker2', 'blackQ', 'redJ'), ('joker2', 'blackQ', 'redQ'), ('joker2', 'blackQ', 'redK'), ('joker2', 'blackQ', 'redA'), ('joker2', 'blackQ', 'joker1'), ('joker2', 'blackK', 'blackJ'), ('joker2', 'blackK', 'blackQ'), ('joker2', 'blackK', 'blackA'), ('joker2', 'blackK', 'redJ'), ('joker2', 'blackK', 'redQ'), ('joker2', 'blackK', 'redK'), ('joker2', 'blackK', 'redA'), ('joker2', 'blackK', 'joker1'), ('joker2', 'blackA', 'blackJ'), ('joker2', 'blackA', 'blackQ'), ('joker2', 'blackA', 'blackK'), ('joker2', 'blackA', 'redJ'), ('joker2', 'blackA', 'redQ'), ('joker2', 'blackA', 'redK'), ('joker2', 'blackA', 'redA'), ('joker2', 'blackA', 'joker1'), ('joker2', 'redJ', 'blackJ'), ('joker2', 'redJ', 'blackQ'), ('joker2', 'redJ', 'blackK'), ('joker2', 'redJ', 'blackA'), ('joker2', 'redJ', 'redQ'), ('joker2', 'redJ', 'redK'), ('joker2', 'redJ', 'redA'), ('joker2', 'redJ', 'joker1'), ('joker2', 'redQ', 'blackJ'), ('joker2', 'redQ', 'blackQ'), ('joker2', 'redQ', 'blackK'), ('joker2', 'redQ', 'blackA'), ('joker2', 'redQ', 'redJ'), ('joker2', 'redQ', 'redK'), ('joker2', 'redQ', 'redA'), ('joker2', 'redQ', 'joker1'), ('joker2', 'redK', 'blackJ'), ('joker2', 'redK', 'blackQ'), ('joker2', 'redK', 'blackK'), ('joker2', 'redK', 'blackA'), ('joker2', 'redK', 'redJ'), ('joker2', 'redK', 'redQ'), ('joker2', 'redK', 'redA'), ('joker2', 'redK', 'joker1'), ('joker2', 'redA', 'blackJ'), ('joker2', 'redA', 'blackQ'), ('joker2', 'redA', 'blackK'), ('joker2', 'redA', 'blackA'), ('joker2', 'redA', 'redJ'), ('joker2', 'redA', 'redQ'), ('joker2', 'redA', 'redK'), ('joker2', 'redA', 'joker1'), ('joker2', 'joker1', 'blackJ'), ('joker2', 'joker1', 'blackQ'), ('joker2', 'joker1', 'blackK'), ('joker2', 'joker1', 'blackA'), ('joker2', 'joker1', 'redJ'), ('joker2', 'joker1', 'redQ'), ('joker2', 'joker1', 'redK'), ('joker2', 'joker1', 'redA')]\n"
          ]
        }
      ]
    },
    {
      "cell_type": "markdown",
      "metadata": {
        "id": "B3dNLbo-u0Si"
      },
      "source": [
        "when order doesn't matter"
      ]
    },
    {
      "cell_type": "code",
      "metadata": {
        "id": "xX_OCLDv6d1k",
        "colab": {
          "base_uri": "https://localhost:8080/"
        },
        "outputId": "dd207516-2187-47e8-fe43-c6247063ed45"
      },
      "source": [
        "math.factorial(10)/(math.factorial(0)*math.factorial(10))"
      ],
      "execution_count": 12,
      "outputs": [
        {
          "output_type": "execute_result",
          "data": {
            "text/plain": [
              "1.0"
            ]
          },
          "metadata": {},
          "execution_count": 12
        }
      ]
    },
    {
      "cell_type": "markdown",
      "metadata": {
        "id": "nI3nmQzeu3UU"
      },
      "source": [
        "This is what we get"
      ]
    },
    {
      "cell_type": "code",
      "metadata": {
        "id": "t9CzDaMRu5lr",
        "outputId": "211ddcb0-7c13-43ee-e072-2332d3ee0c31",
        "colab": {
          "base_uri": "https://localhost:8080/"
        }
      },
      "source": [
        "from itertools import combinations\n",
        "print(list(combinations(possiblepicks,3)))\n"
      ],
      "execution_count": 13,
      "outputs": [
        {
          "output_type": "stream",
          "name": "stdout",
          "text": [
            "[('blackJ', 'blackQ', 'blackK'), ('blackJ', 'blackQ', 'blackA'), ('blackJ', 'blackQ', 'redJ'), ('blackJ', 'blackQ', 'redQ'), ('blackJ', 'blackQ', 'redK'), ('blackJ', 'blackQ', 'redA'), ('blackJ', 'blackQ', 'joker1'), ('blackJ', 'blackQ', 'joker2'), ('blackJ', 'blackK', 'blackA'), ('blackJ', 'blackK', 'redJ'), ('blackJ', 'blackK', 'redQ'), ('blackJ', 'blackK', 'redK'), ('blackJ', 'blackK', 'redA'), ('blackJ', 'blackK', 'joker1'), ('blackJ', 'blackK', 'joker2'), ('blackJ', 'blackA', 'redJ'), ('blackJ', 'blackA', 'redQ'), ('blackJ', 'blackA', 'redK'), ('blackJ', 'blackA', 'redA'), ('blackJ', 'blackA', 'joker1'), ('blackJ', 'blackA', 'joker2'), ('blackJ', 'redJ', 'redQ'), ('blackJ', 'redJ', 'redK'), ('blackJ', 'redJ', 'redA'), ('blackJ', 'redJ', 'joker1'), ('blackJ', 'redJ', 'joker2'), ('blackJ', 'redQ', 'redK'), ('blackJ', 'redQ', 'redA'), ('blackJ', 'redQ', 'joker1'), ('blackJ', 'redQ', 'joker2'), ('blackJ', 'redK', 'redA'), ('blackJ', 'redK', 'joker1'), ('blackJ', 'redK', 'joker2'), ('blackJ', 'redA', 'joker1'), ('blackJ', 'redA', 'joker2'), ('blackJ', 'joker1', 'joker2'), ('blackQ', 'blackK', 'blackA'), ('blackQ', 'blackK', 'redJ'), ('blackQ', 'blackK', 'redQ'), ('blackQ', 'blackK', 'redK'), ('blackQ', 'blackK', 'redA'), ('blackQ', 'blackK', 'joker1'), ('blackQ', 'blackK', 'joker2'), ('blackQ', 'blackA', 'redJ'), ('blackQ', 'blackA', 'redQ'), ('blackQ', 'blackA', 'redK'), ('blackQ', 'blackA', 'redA'), ('blackQ', 'blackA', 'joker1'), ('blackQ', 'blackA', 'joker2'), ('blackQ', 'redJ', 'redQ'), ('blackQ', 'redJ', 'redK'), ('blackQ', 'redJ', 'redA'), ('blackQ', 'redJ', 'joker1'), ('blackQ', 'redJ', 'joker2'), ('blackQ', 'redQ', 'redK'), ('blackQ', 'redQ', 'redA'), ('blackQ', 'redQ', 'joker1'), ('blackQ', 'redQ', 'joker2'), ('blackQ', 'redK', 'redA'), ('blackQ', 'redK', 'joker1'), ('blackQ', 'redK', 'joker2'), ('blackQ', 'redA', 'joker1'), ('blackQ', 'redA', 'joker2'), ('blackQ', 'joker1', 'joker2'), ('blackK', 'blackA', 'redJ'), ('blackK', 'blackA', 'redQ'), ('blackK', 'blackA', 'redK'), ('blackK', 'blackA', 'redA'), ('blackK', 'blackA', 'joker1'), ('blackK', 'blackA', 'joker2'), ('blackK', 'redJ', 'redQ'), ('blackK', 'redJ', 'redK'), ('blackK', 'redJ', 'redA'), ('blackK', 'redJ', 'joker1'), ('blackK', 'redJ', 'joker2'), ('blackK', 'redQ', 'redK'), ('blackK', 'redQ', 'redA'), ('blackK', 'redQ', 'joker1'), ('blackK', 'redQ', 'joker2'), ('blackK', 'redK', 'redA'), ('blackK', 'redK', 'joker1'), ('blackK', 'redK', 'joker2'), ('blackK', 'redA', 'joker1'), ('blackK', 'redA', 'joker2'), ('blackK', 'joker1', 'joker2'), ('blackA', 'redJ', 'redQ'), ('blackA', 'redJ', 'redK'), ('blackA', 'redJ', 'redA'), ('blackA', 'redJ', 'joker1'), ('blackA', 'redJ', 'joker2'), ('blackA', 'redQ', 'redK'), ('blackA', 'redQ', 'redA'), ('blackA', 'redQ', 'joker1'), ('blackA', 'redQ', 'joker2'), ('blackA', 'redK', 'redA'), ('blackA', 'redK', 'joker1'), ('blackA', 'redK', 'joker2'), ('blackA', 'redA', 'joker1'), ('blackA', 'redA', 'joker2'), ('blackA', 'joker1', 'joker2'), ('redJ', 'redQ', 'redK'), ('redJ', 'redQ', 'redA'), ('redJ', 'redQ', 'joker1'), ('redJ', 'redQ', 'joker2'), ('redJ', 'redK', 'redA'), ('redJ', 'redK', 'joker1'), ('redJ', 'redK', 'joker2'), ('redJ', 'redA', 'joker1'), ('redJ', 'redA', 'joker2'), ('redJ', 'joker1', 'joker2'), ('redQ', 'redK', 'redA'), ('redQ', 'redK', 'joker1'), ('redQ', 'redK', 'joker2'), ('redQ', 'redA', 'joker1'), ('redQ', 'redA', 'joker2'), ('redQ', 'joker1', 'joker2'), ('redK', 'redA', 'joker1'), ('redK', 'redA', 'joker2'), ('redK', 'joker1', 'joker2'), ('redA', 'joker1', 'joker2')]\n"
          ]
        }
      ]
    },
    {
      "cell_type": "markdown",
      "source": [
        "##5th Order Of Bionomial Expression"
      ],
      "metadata": {
        "id": "COteAlHJdIeX"
      }
    },
    {
      "cell_type": "markdown",
      "source": [
        "For the 5th order of given bionomial expression\n",
        "\n",
        "$$\n",
        "{{(x-3)}^9}\n",
        "$$"
      ],
      "metadata": {
        "id": "sE0tyYCUbomU"
      }
    },
    {
      "cell_type": "markdown",
      "source": [
        "5th Order= 9C5 * (-3)^4\n",
        "         = 126 * 81\n",
        "         =10,206"
      ],
      "metadata": {
        "id": "Ayk4cls1chVW"
      }
    },
    {
      "cell_type": "markdown",
      "source": [
        "It was a little confusion on the possible events and outcomes but i love the bionomial expression part. And in overall it was okay to learn something evertime."
      ],
      "metadata": {
        "id": "B_Mi1hQxGwC4"
      }
    }
  ]
}