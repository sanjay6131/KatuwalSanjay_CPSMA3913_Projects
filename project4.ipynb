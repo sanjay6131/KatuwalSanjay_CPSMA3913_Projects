{
  "nbformat": 4,
  "nbformat_minor": 0,
  "metadata": {
    "colab": {
      "name": "Untitled0.ipynb",
      "provenance": [],
      "include_colab_link": true
    },
    "kernelspec": {
      "name": "python3",
      "display_name": "Python 3"
    }
  },
  "cells": [
    {
      "cell_type": "markdown",
      "metadata": {
        "id": "view-in-github",
        "colab_type": "text"
      },
      "source": [
        "<a href=\"https://colab.research.google.com/github/sanjay6131/KatuwalSanjay_CPSMA3913_Projects/blob/main/project4.ipynb\" target=\"_parent\"><img src=\"https://colab.research.google.com/assets/colab-badge.svg\" alt=\"Open In Colab\"/></a>"
      ]
    },
    {
      "cell_type": "markdown",
      "metadata": {
        "id": "YCJaepmmfKrS"
      },
      "source": [
        "# Project Part # 4: CPSMA 3913\n",
        "# Discrete Mathematics \n",
        "\n",
        "# Sanjay Katuwal\n",
        "\n",
        "# Dr. Jacob \n",
        "\n",
        "\n"
      ]
    },
    {
      "cell_type": "code",
      "metadata": {
        "id": "3014601TxgnX"
      },
      "source": [
        "possiblepicks = ['black','red','joker']"
      ],
      "execution_count": null,
      "outputs": []
    },
    {
      "cell_type": "markdown",
      "metadata": {
        "id": "_7RoPTU_hXG1"
      },
      "source": [
        "##  Counting"
      ]
    },
    {
      "cell_type": "markdown",
      "metadata": {
        "id": "MMXFYCZ6hajg"
      },
      "source": [
        "There are only 3 possible outcomes black,red or joker in every random pick so that will be $3^{10}$ outcomes. \n",
        "\n",
        "Let's do it for 10 random picks.\n",
        "\n",
        "$$ 3*3*3\\dots *3 = 3^{10} $$"
      ]
    },
    {
      "cell_type": "code",
      "metadata": {
        "id": "5U5T3Fld5X0S",
        "colab": {
          "base_uri": "https://localhost:8080/"
        },
        "outputId": "22e51f8e-32a2-4751-f7a5-c8ee0db4793c"
      },
      "source": [
        "3**10"
      ],
      "execution_count": null,
      "outputs": [
        {
          "output_type": "execute_result",
          "data": {
            "text/plain": [
              "59049"
            ]
          },
          "metadata": {},
          "execution_count": 12
        }
      ]
    },
    {
      "cell_type": "markdown",
      "metadata": {
        "id": "ImYyRFx919R5"
      },
      "source": [
        "Suppose the order didn't matter. And there are 20 possible outcomes.\n",
        "\n",
        "We are picking random cards 10 times which will only give 3 possible event everytime."
      ]
    },
    {
      "cell_type": "code",
      "metadata": {
        "id": "soDP2kUs14PV",
        "colab": {
          "base_uri": "https://localhost:8080/"
        },
        "outputId": "61ab011b-2656-4c97-9a21-07e954115610"
      },
      "source": [
        "import math\n",
        "\n",
        "math.factorial(20)/(math.factorial(10)*math.factorial(10))"
      ],
      "execution_count": null,
      "outputs": [
        {
          "output_type": "execute_result",
          "data": {
            "text/plain": [
              "184756.0"
            ]
          },
          "metadata": {},
          "execution_count": 6
        }
      ]
    },
    {
      "cell_type": "code",
      "metadata": {
        "id": "wt4Jqvw6s-TH",
        "outputId": "19b53f01-b336-46f6-c0dd-28b7b34097ce",
        "colab": {
          "base_uri": "https://localhost:8080/"
        }
      },
      "source": [
        "from itertools import combinations_with_replacement\n",
        "\n",
        "print(list(combinations_with_replacement(possiblepicks,10)))"
      ],
      "execution_count": null,
      "outputs": [
        {
          "output_type": "stream",
          "name": "stdout",
          "text": [
            "[('black', 'black', 'black', 'black', 'black', 'black', 'black', 'black', 'black', 'black'), ('black', 'black', 'black', 'black', 'black', 'black', 'black', 'black', 'black', 'red'), ('black', 'black', 'black', 'black', 'black', 'black', 'black', 'black', 'black', 'joker'), ('black', 'black', 'black', 'black', 'black', 'black', 'black', 'black', 'red', 'red'), ('black', 'black', 'black', 'black', 'black', 'black', 'black', 'black', 'red', 'joker'), ('black', 'black', 'black', 'black', 'black', 'black', 'black', 'black', 'joker', 'joker'), ('black', 'black', 'black', 'black', 'black', 'black', 'black', 'red', 'red', 'red'), ('black', 'black', 'black', 'black', 'black', 'black', 'black', 'red', 'red', 'joker'), ('black', 'black', 'black', 'black', 'black', 'black', 'black', 'red', 'joker', 'joker'), ('black', 'black', 'black', 'black', 'black', 'black', 'black', 'joker', 'joker', 'joker'), ('black', 'black', 'black', 'black', 'black', 'black', 'red', 'red', 'red', 'red'), ('black', 'black', 'black', 'black', 'black', 'black', 'red', 'red', 'red', 'joker'), ('black', 'black', 'black', 'black', 'black', 'black', 'red', 'red', 'joker', 'joker'), ('black', 'black', 'black', 'black', 'black', 'black', 'red', 'joker', 'joker', 'joker'), ('black', 'black', 'black', 'black', 'black', 'black', 'joker', 'joker', 'joker', 'joker'), ('black', 'black', 'black', 'black', 'black', 'red', 'red', 'red', 'red', 'red'), ('black', 'black', 'black', 'black', 'black', 'red', 'red', 'red', 'red', 'joker'), ('black', 'black', 'black', 'black', 'black', 'red', 'red', 'red', 'joker', 'joker'), ('black', 'black', 'black', 'black', 'black', 'red', 'red', 'joker', 'joker', 'joker'), ('black', 'black', 'black', 'black', 'black', 'red', 'joker', 'joker', 'joker', 'joker'), ('black', 'black', 'black', 'black', 'black', 'joker', 'joker', 'joker', 'joker', 'joker'), ('black', 'black', 'black', 'black', 'red', 'red', 'red', 'red', 'red', 'red'), ('black', 'black', 'black', 'black', 'red', 'red', 'red', 'red', 'red', 'joker'), ('black', 'black', 'black', 'black', 'red', 'red', 'red', 'red', 'joker', 'joker'), ('black', 'black', 'black', 'black', 'red', 'red', 'red', 'joker', 'joker', 'joker'), ('black', 'black', 'black', 'black', 'red', 'red', 'joker', 'joker', 'joker', 'joker'), ('black', 'black', 'black', 'black', 'red', 'joker', 'joker', 'joker', 'joker', 'joker'), ('black', 'black', 'black', 'black', 'joker', 'joker', 'joker', 'joker', 'joker', 'joker'), ('black', 'black', 'black', 'red', 'red', 'red', 'red', 'red', 'red', 'red'), ('black', 'black', 'black', 'red', 'red', 'red', 'red', 'red', 'red', 'joker'), ('black', 'black', 'black', 'red', 'red', 'red', 'red', 'red', 'joker', 'joker'), ('black', 'black', 'black', 'red', 'red', 'red', 'red', 'joker', 'joker', 'joker'), ('black', 'black', 'black', 'red', 'red', 'red', 'joker', 'joker', 'joker', 'joker'), ('black', 'black', 'black', 'red', 'red', 'joker', 'joker', 'joker', 'joker', 'joker'), ('black', 'black', 'black', 'red', 'joker', 'joker', 'joker', 'joker', 'joker', 'joker'), ('black', 'black', 'black', 'joker', 'joker', 'joker', 'joker', 'joker', 'joker', 'joker'), ('black', 'black', 'red', 'red', 'red', 'red', 'red', 'red', 'red', 'red'), ('black', 'black', 'red', 'red', 'red', 'red', 'red', 'red', 'red', 'joker'), ('black', 'black', 'red', 'red', 'red', 'red', 'red', 'red', 'joker', 'joker'), ('black', 'black', 'red', 'red', 'red', 'red', 'red', 'joker', 'joker', 'joker'), ('black', 'black', 'red', 'red', 'red', 'red', 'joker', 'joker', 'joker', 'joker'), ('black', 'black', 'red', 'red', 'red', 'joker', 'joker', 'joker', 'joker', 'joker'), ('black', 'black', 'red', 'red', 'joker', 'joker', 'joker', 'joker', 'joker', 'joker'), ('black', 'black', 'red', 'joker', 'joker', 'joker', 'joker', 'joker', 'joker', 'joker'), ('black', 'black', 'joker', 'joker', 'joker', 'joker', 'joker', 'joker', 'joker', 'joker'), ('black', 'red', 'red', 'red', 'red', 'red', 'red', 'red', 'red', 'red'), ('black', 'red', 'red', 'red', 'red', 'red', 'red', 'red', 'red', 'joker'), ('black', 'red', 'red', 'red', 'red', 'red', 'red', 'red', 'joker', 'joker'), ('black', 'red', 'red', 'red', 'red', 'red', 'red', 'joker', 'joker', 'joker'), ('black', 'red', 'red', 'red', 'red', 'red', 'joker', 'joker', 'joker', 'joker'), ('black', 'red', 'red', 'red', 'red', 'joker', 'joker', 'joker', 'joker', 'joker'), ('black', 'red', 'red', 'red', 'joker', 'joker', 'joker', 'joker', 'joker', 'joker'), ('black', 'red', 'red', 'joker', 'joker', 'joker', 'joker', 'joker', 'joker', 'joker'), ('black', 'red', 'joker', 'joker', 'joker', 'joker', 'joker', 'joker', 'joker', 'joker'), ('black', 'joker', 'joker', 'joker', 'joker', 'joker', 'joker', 'joker', 'joker', 'joker'), ('red', 'red', 'red', 'red', 'red', 'red', 'red', 'red', 'red', 'red'), ('red', 'red', 'red', 'red', 'red', 'red', 'red', 'red', 'red', 'joker'), ('red', 'red', 'red', 'red', 'red', 'red', 'red', 'red', 'joker', 'joker'), ('red', 'red', 'red', 'red', 'red', 'red', 'red', 'joker', 'joker', 'joker'), ('red', 'red', 'red', 'red', 'red', 'red', 'joker', 'joker', 'joker', 'joker'), ('red', 'red', 'red', 'red', 'red', 'joker', 'joker', 'joker', 'joker', 'joker'), ('red', 'red', 'red', 'red', 'joker', 'joker', 'joker', 'joker', 'joker', 'joker'), ('red', 'red', 'red', 'joker', 'joker', 'joker', 'joker', 'joker', 'joker', 'joker'), ('red', 'red', 'joker', 'joker', 'joker', 'joker', 'joker', 'joker', 'joker', 'joker'), ('red', 'joker', 'joker', 'joker', 'joker', 'joker', 'joker', 'joker', 'joker', 'joker'), ('joker', 'joker', 'joker', 'joker', 'joker', 'joker', 'joker', 'joker', 'joker', 'joker')]\n"
          ]
        }
      ]
    },
    {
      "cell_type": "markdown",
      "metadata": {
        "id": "u7JEQe8WuHfl"
      },
      "source": [
        "That is a very long series."
      ]
    },
    {
      "cell_type": "code",
      "metadata": {
        "id": "PbZFC96MuLEO",
        "outputId": "fb244eb2-e433-4b03-9d33-a0b59dc8f42d",
        "colab": {
          "base_uri": "https://localhost:8080/"
        }
      },
      "source": [
        "len(list(combinations_with_replacement(possiblepicks,10)))"
      ],
      "execution_count": null,
      "outputs": [
        {
          "output_type": "execute_result",
          "data": {
            "text/plain": [
              "66"
            ]
          },
          "metadata": {},
          "execution_count": 11
        }
      ]
    },
    {
      "cell_type": "markdown",
      "metadata": {
        "id": "y88um8aAuWKX"
      },
      "source": [
        "## Now without replacement!"
      ]
    },
    {
      "cell_type": "markdown",
      "metadata": {
        "id": "QkEEuL3Ysz8_"
      },
      "source": [
        "\n",
        "\n",
        "when the order matters it is $3!$ and if not $\\binom33$."
      ]
    },
    {
      "cell_type": "code",
      "metadata": {
        "id": "8rU6K0XU2e9w",
        "colab": {
          "base_uri": "https://localhost:8080/"
        },
        "outputId": "497962c0-9f52-4539-89e7-f6d68284749c"
      },
      "source": [
        "print(math.factorial(3))\n"
      ],
      "execution_count": null,
      "outputs": [
        {
          "output_type": "stream",
          "name": "stdout",
          "text": [
            "6\n"
          ]
        }
      ]
    },
    {
      "cell_type": "markdown",
      "metadata": {
        "id": "ceTp1P2-uu_K"
      },
      "source": [
        "Let's show all 6"
      ]
    },
    {
      "cell_type": "code",
      "metadata": {
        "id": "uXQsrlisuuON",
        "outputId": "5ff759b7-6f68-49fe-f6f6-d6a8764e9112",
        "colab": {
          "base_uri": "https://localhost:8080/"
        }
      },
      "source": [
        "from itertools import permutations\n",
        "print(list(permutations(possiblepicks,3)))"
      ],
      "execution_count": null,
      "outputs": [
        {
          "output_type": "stream",
          "name": "stdout",
          "text": [
            "[('black', 'red', 'joker'), ('black', 'joker', 'red'), ('red', 'black', 'joker'), ('red', 'joker', 'black'), ('joker', 'black', 'red'), ('joker', 'red', 'black')]\n"
          ]
        }
      ]
    },
    {
      "cell_type": "markdown",
      "metadata": {
        "id": "B3dNLbo-u0Si"
      },
      "source": [
        "when order doesn't matter"
      ]
    },
    {
      "cell_type": "code",
      "metadata": {
        "id": "xX_OCLDv6d1k",
        "colab": {
          "base_uri": "https://localhost:8080/"
        },
        "outputId": "f2aa44db-fe8d-4afd-cba3-0c4f486a9859"
      },
      "source": [
        "math.factorial(3)/(math.factorial(0)*math.factorial(3))"
      ],
      "execution_count": null,
      "outputs": [
        {
          "output_type": "execute_result",
          "data": {
            "text/plain": [
              "1.0"
            ]
          },
          "metadata": {},
          "execution_count": 10
        }
      ]
    },
    {
      "cell_type": "markdown",
      "metadata": {
        "id": "nI3nmQzeu3UU"
      },
      "source": [
        "This is what we get"
      ]
    },
    {
      "cell_type": "code",
      "metadata": {
        "id": "t9CzDaMRu5lr",
        "outputId": "ad9f0f47-44a0-4a0b-8751-8f3c42da5a80",
        "colab": {
          "base_uri": "https://localhost:8080/"
        }
      },
      "source": [
        "from itertools import combinations\n",
        "print(list(combinations(possiblepicks,3)))\n"
      ],
      "execution_count": null,
      "outputs": [
        {
          "output_type": "stream",
          "name": "stdout",
          "text": [
            "[('black', 'red', 'joker')]\n"
          ]
        }
      ]
    },
    {
      "cell_type": "markdown",
      "source": [
        "##5th Order Of Bionomial Expression"
      ],
      "metadata": {
        "id": "COteAlHJdIeX"
      }
    },
    {
      "cell_type": "markdown",
      "source": [
        "For the 5th order of given bionomial expression\n",
        "\n",
        "$$\n",
        "{{(x-3)}^9}\n",
        "$$"
      ],
      "metadata": {
        "id": "sE0tyYCUbomU"
      }
    },
    {
      "cell_type": "markdown",
      "source": [
        "5th Order= 9C5*(-3)^4\n",
        "         = 126*81\n",
        "         =10,206"
      ],
      "metadata": {
        "id": "Ayk4cls1chVW"
      }
    }
  ]
}