{
  "nbformat": 4,
  "nbformat_minor": 0,
  "metadata": {
    "colab": {
      "name": "Untitled0.ipynb",
      "provenance": [],
      "include_colab_link": true
    },
    "kernelspec": {
      "name": "python3",
      "display_name": "Python 3"
    }
  },
  "cells": [
    {
      "cell_type": "markdown",
      "metadata": {
        "id": "view-in-github",
        "colab_type": "text"
      },
      "source": [
        "<a href=\"https://colab.research.google.com/github/sanjay6131/discussion-3/blob/main/MyProjectExample/ProjectPart1.ipynb\" target=\"_parent\"><img src=\"https://colab.research.google.com/assets/colab-badge.svg\" alt=\"Open In Colab\"/></a>"
      ]
    },
    {
      "cell_type": "markdown",
      "metadata": {
        "id": "YCJaepmmfKrS"
      },
      "source": [
        "# Project Part # 1: CPSMA 3133 Discrete Mathematics \n",
        "\n",
        "## Sets, Relations and Functions\n",
        "\n",
        "### Sanjay Katuwal(270080)\n",
        "\n",
        "\n",
        "\n"
      ]
    },
    {
      "cell_type": "markdown",
      "metadata": {
        "id": "Xs_Pvtua1Nnt"
      },
      "source": [
        "## 1 Sets"
      ]
    },
    {
      "cell_type": "markdown",
      "metadata": {
        "id": "2z6U1aB_fQDM"
      },
      "source": [
        "\n",
        "I have created sets of natural numbers from 1 to 15.\n",
        "\n",
        "My set $P$ consists of first five prime numbers and set $O$ consists of first five odd numbers and set $D$ consists of first five numbers divisible by 3. \n",
        "\n",
        "\n"
      ]
    },
    {
      "cell_type": "code",
      "metadata": {
        "id": "rU_BgC_kfH7g"
      },
      "source": [
        "P = ['2', '3', '5', '7', '11']\n",
        "O = ['1', '3', '5', '7', '9']\n",
        "D = ['3', '6', '9', '12', '15']\n",
        "\n"
      ],
      "execution_count": 19,
      "outputs": []
    },
    {
      "cell_type": "markdown",
      "metadata": {
        "id": "Iggon6VK1Vxo"
      },
      "source": [
        "My universal set $U$ consists of natural numbers less or equal to 15. \n",
        "\n"
      ]
    },
    {
      "cell_type": "markdown",
      "metadata": {
        "id": "W-oHYKU19sjl"
      },
      "source": [
        "I am going to do a union and intersection with *for* loops."
      ]
    },
    {
      "cell_type": "code",
      "metadata": {
        "colab": {
          "base_uri": "https://localhost:8080/"
        },
        "id": "pWsppmpY9gMw",
        "outputId": "378aaec2-a3c2-4b0d-cd4a-6ae5f2953e05"
      },
      "source": [
        "PUO = []\n",
        "for numbers in P:\n",
        "  PUO.append(numbers) #Add all the numbers from P\n",
        "for numbers in O:\n",
        "  PUO.append(numbers) # Add all the numbers from O\n",
        "\n",
        "PUO = set(PUO) #change the list to a set removes duplicates and alphabetize\n",
        "\n",
        "PUO "
      ],
      "execution_count": 20,
      "outputs": [
        {
          "output_type": "execute_result",
          "data": {
            "text/plain": [
              "{'1', '11', '2', '3', '5', '7', '9'}"
            ]
          },
          "metadata": {},
          "execution_count": 20
        }
      ]
    },
    {
      "cell_type": "code",
      "source": [
        "DUO = []\n",
        "for numbers in D:\n",
        "  DUO.append(numbers) #Add all the numbers from D\n",
        "for numbers in O:\n",
        "  DUO.append(numbers) # Add all the numbers from O\n",
        "\n",
        "DUO = set(DUO) #change the list to a set removes duplicates and alphabetize\n",
        "DUO"
      ],
      "metadata": {
        "colab": {
          "base_uri": "https://localhost:8080/"
        },
        "id": "IPtHcZkLOEzL",
        "outputId": "766deba8-237f-46c7-f985-98a472ebb6b7"
      },
      "execution_count": 29,
      "outputs": [
        {
          "output_type": "execute_result",
          "data": {
            "text/plain": [
              "{'1', '12', '15', '3', '5', '6', '7', '9'}"
            ]
          },
          "metadata": {},
          "execution_count": 29
        }
      ]
    },
    {
      "cell_type": "code",
      "source": [
        "PUD = []\n",
        "for numbers in P:\n",
        "  PUD.append(numbers) #Add all the numbers from P\n",
        "for numbers in D:\n",
        "  PUD.append(numbers) # Add all the numbers from O\n",
        "\n",
        "PUD = set(PUD) #change the list to a set removes duplicates and alphabetize\n",
        "PUD"
      ],
      "metadata": {
        "colab": {
          "base_uri": "https://localhost:8080/"
        },
        "id": "xGUmGMy9PBAN",
        "outputId": "0e8a301c-88e1-49da-aac6-d5960e02dcd2"
      },
      "execution_count": 31,
      "outputs": [
        {
          "output_type": "execute_result",
          "data": {
            "text/plain": [
              "{'10', '12', '13', '14', '15', '3', '4', '6', '8', '9'}"
            ]
          },
          "metadata": {},
          "execution_count": 31
        }
      ]
    },
    {
      "cell_type": "markdown",
      "metadata": {
        "id": "fepggJuCvS5s"
      },
      "source": [
        "I used a conditional **if** for the intersection."
      ]
    },
    {
      "cell_type": "code",
      "metadata": {
        "id": "wW5pXHmgtJ-o",
        "colab": {
          "base_uri": "https://localhost:8080/"
        },
        "outputId": "7090f0dd-aedf-4f34-9a0a-ebbf34d0f3d0"
      },
      "source": [
        "PIntO = []\n",
        "for numbers in P:\n",
        "  if numbers in O:\n",
        "    PIntO.append(numbers)\n",
        "\n",
        "PIntO"
      ],
      "execution_count": 22,
      "outputs": [
        {
          "output_type": "execute_result",
          "data": {
            "text/plain": [
              "['3', '5', '7']"
            ]
          },
          "metadata": {},
          "execution_count": 22
        }
      ]
    },
    {
      "cell_type": "code",
      "source": [
        "DIntO = []\n",
        "for numbers in D:\n",
        "  if numbers in O:\n",
        "    DIntO.append(numbers)\n",
        "\n",
        "DIntO"
      ],
      "metadata": {
        "colab": {
          "base_uri": "https://localhost:8080/"
        },
        "id": "F3_TKcM5PgQk",
        "outputId": "312b45f4-fced-40e0-a8f9-dc7904de8f95"
      },
      "execution_count": 33,
      "outputs": [
        {
          "output_type": "execute_result",
          "data": {
            "text/plain": [
              "['3', '9']"
            ]
          },
          "metadata": {},
          "execution_count": 33
        }
      ]
    },
    {
      "cell_type": "code",
      "source": [
        "DIntP = []\n",
        "for numbers in D:\n",
        "  if numbers in P:\n",
        "    DIntP.append(numbers)\n",
        "\n",
        "DIntP"
      ],
      "metadata": {
        "colab": {
          "base_uri": "https://localhost:8080/"
        },
        "id": "y2VGyqB9PtEz",
        "outputId": "55b2ecdf-029f-405b-e832-683d4a5b6e74"
      },
      "execution_count": 37,
      "outputs": [
        {
          "output_type": "execute_result",
          "data": {
            "text/plain": [
              "[]"
            ]
          },
          "metadata": {},
          "execution_count": 37
        }
      ]
    },
    {
      "cell_type": "markdown",
      "metadata": {
        "id": "2rzub-TYt7EE"
      },
      "source": [
        "Making  Universal set $U$ as Universal."
      ]
    },
    {
      "cell_type": "code",
      "metadata": {
        "id": "XeLl2OC6uGea",
        "colab": {
          "base_uri": "https://localhost:8080/"
        },
        "outputId": "645823fe-dbb1-4bec-b4c0-394942dd8019"
      },
      "source": [
        "Universal = [P,O,D]\n",
        "U = []\n",
        "for sett in Universal:\n",
        "  for numbers in sett:\n",
        "    U.append(numbers)\n",
        "\n",
        "set(U)"
      ],
      "execution_count": 56,
      "outputs": [
        {
          "output_type": "execute_result",
          "data": {
            "text/plain": [
              "{'1', '10', '12', '13', '14', '15', '3', '4', '5', '6', '7', '8', '9'}"
            ]
          },
          "metadata": {},
          "execution_count": 56
        }
      ]
    },
    {
      "cell_type": "code",
      "metadata": {
        "id": "jJunB-FKuwNC"
      },
      "source": [
        "P = ['4', '8', '10', '13', '14']\n",
        "\n",
        "for numbers in P:\n",
        "  U.append(numbers)\n",
        "\n"
      ],
      "execution_count": 57,
      "outputs": []
    },
    {
      "cell_type": "markdown",
      "metadata": {
        "id": "iktL7sDFvfOE"
      },
      "source": [
        "I'll use the **not in** for the complement."
      ]
    },
    {
      "cell_type": "code",
      "metadata": {
        "id": "i9G8k8gsvng2",
        "colab": {
          "base_uri": "https://localhost:8080/"
        },
        "outputId": "27f12e23-ad3a-4402-afb5-ee6977aa118a"
      },
      "source": [
        "PComplement =[]\n",
        "\n",
        "for numbers in U:\n",
        "  if numbers not in P:\n",
        "    PComplement.append(numbers)\n",
        "\n",
        "PComplement"
      ],
      "execution_count": 58,
      "outputs": [
        {
          "output_type": "execute_result",
          "data": {
            "text/plain": [
              "['1', '3', '5', '7', '9', '3', '6', '9', '12', '15']"
            ]
          },
          "metadata": {},
          "execution_count": 58
        }
      ]
    },
    {
      "cell_type": "code",
      "source": [
        "DComplement =[]\n",
        "\n",
        "for numbers in U:\n",
        "  if numbers not in D:\n",
        "    DComplement.append(numbers)\n",
        "\n",
        "DComplement"
      ],
      "metadata": {
        "colab": {
          "base_uri": "https://localhost:8080/"
        },
        "id": "9ryOsIDrS3gf",
        "outputId": "5e93a456-f109-4ada-9fe0-a93a6adaf687"
      },
      "execution_count": 59,
      "outputs": [
        {
          "output_type": "execute_result",
          "data": {
            "text/plain": [
              "['4', '8', '10', '13', '14', '1', '5', '7', '4', '8', '10', '13', '14']"
            ]
          },
          "metadata": {},
          "execution_count": 59
        }
      ]
    },
    {
      "cell_type": "code",
      "source": [
        "OComplement =[]\n",
        "\n",
        "for numbers in U:\n",
        "  if numbers not in O:\n",
        "    OComplement.append(numbers)\n",
        "\n",
        "OComplement"
      ],
      "metadata": {
        "colab": {
          "base_uri": "https://localhost:8080/"
        },
        "id": "P_ghWkZSTTYN",
        "outputId": "c549ad07-9405-4660-c389-21406e338e33"
      },
      "execution_count": 60,
      "outputs": [
        {
          "output_type": "execute_result",
          "data": {
            "text/plain": [
              "['4', '8', '10', '13', '14', '6', '12', '15', '4', '8', '10', '13', '14']"
            ]
          },
          "metadata": {},
          "execution_count": 60
        }
      ]
    },
    {
      "cell_type": "markdown",
      "source": [
        "13 is a prime number but it is still in PComplement because my set P consists of first five prime numbers and 13 comes the sixth prime number."
      ],
      "metadata": {
        "id": "TVWT1EpUL92W"
      }
    },
    {
      "cell_type": "markdown",
      "source": [
        "For the Intersections and Unions, I could not find anything interesting but Unions have almost same number of elements and intersections have almost same number of elements."
      ],
      "metadata": {
        "id": "sOl8GLrxTnrv"
      }
    },
    {
      "cell_type": "markdown",
      "source": [
        "No set is a subset of oyher set."
      ],
      "metadata": {
        "id": "bXPOy17VaYnj"
      }
    },
    {
      "cell_type": "markdown",
      "metadata": {
        "id": "Mvv6ENoX35Xi"
      },
      "source": [
        "To make a powerset we have to use loops as it is the easiest way.  And it will start with an emptyset and adds a number to it, putting that set and the empty set into the powerset. It then resets to the next number in the original set.  It puts that number into each of the previous two in the powerset and doubles the size of the powerset. So this will keep going untill all the numbers are present. "
      ]
    },
    {
      "cell_type": "code",
      "metadata": {
        "id": "nqn99nTKys3b"
      },
      "source": [
        "def PODpowerset(s):\n",
        "  powerset = [[]]\n",
        "  for i in s:\n",
        "    for sett in powerset:\n",
        "      powerset = powerset + [sett + [i]]\n",
        "  return powerset\n",
        "\n",
        "\n"
      ],
      "execution_count": 61,
      "outputs": []
    },
    {
      "cell_type": "markdown",
      "metadata": {
        "id": "SQSH-fFYwNls"
      },
      "source": [
        "Powersets I am going to do with a little bit of stackoverflow help...  This one is a little vudoo to me.  It's doing somehting with bits and the zip and yield suppresses the output until you call it.  There is always more than one way to do something!  Taken from <https://stackoverflow.com/questions/1482308/how-to-get-all-subsets-of-a-set-powerset>"
      ]
    },
    {
      "cell_type": "code",
      "metadata": {
        "id": "swqnKRoyxh7z",
        "colab": {
          "base_uri": "https://localhost:8080/"
        },
        "outputId": "d12661e9-29fa-4950-a2ca-8afd23d807fd"
      },
      "source": [
        "def powerset(s):\n",
        "    x = len(s)\n",
        "    masks = [2**i for i in range(x)]\n",
        "    for i in range(2**x):\n",
        "        yield [ss for mask, ss in zip(masks, s) if i & mask]\n",
        "\n",
        "print(list(powerset(P)))"
      ],
      "execution_count": 63,
      "outputs": [
        {
          "output_type": "stream",
          "name": "stdout",
          "text": [
            "[[], ['4'], ['8'], ['4', '8'], ['10'], ['4', '10'], ['8', '10'], ['4', '8', '10'], ['13'], ['4', '13'], ['8', '13'], ['4', '8', '13'], ['10', '13'], ['4', '10', '13'], ['8', '10', '13'], ['4', '8', '10', '13'], ['14'], ['4', '14'], ['8', '14'], ['4', '8', '14'], ['10', '14'], ['4', '10', '14'], ['8', '10', '14'], ['4', '8', '10', '14'], ['13', '14'], ['4', '13', '14'], ['8', '13', '14'], ['4', '8', '13', '14'], ['10', '13', '14'], ['4', '10', '13', '14'], ['8', '10', '13', '14'], ['4', '8', '10', '13', '14']]\n"
          ]
        }
      ]
    },
    {
      "cell_type": "code",
      "source": [
        "def powerset(s):\n",
        "    Y = len(s)\n",
        "    masks = [2**i for i in range(Y)]\n",
        "    for i in range(2**Y):\n",
        "        yield [ss for mask, ss in zip(masks, s) if i & mask]\n",
        "\n",
        "print(list(powerset(Universal)))"
      ],
      "metadata": {
        "colab": {
          "base_uri": "https://localhost:8080/"
        },
        "id": "jowDDTOuXP2v",
        "outputId": "5fe56e70-2ae7-45d9-b14b-9a1f5995fee3"
      },
      "execution_count": 65,
      "outputs": [
        {
          "output_type": "stream",
          "name": "stdout",
          "text": [
            "[[], [['4', '8', '10', '13', '14']], [['1', '3', '5', '7', '9']], [['4', '8', '10', '13', '14'], ['1', '3', '5', '7', '9']], [['3', '6', '9', '12', '15']], [['4', '8', '10', '13', '14'], ['3', '6', '9', '12', '15']], [['1', '3', '5', '7', '9'], ['3', '6', '9', '12', '15']], [['4', '8', '10', '13', '14'], ['1', '3', '5', '7', '9'], ['3', '6', '9', '12', '15']]]\n"
          ]
        }
      ]
    },
    {
      "cell_type": "markdown",
      "metadata": {
        "id": "zqwIp4U9Di75"
      },
      "source": [
        "How do you check for subsets?  My guess is there is something handy to do that built into python but I am up for an adventure today!"
      ]
    },
    {
      "cell_type": "code",
      "metadata": {
        "colab": {
          "base_uri": "https://localhost:8080/"
        },
        "id": "yXoW9P_MDigU",
        "outputId": "7102e6f5-e791-419a-f3ab-8d8e5eeb30f8"
      },
      "source": [
        "def IsPSubset(P,O):\n",
        "  for a in P:\n",
        "    if a not in O:\n",
        "      return False\n",
        "  return True\n",
        "\n",
        "IsPSubset(P,U)"
      ],
      "execution_count": 66,
      "outputs": [
        {
          "output_type": "execute_result",
          "data": {
            "text/plain": [
              "True"
            ]
          },
          "metadata": {},
          "execution_count": 66
        }
      ]
    },
    {
      "cell_type": "markdown",
      "metadata": {
        "id": "92d2PXvfEI9v"
      },
      "source": [
        "Looks like it works!  But why...  well the only time I drop into the condition of the if statement is if a is not in B and that means it is not a subset.  Otherwise you'll just get true"
      ]
    },
    {
      "cell_type": "markdown",
      "metadata": {
        "id": "_7RoPTU_hXG1"
      },
      "source": [
        "## 2 Functions"
      ]
    },
    {
      "cell_type": "markdown",
      "metadata": {
        "id": "MMXFYCZ6hajg"
      },
      "source": [
        "Let's define a **fun**ction!\n",
        "\n",
        "$$\n",
        "f(x) = \\frac{1}{\\sqrt{2\\pi}} e^{-\\frac{x^2}2}\n",
        "$$\n",
        "\n"
      ]
    },
    {
      "cell_type": "code",
      "metadata": {
        "id": "5U5T3Fld5X0S"
      },
      "source": [
        "import math\n",
        "import numpy as np\n",
        "\n",
        "def gaussian(x):\n",
        "  return 1/math.sqrt(2*math.pi)*np.e**(-x**2/2)\n",
        "\n"
      ],
      "execution_count": null,
      "outputs": []
    },
    {
      "cell_type": "code",
      "metadata": {
        "id": "uLBv3fem18Uh",
        "colab": {
          "base_uri": "https://localhost:8080/"
        },
        "outputId": "98f3af1b-05a9-4b9e-dd4c-e84a694aa752"
      },
      "source": [
        "gaussian(0)"
      ],
      "execution_count": null,
      "outputs": [
        {
          "output_type": "execute_result",
          "data": {
            "text/plain": [
              "0.3989422804014327"
            ]
          },
          "metadata": {},
          "execution_count": 4
        }
      ]
    },
    {
      "cell_type": "code",
      "metadata": {
        "id": "j29xWwmx2EWr",
        "colab": {
          "base_uri": "https://localhost:8080/",
          "height": 284
        },
        "outputId": "b0da2562-df4e-4296-8b0f-104530334840"
      },
      "source": [
        "import matplotlib.pyplot as plt\n",
        "\n",
        "x = np.arange(-4,4,.1)\n",
        "\n",
        "plt.plot(x,gaussian(x))"
      ],
      "execution_count": null,
      "outputs": [
        {
          "output_type": "execute_result",
          "data": {
            "text/plain": [
              "[<matplotlib.lines.Line2D at 0x7f29e8e66210>]"
            ]
          },
          "metadata": {},
          "execution_count": 5
        },
        {
          "output_type": "display_data",
          "data": {
            "image/png": "[encoded data removed]",
            "text/plain": [
              "<Figure size 432x288 with 1 Axes>"
            ]
          },
          "metadata": {
            "needs_background": "light"
          }
        }
      ]
    },
    {
      "cell_type": "markdown",
      "metadata": {
        "id": "0aknI3rU2usV"
      },
      "source": [
        "My function is not bijective on the graphed domain.  Instead I will work on the interval $[0,4]$.  I'll compute the inverse by hand.\n",
        "\n",
        "$$\n",
        "y = \\frac{1}{\\sqrt{2\\pi}}e^{-\\frac{x^2}2}\n",
        "$$\n",
        "\n",
        "Swapping $x$ and $y$.\n",
        "\n",
        "$$\n",
        "x = \\frac{1}{\\sqrt{2\\pi}}e^{-\\frac{y^2}2}\n",
        "$$\n",
        "\n",
        "Now solve for $y$.\n",
        "\n",
        "$$\n",
        "\\ln\\left(\\sqrt{2\\pi}x\\right) = -\\frac{y^2}2\n",
        "$$\n",
        "$$\n",
        "y = \\sqrt{-2\\ln\\left(\\sqrt{2\\pi}x\\right)}\n",
        "$$\n",
        "\n",
        "So we define the function"
      ]
    },
    {
      "cell_type": "code",
      "metadata": {
        "id": "OQ9pb8Eb2mlc"
      },
      "source": [
        "def gaussianInverse(x):\n",
        "  return np.sqrt(-2*np.log(math.sqrt(2*math.pi)*x))"
      ],
      "execution_count": null,
      "outputs": []
    },
    {
      "cell_type": "code",
      "metadata": {
        "id": "xbY6jD8z4Tn4",
        "colab": {
          "base_uri": "https://localhost:8080/"
        },
        "outputId": "58bb860a-b887-4bd8-b740-65ad60e0d57c"
      },
      "source": [
        "gaussianInverse(gaussian(4))"
      ],
      "execution_count": null,
      "outputs": [
        {
          "output_type": "execute_result",
          "data": {
            "text/plain": [
              "4.0"
            ]
          },
          "metadata": {},
          "execution_count": 11
        }
      ]
    },
    {
      "cell_type": "code",
      "metadata": {
        "id": "bad9NzKq4ZsS",
        "colab": {
          "base_uri": "https://localhost:8080/",
          "height": 363
        },
        "outputId": "6cfeb0d5-e08a-4e55-fc2d-3fae0f0d97dd"
      },
      "source": [
        "import matplotlib.pyplot as plt\n",
        "\n",
        "x1 = np.arange(0,4,.1)\n",
        "x2 = np.arange(0,.5,.01)\n",
        "\n",
        "plt.plot(x1,gaussian(x1))\n",
        "plt.plot(x2,gaussianInverse(x2))\n",
        "plt.plot(x1,x1)\n",
        "\n",
        "plt.xlim(0, 2)\n",
        "plt.ylim(0, 2)"
      ],
      "execution_count": null,
      "outputs": [
        {
          "output_type": "stream",
          "name": "stderr",
          "text": [
            "/usr/local/lib/python3.7/dist-packages/ipykernel_launcher.py:2: RuntimeWarning: divide by zero encountered in log\n",
            "  \n",
            "/usr/local/lib/python3.7/dist-packages/ipykernel_launcher.py:2: RuntimeWarning: invalid value encountered in sqrt\n",
            "  \n"
          ]
        },
        {
          "output_type": "execute_result",
          "data": {
            "text/plain": [
              "(0.0, 2.0)"
            ]
          },
          "metadata": {},
          "execution_count": 19
        },
        {
          "output_type": "display_data",
          "data": {
            "image/png": "[encoded data removed]",
            "text/plain": [
              "<Figure size 432x288 with 1 Axes>"
            ]
          },
          "metadata": {
            "needs_background": "light"
          }
        }
      ]
    },
    {
      "cell_type": "markdown",
      "metadata": {
        "id": "P6-VWOK96X7f"
      },
      "source": [
        "I did some trickery here to make the picture look as desired.  I set the limits on the $x$ and $y$ axis to be the same and graphed the line $y=x$ to show the reflection of the inverse."
      ]
    },
    {
      "cell_type": "code",
      "metadata": {
        "id": "6-svUVAm4lim"
      },
      "source": [
        ""
      ],
      "execution_count": null,
      "outputs": []
    },
    {
      "cell_type": "markdown",
      "metadata": {
        "id": "AlV-hH4Y7Gnn"
      },
      "source": [
        "## 3 Dictionaries"
      ]
    },
    {
      "cell_type": "markdown",
      "metadata": {
        "id": "Adb_VTcw7Rr0"
      },
      "source": [
        "I am going to define a dictionary that creates a relationship between set $A$ and $B$ is an honest way."
      ]
    },
    {
      "cell_type": "code",
      "metadata": {
        "id": "X2Fp1dmX7LfM"
      },
      "source": [
        "A = ['Luke', 'Han', 'C3PO', 'Leia', 'R2D2', 'Darth Vader', 'Obi-Wan']\n",
        "B = ['Anakin', 'Obi-Wan', 'Padme', 'C3PO', 'R2D2', 'Jar-Jar']\n",
        "\n",
        "dictionary = dict({a:b for a,b in zip(A, B)})"
      ],
      "execution_count": null,
      "outputs": []
    },
    {
      "cell_type": "code",
      "metadata": {
        "id": "3tbnriA88FeV",
        "colab": {
          "base_uri": "https://localhost:8080/"
        },
        "outputId": "f2c1948b-f58a-4c68-a67d-2eeeb32904da"
      },
      "source": [
        "dictionary"
      ],
      "execution_count": null,
      "outputs": [
        {
          "output_type": "execute_result",
          "data": {
            "text/plain": [
              "{'C3PO': 'Padme',\n",
              " 'Darth Vader': 'Jar-Jar',\n",
              " 'Han': 'Obi-Wan',\n",
              " 'Leia': 'C3PO',\n",
              " 'Luke': 'Anakin',\n",
              " 'R2D2': 'R2D2'}"
            ]
          },
          "metadata": {},
          "execution_count": 22
        }
      ]
    },
    {
      "cell_type": "markdown",
      "metadata": {
        "id": "yUuWijoK8ims"
      },
      "source": [
        "This is a quick way to do it but not meaningful!  I'll do it again but pay attention to what I want."
      ]
    },
    {
      "cell_type": "code",
      "metadata": {
        "id": "XJOb2Z_D8V-e"
      },
      "source": [
        "actualDictionary = dict({'Darth Vader':'Anakin','Han':'Jar-Jar','Leia':'Padme'})\n",
        "\n",
        "#the only one that really makes sence is Anakin and Darth Vader"
      ],
      "execution_count": null,
      "outputs": []
    },
    {
      "cell_type": "code",
      "metadata": {
        "id": "m8ddmwnG9GRz"
      },
      "source": [
        "newList = [actualDictionary.get(x,x) for x in C ]"
      ],
      "execution_count": null,
      "outputs": []
    },
    {
      "cell_type": "code",
      "metadata": {
        "id": "sFMowKgy9XPj",
        "colab": {
          "base_uri": "https://localhost:8080/"
        },
        "outputId": "0f405ff3-6ee4-4e06-a0d6-fddbb219ad88"
      },
      "source": [
        "newList #no changes happened here!"
      ],
      "execution_count": null,
      "outputs": [
        {
          "output_type": "execute_result",
          "data": {
            "text/plain": [
              "['Rey', 'Finn', 'R2D2', 'C3PO', 'BB8', 'Poe']"
            ]
          },
          "metadata": {},
          "execution_count": 26
        }
      ]
    },
    {
      "cell_type": "code",
      "metadata": {
        "id": "MHgozIOO9YWS"
      },
      "source": [
        "newlist2 = [actualDictionary.get(x,x) for x in A]"
      ],
      "execution_count": null,
      "outputs": []
    },
    {
      "cell_type": "code",
      "metadata": {
        "id": "oDUGPTva9lED",
        "colab": {
          "base_uri": "https://localhost:8080/"
        },
        "outputId": "d3e4c1ac-895e-49ba-a462-32abd262234e"
      },
      "source": [
        "newlist2"
      ],
      "execution_count": null,
      "outputs": [
        {
          "output_type": "execute_result",
          "data": {
            "text/plain": [
              "['Luke', 'Jar-Jar', 'C3PO', 'Padme', 'R2D2', 'Anakin', 'Obi-Wan']"
            ]
          },
          "metadata": {},
          "execution_count": 28
        }
      ]
    },
    {
      "cell_type": "markdown",
      "metadata": {
        "id": "oSl27AmL9os0"
      },
      "source": [
        "This did make some changes to the list!  This dictonary is a function, I only change a few things and nothing into the same item (I don't think dictonaries can do that).  It is not onto so not bi-jective.  \n",
        "\n",
        "The relation is not an endo relation but it is not symmetric darth vader goes to anakin but not back.  Not reflexive since I don't transfer Han back to Han.  It is transitive because there is no counter example!  Basically I never mapped anything from the range in the domain so it is transitive. "
      ]
    },
    {
      "cell_type": "code",
      "metadata": {
        "id": "JUImtbh49mOC"
      },
      "source": [
        ""
      ],
      "execution_count": null,
      "outputs": []
    }
  ]
}