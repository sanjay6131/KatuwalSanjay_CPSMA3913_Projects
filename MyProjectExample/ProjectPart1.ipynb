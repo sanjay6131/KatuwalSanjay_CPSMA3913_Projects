{
  "nbformat": 4,
  "nbformat_minor": 0,
  "metadata": {
    "colab": {
      "name": "Untitled0.ipynb",
      "provenance": [],
      "include_colab_link": true
    },
    "kernelspec": {
      "name": "python3",
      "display_name": "Python 3"
    }
  },
  "cells": [
    {
      "cell_type": "markdown",
      "metadata": {
        "id": "view-in-github",
        "colab_type": "text"
      },
      "source": [
        "<a href=\"https://colab.research.google.com/github/sanjay6131/KatuwalSanjay_CPSMA3913_SETS/blob/main/MyProjectExample/ProjectPart1.ipynb\" target=\"_parent\"><img src=\"https://colab.research.google.com/assets/colab-badge.svg\" alt=\"Open In Colab\"/></a>"
      ]
    },
    {
      "cell_type": "markdown",
      "metadata": {
        "id": "YCJaepmmfKrS"
      },
      "source": [
        "# Project Part # 1: CPSMA 3133 Discrete Mathematics (Dr. Jacob) \n",
        "\n",
        "## Sets, Relations and Functions\n",
        "\n",
        "### Sanjay Katuwal(270080)\n",
        "\n",
        "\n",
        "\n"
      ]
    },
    {
      "cell_type": "markdown",
      "metadata": {
        "id": "Xs_Pvtua1Nnt"
      },
      "source": [
        "##Sets and Universal"
      ]
    },
    {
      "cell_type": "markdown",
      "metadata": {
        "id": "2z6U1aB_fQDM"
      },
      "source": [
        "\n",
        "I have created sets of natural numbers from 1 to 15.\n",
        "\n",
        "My set $P$ consists of first five prime numbers and set $O$ consists of first five odd numbers and set $D$ consists of first five numbers divisible by 3. \n",
        "\n",
        "\n"
      ]
    },
    {
      "cell_type": "code",
      "metadata": {
        "id": "rU_BgC_kfH7g"
      },
      "source": [
        "P = ['2', '3', '5', '7', '11']\n",
        "O = ['1', '3', '5', '7', '9']\n",
        "D = ['3', '6', '9', '12', '15']\n",
        "\n"
      ],
      "execution_count": 2,
      "outputs": []
    },
    {
      "cell_type": "markdown",
      "metadata": {
        "id": "Iggon6VK1Vxo"
      },
      "source": [
        "My universal set $U$ consists of natural numbers less or equal to 15 which is a set of sets P,O,D.\n",
        "\n"
      ]
    },
    {
      "cell_type": "markdown",
      "metadata": {
        "id": "2rzub-TYt7EE"
      },
      "source": [
        "Making  Universal set $U$ as Universal."
      ]
    },
    {
      "cell_type": "code",
      "metadata": {
        "id": "XeLl2OC6uGea",
        "colab": {
          "base_uri": "https://localhost:8080/"
        },
        "outputId": "1c9637a5-46af-4fba-930c-9688133c8055"
      },
      "source": [
        "Universalset = [P,O,D]\n",
        "U = []\n",
        "for sett in Universalset:\n",
        "  for numbers in sett:\n",
        "    U.append(numbers)\n",
        "\n",
        "set(U)"
      ],
      "execution_count": 3,
      "outputs": [
        {
          "output_type": "execute_result",
          "data": {
            "text/plain": [
              "{'1', '11', '12', '15', '2', '3', '5', '6', '7', '9'}"
            ]
          },
          "metadata": {},
          "execution_count": 3
        }
      ]
    },
    {
      "cell_type": "markdown",
      "source": [
        "## Union and Intersection"
      ],
      "metadata": {
        "id": "poU1XqeKo1C0"
      }
    },
    {
      "cell_type": "markdown",
      "metadata": {
        "id": "W-oHYKU19sjl"
      },
      "source": [
        "I am going to do a union and intersection with *for* loops."
      ]
    },
    {
      "cell_type": "code",
      "metadata": {
        "colab": {
          "base_uri": "https://localhost:8080/"
        },
        "id": "pWsppmpY9gMw",
        "outputId": "4f6a7f2f-41d3-4025-bf01-68956bb0b958"
      },
      "source": [
        "PUO = []\n",
        "for numbers in P:\n",
        "  PUO.append(numbers) \n",
        "for numbers in O:\n",
        "  PUO.append(numbers)\n",
        "\n",
        "PUO = set(PUO) \n",
        "\n",
        "PUO "
      ],
      "execution_count": 4,
      "outputs": [
        {
          "output_type": "execute_result",
          "data": {
            "text/plain": [
              "{'1', '11', '2', '3', '5', '7', '9'}"
            ]
          },
          "metadata": {},
          "execution_count": 4
        }
      ]
    },
    {
      "cell_type": "code",
      "source": [
        "DUO = []\n",
        "for numbers in D:\n",
        "  DUO.append(numbers) \n",
        "for numbers in O:\n",
        "  DUO.append(numbers) \n",
        "\n",
        "DUO = set(DUO) \n",
        "DUO"
      ],
      "metadata": {
        "colab": {
          "base_uri": "https://localhost:8080/"
        },
        "id": "IPtHcZkLOEzL",
        "outputId": "35441d94-efd2-430c-d080-4d43e16b1313"
      },
      "execution_count": 5,
      "outputs": [
        {
          "output_type": "execute_result",
          "data": {
            "text/plain": [
              "{'1', '12', '15', '3', '5', '6', '7', '9'}"
            ]
          },
          "metadata": {},
          "execution_count": 5
        }
      ]
    },
    {
      "cell_type": "code",
      "source": [
        "PUD = []\n",
        "for numbers in P:\n",
        "  PUD.append(numbers) \n",
        "for numbers in D:\n",
        "  PUD.append(numbers) \n",
        "\n",
        "PUD = set(PUD) \n",
        "PUD"
      ],
      "metadata": {
        "colab": {
          "base_uri": "https://localhost:8080/"
        },
        "id": "xGUmGMy9PBAN",
        "outputId": "9bd84a9a-ad5c-411f-dcd5-85de566639e7"
      },
      "execution_count": 6,
      "outputs": [
        {
          "output_type": "execute_result",
          "data": {
            "text/plain": [
              "{'11', '12', '15', '2', '3', '5', '6', '7', '9'}"
            ]
          },
          "metadata": {},
          "execution_count": 6
        }
      ]
    },
    {
      "cell_type": "markdown",
      "metadata": {
        "id": "fepggJuCvS5s"
      },
      "source": [
        "I used a conditional **if** for the intersection."
      ]
    },
    {
      "cell_type": "code",
      "metadata": {
        "id": "wW5pXHmgtJ-o",
        "colab": {
          "base_uri": "https://localhost:8080/"
        },
        "outputId": "162125ed-661f-4998-e19a-4d44430a1697"
      },
      "source": [
        "PIntO = []\n",
        "for numbers in P:\n",
        "  if numbers in O:\n",
        "    PIntO.append(numbers)\n",
        "\n",
        "PIntO"
      ],
      "execution_count": 7,
      "outputs": [
        {
          "output_type": "execute_result",
          "data": {
            "text/plain": [
              "['3', '5', '7']"
            ]
          },
          "metadata": {},
          "execution_count": 7
        }
      ]
    },
    {
      "cell_type": "code",
      "source": [
        "DIntO = []\n",
        "for numbers in D:\n",
        "  if numbers in O:\n",
        "    DIntO.append(numbers)\n",
        "\n",
        "DIntO"
      ],
      "metadata": {
        "colab": {
          "base_uri": "https://localhost:8080/"
        },
        "id": "F3_TKcM5PgQk",
        "outputId": "3c955b83-2224-4727-baa5-854e472c1d78"
      },
      "execution_count": 8,
      "outputs": [
        {
          "output_type": "execute_result",
          "data": {
            "text/plain": [
              "['3', '9']"
            ]
          },
          "metadata": {},
          "execution_count": 8
        }
      ]
    },
    {
      "cell_type": "code",
      "source": [
        "DIntP = []\n",
        "for numbers in D:\n",
        "  if numbers in P:\n",
        "    DIntP.append(numbers)\n",
        "\n",
        "DIntP"
      ],
      "metadata": {
        "colab": {
          "base_uri": "https://localhost:8080/"
        },
        "id": "y2VGyqB9PtEz",
        "outputId": "49425f3a-2d1e-40b4-df5b-65798befe293"
      },
      "execution_count": 9,
      "outputs": [
        {
          "output_type": "execute_result",
          "data": {
            "text/plain": [
              "['3']"
            ]
          },
          "metadata": {},
          "execution_count": 9
        }
      ]
    },
    {
      "cell_type": "code",
      "metadata": {
        "id": "jJunB-FKuwNC"
      },
      "source": [
        "P = ['4', '8', '10', '13', '14']\n",
        "\n",
        "for numbers in P:\n",
        "  U.append(numbers)\n",
        "\n"
      ],
      "execution_count": 10,
      "outputs": []
    },
    {
      "cell_type": "markdown",
      "source": [
        "## Complement"
      ],
      "metadata": {
        "id": "8mFYxWd2o-bu"
      }
    },
    {
      "cell_type": "markdown",
      "metadata": {
        "id": "iktL7sDFvfOE"
      },
      "source": [
        "I'll use the **not in** for the complement."
      ]
    },
    {
      "cell_type": "code",
      "metadata": {
        "id": "i9G8k8gsvng2",
        "colab": {
          "base_uri": "https://localhost:8080/"
        },
        "outputId": "72b62788-09bd-4cd8-8b0c-58b97108bbb0"
      },
      "source": [
        "PComplement =[]\n",
        "\n",
        "for numbers in U:\n",
        "  if numbers not in P:\n",
        "    PComplement.append(numbers)\n",
        "\n",
        "PComplement"
      ],
      "execution_count": 11,
      "outputs": [
        {
          "output_type": "execute_result",
          "data": {
            "text/plain": [
              "['2', '3', '5', '7', '11', '1', '3', '5', '7', '9', '3', '6', '9', '12', '15']"
            ]
          },
          "metadata": {},
          "execution_count": 11
        }
      ]
    },
    {
      "cell_type": "code",
      "source": [
        "DComplement =[]\n",
        "\n",
        "for numbers in U:\n",
        "  if numbers not in D:\n",
        "    DComplement.append(numbers)\n",
        "\n",
        "DComplement"
      ],
      "metadata": {
        "colab": {
          "base_uri": "https://localhost:8080/"
        },
        "id": "9ryOsIDrS3gf",
        "outputId": "eca69aed-f388-439b-fbe3-90f3539a45b6"
      },
      "execution_count": 12,
      "outputs": [
        {
          "output_type": "execute_result",
          "data": {
            "text/plain": [
              "['2', '5', '7', '11', '1', '5', '7', '4', '8', '10', '13', '14']"
            ]
          },
          "metadata": {},
          "execution_count": 12
        }
      ]
    },
    {
      "cell_type": "code",
      "source": [
        "OComplement =[]\n",
        "\n",
        "for numbers in U:\n",
        "  if numbers not in O:\n",
        "    OComplement.append(numbers)\n",
        "\n",
        "OComplement"
      ],
      "metadata": {
        "colab": {
          "base_uri": "https://localhost:8080/"
        },
        "id": "P_ghWkZSTTYN",
        "outputId": "b12eec84-ab45-4f22-95de-271aaa728bec"
      },
      "execution_count": 13,
      "outputs": [
        {
          "output_type": "execute_result",
          "data": {
            "text/plain": [
              "['2', '11', '6', '12', '15', '4', '8', '10', '13', '14']"
            ]
          },
          "metadata": {},
          "execution_count": 13
        }
      ]
    },
    {
      "cell_type": "markdown",
      "source": [
        "13 is a prime number but it is still in PComplement because my set P consists of first five prime numbers and 13 comes the sixth prime number."
      ],
      "metadata": {
        "id": "TVWT1EpUL92W"
      }
    },
    {
      "cell_type": "markdown",
      "source": [
        "For the Intersections and Unions, I could not find anything interesting but Unions have almost same number of elements and intersections have almost same number of elements."
      ],
      "metadata": {
        "id": "sOl8GLrxTnrv"
      }
    },
    {
      "cell_type": "markdown",
      "source": [
        "## Powersets"
      ],
      "metadata": {
        "id": "Ay1CTiZLpGSG"
      }
    },
    {
      "cell_type": "markdown",
      "metadata": {
        "id": "Mvv6ENoX35Xi"
      },
      "source": [
        "To make a powerset we have to use loops as it is the easiest way.  "
      ]
    },
    {
      "cell_type": "code",
      "metadata": {
        "id": "nqn99nTKys3b"
      },
      "source": [
        "def PODpowerset(s):\n",
        "  powerset = [[]]\n",
        "  for i in s:\n",
        "    for sett in powerset:\n",
        "      powerset = powerset + [sett + [i]]\n",
        "  return powerset\n",
        "\n",
        "\n"
      ],
      "execution_count": 14,
      "outputs": []
    },
    {
      "cell_type": "code",
      "metadata": {
        "id": "8g-p9uha2llN",
        "colab": {
          "base_uri": "https://localhost:8080/"
        },
        "outputId": "39ecf37e-7e26-402b-bef8-c6efe3fcb96f"
      },
      "source": [
        "PODpowerset(P)"
      ],
      "execution_count": 15,
      "outputs": [
        {
          "output_type": "execute_result",
          "data": {
            "text/plain": [
              "[[],\n",
              " ['4'],\n",
              " ['8'],\n",
              " ['4', '8'],\n",
              " ['10'],\n",
              " ['4', '10'],\n",
              " ['8', '10'],\n",
              " ['4', '8', '10'],\n",
              " ['13'],\n",
              " ['4', '13'],\n",
              " ['8', '13'],\n",
              " ['4', '8', '13'],\n",
              " ['10', '13'],\n",
              " ['4', '10', '13'],\n",
              " ['8', '10', '13'],\n",
              " ['4', '8', '10', '13'],\n",
              " ['14'],\n",
              " ['4', '14'],\n",
              " ['8', '14'],\n",
              " ['4', '8', '14'],\n",
              " ['10', '14'],\n",
              " ['4', '10', '14'],\n",
              " ['8', '10', '14'],\n",
              " ['4', '8', '10', '14'],\n",
              " ['13', '14'],\n",
              " ['4', '13', '14'],\n",
              " ['8', '13', '14'],\n",
              " ['4', '8', '13', '14'],\n",
              " ['10', '13', '14'],\n",
              " ['4', '10', '13', '14'],\n",
              " ['8', '10', '13', '14'],\n",
              " ['4', '8', '10', '13', '14']]"
            ]
          },
          "metadata": {},
          "execution_count": 15
        }
      ]
    },
    {
      "cell_type": "code",
      "metadata": {
        "id": "swqnKRoyxh7z",
        "colab": {
          "base_uri": "https://localhost:8080/"
        },
        "outputId": "9112c465-e12a-4661-963c-a986f411f2ec"
      },
      "source": [
        "print(list(powerset(P)))"
      ],
      "execution_count": null,
      "outputs": [
        {
          "output_type": "stream",
          "name": "stdout",
          "text": [
            "[[], ['2'], ['3'], ['2', '3'], ['5'], ['2', '5'], ['3', '5'], ['2', '3', '5'], ['7'], ['2', '7'], ['3', '7'], ['2', '3', '7'], ['5', '7'], ['2', '5', '7'], ['3', '5', '7'], ['2', '3', '5', '7'], ['11'], ['2', '11'], ['3', '11'], ['2', '3', '11'], ['5', '11'], ['2', '5', '11'], ['3', '5', '11'], ['2', '3', '5', '11'], ['7', '11'], ['2', '7', '11'], ['3', '7', '11'], ['2', '3', '7', '11'], ['5', '7', '11'], ['2', '5', '7', '11'], ['3', '5', '7', '11'], ['2', '3', '5', '7', '11']]\n"
          ]
        }
      ]
    },
    {
      "cell_type": "code",
      "source": [
        "print(list(powerset(Universalset)))"
      ],
      "metadata": {
        "colab": {
          "base_uri": "https://localhost:8080/"
        },
        "id": "jowDDTOuXP2v",
        "outputId": "afa85815-9b79-4dc5-8d60-1041fc15f90c"
      },
      "execution_count": null,
      "outputs": [
        {
          "output_type": "stream",
          "name": "stdout",
          "text": [
            "[[], [['2', '3', '5', '7', '11']], [['1', '3', '5', '7', '9']], [['2', '3', '5', '7', '11'], ['1', '3', '5', '7', '9']], [['3', '6', '9', '12', '15']], [['2', '3', '5', '7', '11'], ['3', '6', '9', '12', '15']], [['1', '3', '5', '7', '9'], ['3', '6', '9', '12', '15']], [['2', '3', '5', '7', '11'], ['1', '3', '5', '7', '9'], ['3', '6', '9', '12', '15']]]\n"
          ]
        }
      ]
    },
    {
      "cell_type": "markdown",
      "source": [
        "Number of elements in a powerset."
      ],
      "metadata": {
        "id": "OLMkhk3De1Xc"
      }
    },
    {
      "cell_type": "code",
      "source": [
        "2**N"
      ],
      "metadata": {
        "colab": {
          "base_uri": "https://localhost:8080/"
        },
        "id": "PGhYEunP4QEX",
        "outputId": "6753b32c-49b3-488c-9f7d-16223f8429f4"
      },
      "execution_count": null,
      "outputs": [
        {
          "output_type": "execute_result",
          "data": {
            "text/plain": [
              "32768"
            ]
          },
          "metadata": {},
          "execution_count": 89
        }
      ]
    },
    {
      "cell_type": "markdown",
      "source": [
        "There are 32768 numbers in poweset of  universal set.\n",
        "\n"
      ],
      "metadata": {
        "id": "2HnuVbEwfBOB"
      }
    },
    {
      "cell_type": "markdown",
      "source": [
        "Finding out number of elements in universal."
      ],
      "metadata": {
        "id": "Pvj7CjFnenNp"
      }
    },
    {
      "cell_type": "code",
      "source": [
        "N= len(U)\n",
        "print(N)"
      ],
      "metadata": {
        "colab": {
          "base_uri": "https://localhost:8080/"
        },
        "id": "KQ0MDMWs4Dp0",
        "outputId": "2225f815-e0a2-4c40-9b12-79ea4ca7178d"
      },
      "execution_count": null,
      "outputs": [
        {
          "output_type": "stream",
          "name": "stdout",
          "text": [
            "15\n"
          ]
        }
      ]
    },
    {
      "cell_type": "markdown",
      "source": [
        "## Subsets"
      ],
      "metadata": {
        "id": "yVzY7TCGpSn-"
      }
    },
    {
      "cell_type": "code",
      "source": [
        "def IsPSubset(P,D):\n",
        "  for a in P:\n",
        "    if a not in D:\n",
        "      return False\n",
        "  return True\n",
        "\n",
        "IsPSubset(P,D)"
      ],
      "metadata": {
        "colab": {
          "base_uri": "https://localhost:8080/"
        },
        "id": "WjZVCU72oXmD",
        "outputId": "1cdc278c-9e33-415b-8481-4de0e6b66a7f"
      },
      "execution_count": null,
      "outputs": [
        {
          "output_type": "execute_result",
          "data": {
            "text/plain": [
              "False"
            ]
          },
          "metadata": {},
          "execution_count": 50
        }
      ]
    },
    {
      "cell_type": "code",
      "source": [
        "IsPSubset(D,O)"
      ],
      "metadata": {
        "colab": {
          "base_uri": "https://localhost:8080/"
        },
        "id": "G4OVPMbDocN_",
        "outputId": "fdccf5aa-8022-4481-aa42-8a9275c7f0e8"
      },
      "execution_count": null,
      "outputs": [
        {
          "output_type": "execute_result",
          "data": {
            "text/plain": [
              "False"
            ]
          },
          "metadata": {},
          "execution_count": 84
        }
      ]
    },
    {
      "cell_type": "code",
      "source": [
        "IsPSubset(P,O)"
      ],
      "metadata": {
        "colab": {
          "base_uri": "https://localhost:8080/"
        },
        "id": "5q57pxBt2598",
        "outputId": "df90ecbb-30af-49c5-d987-d5b322c6be0b"
      },
      "execution_count": null,
      "outputs": [
        {
          "output_type": "execute_result",
          "data": {
            "text/plain": [
              "False"
            ]
          },
          "metadata": {},
          "execution_count": 83
        }
      ]
    },
    {
      "cell_type": "code",
      "source": [
        "IsPSubset(P,P)"
      ],
      "metadata": {
        "colab": {
          "base_uri": "https://localhost:8080/"
        },
        "id": "8YT90z2S1d5q",
        "outputId": "01c4b4f6-bf8a-46e1-c255-9f287d0b17b8"
      },
      "execution_count": null,
      "outputs": [
        {
          "output_type": "execute_result",
          "data": {
            "text/plain": [
              "True"
            ]
          },
          "metadata": {},
          "execution_count": 75
        }
      ]
    },
    {
      "cell_type": "code",
      "source": [
        "IsPSubset(O,O)"
      ],
      "metadata": {
        "colab": {
          "base_uri": "https://localhost:8080/"
        },
        "id": "B5O_w0km13hU",
        "outputId": "68329b5d-5e57-4689-d394-0f59ea011721"
      },
      "execution_count": null,
      "outputs": [
        {
          "output_type": "execute_result",
          "data": {
            "text/plain": [
              "True"
            ]
          },
          "metadata": {},
          "execution_count": 76
        }
      ]
    },
    {
      "cell_type": "code",
      "source": [
        "IsPSubset(D,D)"
      ],
      "metadata": {
        "colab": {
          "base_uri": "https://localhost:8080/"
        },
        "id": "xibk0xVC1_zn",
        "outputId": "847df4d3-aed2-4c9d-da34-34ba2316fa29"
      },
      "execution_count": null,
      "outputs": [
        {
          "output_type": "execute_result",
          "data": {
            "text/plain": [
              "True"
            ]
          },
          "metadata": {},
          "execution_count": 77
        }
      ]
    },
    {
      "cell_type": "code",
      "source": [
        "IsPSubset(U,U)"
      ],
      "metadata": {
        "colab": {
          "base_uri": "https://localhost:8080/"
        },
        "id": "vqVGn0nO2C17",
        "outputId": "69e168fc-4d2e-4855-f023-b33bf6885207"
      },
      "execution_count": null,
      "outputs": [
        {
          "output_type": "execute_result",
          "data": {
            "text/plain": [
              "True"
            ]
          },
          "metadata": {},
          "execution_count": 78
        }
      ]
    },
    {
      "cell_type": "code",
      "source": [
        "IsPSubset(P,U)"
      ],
      "metadata": {
        "colab": {
          "base_uri": "https://localhost:8080/"
        },
        "id": "Gi7E2WsC2Mx_",
        "outputId": "0752c38d-a1f8-415b-c314-3454e3645438"
      },
      "execution_count": null,
      "outputs": [
        {
          "output_type": "execute_result",
          "data": {
            "text/plain": [
              "True"
            ]
          },
          "metadata": {},
          "execution_count": 79
        }
      ]
    },
    {
      "cell_type": "code",
      "source": [
        "IsPSubset(D,U)"
      ],
      "metadata": {
        "colab": {
          "base_uri": "https://localhost:8080/"
        },
        "id": "Era_HQYP2iXG",
        "outputId": "61bff011-029b-4998-9d2f-783e30ce877e"
      },
      "execution_count": null,
      "outputs": [
        {
          "output_type": "execute_result",
          "data": {
            "text/plain": [
              "True"
            ]
          },
          "metadata": {},
          "execution_count": 81
        }
      ]
    },
    {
      "cell_type": "code",
      "source": [
        "IsPSubset(O,U)"
      ],
      "metadata": {
        "colab": {
          "base_uri": "https://localhost:8080/"
        },
        "id": "dhU7xGJz2nwD",
        "outputId": "2875a9e9-84c3-4cc4-dd36-869f581ac9fe"
      },
      "execution_count": null,
      "outputs": [
        {
          "output_type": "execute_result",
          "data": {
            "text/plain": [
              "True"
            ]
          },
          "metadata": {},
          "execution_count": 82
        }
      ]
    },
    {
      "cell_type": "markdown",
      "source": [
        "And there are 7 subsets in total. It looks like there is not any set to be subset of other rather than itself or subset of Universal set. "
      ],
      "metadata": {
        "id": "X2Hkh-QupuxK"
      }
    },
    {
      "cell_type": "markdown",
      "source": [
        "Finding subsets was kind of difficult for me as it took me a while to figure out what was actually happening. Overall, Doing sets and operations with python was exciting."
      ],
      "metadata": {
        "id": "1mgz2iudgLxm"
      }
    }
  ]
}