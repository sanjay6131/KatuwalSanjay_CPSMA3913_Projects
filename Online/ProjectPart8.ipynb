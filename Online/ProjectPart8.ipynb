{
  "nbformat": 4,
  "nbformat_minor": 0,
  "metadata": {
    "colab": {
      "name": "Untitled0.ipynb",
      "provenance": [],
      "include_colab_link": true
    },
    "kernelspec": {
      "name": "python3",
      "display_name": "Python 3"
    }
  },
  "cells": [
    {
      "cell_type": "markdown",
      "metadata": {
        "id": "view-in-github",
        "colab_type": "text"
      },
      "source": [
        "<a href=\"https://colab.research.google.com/github/sanjay6131/KatuwalSanjay_CPSMA3913_Projects/blob/main/Online/ProjectPart8.ipynb\" target=\"_parent\"><img src=\"https://colab.research.google.com/assets/colab-badge.svg\" alt=\"Open In Colab\"/></a>"
      ]
    },
    {
      "cell_type": "markdown",
      "metadata": {
        "id": "YCJaepmmfKrS"
      },
      "source": [
        "# Project Part # 8 : CPSMA 3913 \n",
        "##Dr. Jacob's \n",
        "##Discrete Mathematics \n",
        "\n",
        "## Proof\n",
        "\n",
        "##Sanjay Katuwal\n",
        "\n",
        "\n"
      ]
    },
    {
      "cell_type": "markdown",
      "metadata": {
        "id": "_7RoPTU_hXG1"
      },
      "source": [
        "## Proof "
      ]
    },
    {
      "cell_type": "markdown",
      "metadata": {
        "id": "MMXFYCZ6hajg"
      },
      "source": [
        "I am going to prove that the roots of \n",
        "$$ y = x^2+x-6$$\n",
        "are $(2,0)$ and $(-3,0)$.\n",
        "\n",
        "But first we graph!  Well plot is the right word..."
      ]
    },
    {
      "cell_type": "code",
      "metadata": {
        "id": "5U5T3Fld5X0S",
        "colab": {
          "base_uri": "https://localhost:8080/",
          "height": 265
        },
        "outputId": "214aa8ab-a134-43a7-c59a-4d00236c7e1c"
      },
      "source": [
        "import matplotlib.pyplot as plt\n",
        "import numpy as np\n",
        "\n",
        "x = np.arange(-8,6,.1) #first value, last value, stepsize = .1\n",
        "\n",
        "plt.plot(x,x**2+x-6)\n",
        "plt.scatter(2,0, c='blue',s = 60)#plotting the points too x,y,color,size\n",
        "plt.scatter(-3,0,c='blue',s = 60)\n",
        "plt.show()"
      ],
      "execution_count": 18,
      "outputs": [
        {
          "output_type": "display_data",
          "data": {
            "image/png": "[encoded data removed]",
            "text/plain": [
              "<Figure size 432x288 with 1 Axes>"
            ]
          },
          "metadata": {
            "needs_background": "light"
          }
        }
      ]
    },
    {
      "cell_type": "markdown",
      "metadata": {
        "id": "-4vy_UfzNaBa"
      },
      "source": [
        "Now for the proof!\n",
        "\n",
        "To be a root of the equation, the point must be of the form $(r,0)$.  Both of these satisfy this requirement.  So the points are both candidates for roots but now we need to check that they are indeed roots!\n",
        "\n",
        "So I'll ask here is it true that $0 = 2^2+2-6$?\n",
        "\n",
        "Let's have python check!"
      ]
    },
    {
      "cell_type": "code",
      "metadata": {
        "colab": {
          "base_uri": "https://localhost:8080/"
        },
        "id": "wMT2FXbQMggt",
        "outputId": "77fc8fe3-039d-44c1-9a2a-2c2c712ab175"
      },
      "source": [
        "0 == 2**2+2-6"
      ],
      "execution_count": 19,
      "outputs": [
        {
          "output_type": "execute_result",
          "data": {
            "text/plain": [
              "True"
            ]
          },
          "metadata": {},
          "execution_count": 19
        }
      ]
    },
    {
      "cell_type": "markdown",
      "metadata": {
        "id": "0vLTx9gNmO1-"
      },
      "source": [
        "Sweet!\n",
        "\n",
        "I now do the same for $0 = \\left(-3\\right)^2+(-3)-6$ "
      ]
    },
    {
      "cell_type": "code",
      "metadata": {
        "id": "nIOtafFbmM6I",
        "colab": {
          "base_uri": "https://localhost:8080/"
        },
        "outputId": "e741eb9c-bc24-4cfe-d99a-fed8d5ee33fb"
      },
      "source": [
        "0==(-3)**2+(-3)-6"
      ],
      "execution_count": 20,
      "outputs": [
        {
          "output_type": "execute_result",
          "data": {
            "text/plain": [
              "True"
            ]
          },
          "metadata": {},
          "execution_count": 20
        }
      ]
    },
    {
      "cell_type": "markdown",
      "metadata": {
        "id": "8ANGjef_mepA"
      },
      "source": [
        "This completes the proof as I have shown that both are roots of the equation! Q.E.D."
      ]
    },
    {
      "cell_type": "code",
      "metadata": {
        "id": "1golAviHmdSV"
      },
      "source": [
        ""
      ],
      "execution_count": null,
      "outputs": []
    }
  ]
}