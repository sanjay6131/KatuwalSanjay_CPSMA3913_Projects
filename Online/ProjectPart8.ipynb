{
  "nbformat": 4,
  "nbformat_minor": 0,
  "metadata": {
    "colab": {
      "name": "Untitled0.ipynb",
      "provenance": [],
      "include_colab_link": true
    },
    "kernelspec": {
      "name": "python3",
      "display_name": "Python 3"
    }
  },
  "cells": [
    {
      "cell_type": "markdown",
      "metadata": {
        "id": "view-in-github",
        "colab_type": "text"
      },
      "source": [
        "<a href=\"https://colab.research.google.com/github/sanjay6131/KatuwalSanjay_CPSMA3913_Projects/blob/main/Online/ProjectPart8.ipynb\" target=\"_parent\"><img src=\"https://colab.research.google.com/assets/colab-badge.svg\" alt=\"Open In Colab\"/></a>"
      ]
    },
    {
      "cell_type": "markdown",
      "metadata": {
        "id": "YCJaepmmfKrS"
      },
      "source": [
        "# Project Part # 8 : CPSMA 3133 [Dr. Jacob's](https://github.com/nurfnick) Discrete Mathematics \n",
        "\n",
        "## Proof\n",
        "\n",
        "### Me!\n",
        "\n",
        "\n"
      ]
    },
    {
      "cell_type": "markdown",
      "metadata": {
        "id": "_7RoPTU_hXG1"
      },
      "source": [
        "## Proof "
      ]
    },
    {
      "cell_type": "markdown",
      "metadata": {
        "id": "MMXFYCZ6hajg"
      },
      "source": [
        "I am going to prove that the roots of \n",
        "$$ y = x^2+3x-4$$\n",
        "are $(1,0)$ and $(-4,0)$.\n",
        "\n",
        "But first we graph!  Well plot is the right word..."
      ]
    },
    {
      "cell_type": "code",
      "metadata": {
        "id": "5U5T3Fld5X0S",
        "colab": {
          "base_uri": "https://localhost:8080/",
          "height": 265
        },
        "outputId": "480d745d-adf1-421f-f77f-b2f30a701bd8"
      },
      "source": [
        "import matplotlib.pyplot as plt\n",
        "import numpy as np\n",
        "\n",
        "x = np.arange(-5,2,.1) #first value, last value, stepsize = .1\n",
        "\n",
        "plt.plot(x,x**2+3*x-4)\n",
        "plt.scatter(1,0, c='red',s = 40)#plotting the points too x,y,color,size\n",
        "plt.scatter(-4,0,c='red',s = 40)\n",
        "plt.show()"
      ],
      "execution_count": null,
      "outputs": [
        {
          "output_type": "display_data",
          "data": {
            "image/png": "[encoded data removed]",
            "text/plain": [
              "<Figure size 432x288 with 1 Axes>"
            ]
          },
          "metadata": {
            "needs_background": "light"
          }
        }
      ]
    },
    {
      "cell_type": "markdown",
      "metadata": {
        "id": "-4vy_UfzNaBa"
      },
      "source": [
        "Now for the proof!\n",
        "\n",
        "To be a root of the equation, the point must be of the form $(r,0)$.  Both of these satisfy this requirement.  So the points are both candidates for roots but now we need to check that they are indeed roots!\n",
        "\n",
        "So I'll ask here is it true that $0 = 1^2+3*1-4$?\n",
        "\n",
        "Let's have python check!"
      ]
    },
    {
      "cell_type": "code",
      "metadata": {
        "colab": {
          "base_uri": "https://localhost:8080/"
        },
        "id": "wMT2FXbQMggt",
        "outputId": "a74249b1-6102-483f-e1fd-be00fb6c94ec"
      },
      "source": [
        "0 == 1**2+3*1-4"
      ],
      "execution_count": null,
      "outputs": [
        {
          "output_type": "execute_result",
          "data": {
            "text/plain": [
              "True"
            ]
          },
          "metadata": {},
          "execution_count": 1
        }
      ]
    },
    {
      "cell_type": "markdown",
      "metadata": {
        "id": "0vLTx9gNmO1-"
      },
      "source": [
        "Sweet!\n",
        "\n",
        "I now do the same for $0 = \\left(-4\\right)^2+3(-4)-4$ "
      ]
    },
    {
      "cell_type": "code",
      "metadata": {
        "id": "nIOtafFbmM6I",
        "colab": {
          "base_uri": "https://localhost:8080/"
        },
        "outputId": "69d4eb9a-3f65-4334-fba4-28a076107248"
      },
      "source": [
        "0==(-4)**2+3*(-4)-4"
      ],
      "execution_count": null,
      "outputs": [
        {
          "output_type": "execute_result",
          "data": {
            "text/plain": [
              "True"
            ]
          },
          "metadata": {},
          "execution_count": 2
        }
      ]
    },
    {
      "cell_type": "markdown",
      "metadata": {
        "id": "8ANGjef_mepA"
      },
      "source": [
        "This completes the proof as I have shown that both are roots of the equation! Q.E.D."
      ]
    },
    {
      "cell_type": "code",
      "metadata": {
        "id": "1golAviHmdSV"
      },
      "source": [
        ""
      ],
      "execution_count": null,
      "outputs": []
    }
  ]
}