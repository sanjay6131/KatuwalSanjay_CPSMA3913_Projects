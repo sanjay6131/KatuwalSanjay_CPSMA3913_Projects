{
  "nbformat": 4,
  "nbformat_minor": 0,
  "metadata": {
    "colab": {
      "name": "Untitled0.ipynb",
      "provenance": [],
      "include_colab_link": true
    },
    "kernelspec": {
      "name": "python3",
      "display_name": "Python 3"
    }
  },
  "cells": [
    {
      "cell_type": "markdown",
      "metadata": {
        "id": "view-in-github",
        "colab_type": "text"
      },
      "source": [
        "<a href=\"https://colab.research.google.com/github/sanjay6131/KatuwalSanjay_CPSMA3913_Projects/blob/main/Online/ProjectPart8.ipynb\" target=\"_parent\"><img src=\"https://colab.research.google.com/assets/colab-badge.svg\" alt=\"Open In Colab\"/></a>"
      ]
    },
    {
      "cell_type": "markdown",
      "metadata": {
        "id": "YCJaepmmfKrS"
      },
      "source": [
        "# Project Part # 8 : CPSMA 3913 \n",
        "##Dr. Jacob's \n",
        "##Discrete Mathematics \n",
        "\n",
        "## Proof\n",
        "\n",
        "##Sanjay Katuwal\n",
        "\n",
        "\n"
      ]
    },
    {
      "cell_type": "markdown",
      "metadata": {
        "id": "_7RoPTU_hXG1"
      },
      "source": [
        "## Proof "
      ]
    },
    {
      "cell_type": "markdown",
      "metadata": {
        "id": "MMXFYCZ6hajg"
      },
      "source": [
        "I am going to prove that the given point is a intercept.\n",
        "$$ y = 6x-6$$\n",
        "are $(0,-6)$.\n",
        "\n",
        "Let's plot the graph."
      ]
    },
    {
      "cell_type": "code",
      "metadata": {
        "id": "5U5T3Fld5X0S",
        "colab": {
          "base_uri": "https://localhost:8080/",
          "height": 265
        },
        "outputId": "ebb4b227-5fb2-4b26-8c0c-8ccd27248512"
      },
      "source": [
        "import matplotlib.pyplot as plt\n",
        "import numpy as np\n",
        "\n",
        "x = np.arange(-2,6,.1) \n",
        "\n",
        "plt.plot(6*x-6)\n",
        "plt.scatter(40,6, c='blue',s = 60)\n",
        "plt.scatter(30,0,c='blue',s = 60)\n",
        "plt.show()"
      ],
      "execution_count": 9,
      "outputs": [
        {
          "output_type": "display_data",
          "data": {
            "image/png": "[encoded data removed]",
            "text/plain": [
              "<Figure size 432x288 with 1 Axes>"
            ]
          },
          "metadata": {
            "needs_background": "light"
          }
        }
      ]
    },
    {
      "cell_type": "markdown",
      "metadata": {
        "id": "-4vy_UfzNaBa"
      },
      "source": [
        "Now, for the proof we will check whether the assigned value -6 is the y-intercept or not. For that we will do y=mx+b for the assigned point (0,-6). "
      ]
    },
    {
      "cell_type": "code",
      "metadata": {
        "colab": {
          "base_uri": "https://localhost:8080/"
        },
        "id": "wMT2FXbQMggt",
        "outputId": "6b085c55-262d-471c-c3d6-4f1f73ab5aff"
      },
      "source": [
        "-6 == 6*0-6"
      ],
      "execution_count": 11,
      "outputs": [
        {
          "output_type": "execute_result",
          "data": {
            "text/plain": [
              "True"
            ]
          },
          "metadata": {},
          "execution_count": 11
        }
      ]
    },
    {
      "cell_type": "markdown",
      "source": [
        "##Findings"
      ],
      "metadata": {
        "id": "f8HYfnut7T6L"
      }
    },
    {
      "cell_type": "markdown",
      "source": [
        "At first, make your equation and I tried making it easier by choosing a simple equation. Then I plotted the graph using python. And, Finally I wanted to  check if a certain point is a y-intercept or not. After assigning x intercept to be zero the equation should equal to the y-intercept value."
      ],
      "metadata": {
        "id": "VLv-yg407n6M"
      }
    }
  ]
}