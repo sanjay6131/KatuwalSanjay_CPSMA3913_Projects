{
  "nbformat": 4,
  "nbformat_minor": 0,
  "metadata": {
    "colab": {
      "name": "Untitled0.ipynb",
      "provenance": [],
      "include_colab_link": true
    },
    "kernelspec": {
      "name": "python3",
      "display_name": "Python 3"
    }
  },
  "cells": [
    {
      "cell_type": "markdown",
      "metadata": {
        "id": "view-in-github",
        "colab_type": "text"
      },
      "source": [
        "<a href=\"https://colab.research.google.com/github/sanjay6131/KatuwalSanjay_CPSMA3913_Projects/blob/main/Online/ProjectPart7.ipynb\" target=\"_parent\"><img src=\"https://colab.research.google.com/assets/colab-badge.svg\" alt=\"Open In Colab\"/></a>"
      ]
    },
    {
      "cell_type": "markdown",
      "metadata": {
        "id": "YCJaepmmfKrS"
      },
      "source": [
        "# Project Part # 7 : CPSMA 3913 \n",
        "##Dr. Jacob\n",
        "##Discrete Mathematics \n",
        "## Logic\n",
        "##Sanjay Katuwal\n",
        "\n",
        "\n"
      ]
    },
    {
      "cell_type": "markdown",
      "metadata": {
        "id": "Xs_Pvtua1Nnt"
      },
      "source": [
        "##Logic"
      ]
    },
    {
      "cell_type": "markdown",
      "metadata": {
        "id": "2z6U1aB_fQDM"
      },
      "source": [
        "Here, let's start with some propositions I came up with the classes I will be taking next semester. I have a lot of classes to take but i will just pick three of them for the necessity of the project.\n",
        "So,\n",
        "\n",
        "p= TakeAppliedStats\n",
        "\n",
        "q= TakeOperationalresearch\n",
        "\n",
        "    \n",
        "r= TakeComputerBusApplications"
      ]
    },
    {
      "cell_type": "markdown",
      "source": [
        "I will definitely take Computer Business Application and Operational Research but Applied stats will not be open untill another semester."
      ],
      "metadata": {
        "id": "uI56VZJBGYkk"
      }
    },
    {
      "cell_type": "code",
      "metadata": {
        "id": "rU_BgC_kfH7g"
      },
      "source": [
        "TakeAppliedStats = False\n",
        "TakeOperationalresearch = True\n",
        "TakeComputerBusApplication = True\n"
      ],
      "execution_count": 1,
      "outputs": []
    },
    {
      "cell_type": "markdown",
      "metadata": {
        "id": "Iggon6VK1Vxo"
      },
      "source": [
        "Now, let's try some truth statements."
      ]
    },
    {
      "cell_type": "markdown",
      "metadata": {
        "id": "uXi6ll7cAj2o"
      },
      "source": [
        "$$r \\land  p$$"
      ]
    },
    {
      "cell_type": "code",
      "metadata": {
        "colab": {
          "base_uri": "https://localhost:8080/"
        },
        "id": "eK4bLebw_cwV",
        "outputId": "351b096c-5827-4342-9c67-0e8c0f935378"
      },
      "source": [
        "TakeComputerBusApplication and  TakeAppliedStats"
      ],
      "execution_count": 2,
      "outputs": [
        {
          "output_type": "execute_result",
          "data": {
            "text/plain": [
              "False"
            ]
          },
          "metadata": {},
          "execution_count": 2
        }
      ]
    },
    {
      "cell_type": "markdown",
      "metadata": {
        "id": "G7dnHb-2Af4D"
      },
      "source": [
        "$$ r \\lor \\lnot q$$"
      ]
    },
    {
      "cell_type": "code",
      "metadata": {
        "colab": {
          "base_uri": "https://localhost:8080/"
        },
        "id": "zKmEpGQlANFp",
        "outputId": "36f4a5f4-82b8-4778-9729-4e0610028c33"
      },
      "source": [
        "TakeComputerBusApplication or not TakeOperationalresearch"
      ],
      "execution_count": 3,
      "outputs": [
        {
          "output_type": "execute_result",
          "data": {
            "text/plain": [
              "True"
            ]
          },
          "metadata": {},
          "execution_count": 3
        }
      ]
    },
    {
      "cell_type": "markdown",
      "metadata": {
        "id": "XNEt2-DYAalD"
      },
      "source": [
        "$$r⟹p$$"
      ]
    },
    {
      "cell_type": "code",
      "metadata": {
        "colab": {
          "base_uri": "https://localhost:8080/"
        },
        "id": "n28x2we-AS1y",
        "outputId": "6e0b2f3c-e137-44fd-998f-97dad37c071a"
      },
      "source": [
        "not TakeComputerBusApplication or TakeAppliedStats"
      ],
      "execution_count": 4,
      "outputs": [
        {
          "output_type": "execute_result",
          "data": {
            "text/plain": [
              "False"
            ]
          },
          "metadata": {},
          "execution_count": 4
        }
      ]
    },
    {
      "cell_type": "markdown",
      "source": [
        "Now, let me install truth table generator."
      ],
      "metadata": {
        "id": "Ob1-jqPDSyVy"
      }
    },
    {
      "cell_type": "code",
      "source": [
        "pip install truth-table-generator"
      ],
      "metadata": {
        "colab": {
          "base_uri": "https://localhost:8080/"
        },
        "id": "OQv_dqqUSv-i",
        "outputId": "bb88e3be-4b4d-4f8d-de0b-72707bd17f7b"
      },
      "execution_count": 5,
      "outputs": [
        {
          "output_type": "stream",
          "name": "stdout",
          "text": [
            "Collecting truth-table-generator\n",
            "  Downloading truth_table_generator-1.1.2.tar.gz (14 kB)\n",
            "Requirement already satisfied: numpy in /usr/local/lib/python3.7/dist-packages (from truth-table-generator) (1.21.5)\n",
            "Requirement already satisfied: pandas in /usr/local/lib/python3.7/dist-packages (from truth-table-generator) (1.3.5)\n",
            "Collecting PTable\n",
            "  Downloading PTable-0.9.2.tar.gz (31 kB)\n",
            "Requirement already satisfied: pyparsing in /usr/local/lib/python3.7/dist-packages (from truth-table-generator) (3.0.7)\n",
            "Requirement already satisfied: tabulate in /usr/local/lib/python3.7/dist-packages (from truth-table-generator) (0.8.9)\n",
            "Requirement already satisfied: jinja2 in /usr/local/lib/python3.7/dist-packages (from truth-table-generator) (2.11.3)\n",
            "Requirement already satisfied: MarkupSafe>=0.23 in /usr/local/lib/python3.7/dist-packages (from jinja2->truth-table-generator) (2.0.1)\n",
            "Requirement already satisfied: pytz>=2017.3 in /usr/local/lib/python3.7/dist-packages (from pandas->truth-table-generator) (2018.9)\n",
            "Requirement already satisfied: python-dateutil>=2.7.3 in /usr/local/lib/python3.7/dist-packages (from pandas->truth-table-generator) (2.8.2)\n",
            "Requirement already satisfied: six>=1.5 in /usr/local/lib/python3.7/dist-packages (from python-dateutil>=2.7.3->pandas->truth-table-generator) (1.15.0)\n",
            "Building wheels for collected packages: truth-table-generator, PTable\n",
            "  Building wheel for truth-table-generator (setup.py) ... \u001b[?25l\u001b[?25hdone\n",
            "  Created wheel for truth-table-generator: filename=truth_table_generator-1.1.2-py3-none-any.whl size=13960 sha256=76b37c623037ad46707e950bfaa624004c104e52ae76fc34502dd8097e5e9035\n",
            "  Stored in directory: /root/.cache/pip/wheels/9a/55/b5/77f5756832494eafda92c7a94c1365ac31088a18a3a97dd480\n",
            "  Building wheel for PTable (setup.py) ... \u001b[?25l\u001b[?25hdone\n",
            "  Created wheel for PTable: filename=PTable-0.9.2-py3-none-any.whl size=22925 sha256=8ec7e3ef71a3ae915756c91a99d987cca48bf7da5a22b85f0689688117a36b3a\n",
            "  Stored in directory: /root/.cache/pip/wheels/33/df/2f/674985b3f8a2de3f96357d1eadef5110f74fa91b3785e52a54\n",
            "Successfully built truth-table-generator PTable\n",
            "Installing collected packages: PTable, truth-table-generator\n",
            "Successfully installed PTable-0.9.2 truth-table-generator-1.1.2\n"
          ]
        }
      ]
    },
    {
      "cell_type": "markdown",
      "source": [
        "Lets do the truth tables:"
      ],
      "metadata": {
        "id": "t6qfyP-pTkyq"
      }
    },
    {
      "cell_type": "code",
      "source": [
        "import ttg\n",
        "table = ttg.Truths(['p', 'q', 'r'], ['p xor q', '~(p xor q)', 'q or r', '(~(p xor q)) => (q or r)'], ints = False)\n",
        "table.as_pandas().style.set_properties(**{'text-align': 'left'}).hide_index()"
      ],
      "metadata": {
        "colab": {
          "base_uri": "https://localhost:8080/",
          "height": 300
        },
        "id": "03yvJua5TqC6",
        "outputId": "39491b75-cbfd-40d6-e07e-4910c1166757"
      },
      "execution_count": 7,
      "outputs": [
        {
          "output_type": "execute_result",
          "data": {
            "text/html": [
              "<style type=\"text/css\">\n",
              "#T_66cac_row0_col0, #T_66cac_row0_col1, #T_66cac_row0_col2, #T_66cac_row0_col3, #T_66cac_row0_col4, #T_66cac_row0_col5, #T_66cac_row0_col6, #T_66cac_row1_col0, #T_66cac_row1_col1, #T_66cac_row1_col2, #T_66cac_row1_col3, #T_66cac_row1_col4, #T_66cac_row1_col5, #T_66cac_row1_col6, #T_66cac_row2_col0, #T_66cac_row2_col1, #T_66cac_row2_col2, #T_66cac_row2_col3, #T_66cac_row2_col4, #T_66cac_row2_col5, #T_66cac_row2_col6, #T_66cac_row3_col0, #T_66cac_row3_col1, #T_66cac_row3_col2, #T_66cac_row3_col3, #T_66cac_row3_col4, #T_66cac_row3_col5, #T_66cac_row3_col6, #T_66cac_row4_col0, #T_66cac_row4_col1, #T_66cac_row4_col2, #T_66cac_row4_col3, #T_66cac_row4_col4, #T_66cac_row4_col5, #T_66cac_row4_col6, #T_66cac_row5_col0, #T_66cac_row5_col1, #T_66cac_row5_col2, #T_66cac_row5_col3, #T_66cac_row5_col4, #T_66cac_row5_col5, #T_66cac_row5_col6, #T_66cac_row6_col0, #T_66cac_row6_col1, #T_66cac_row6_col2, #T_66cac_row6_col3, #T_66cac_row6_col4, #T_66cac_row6_col5, #T_66cac_row6_col6, #T_66cac_row7_col0, #T_66cac_row7_col1, #T_66cac_row7_col2, #T_66cac_row7_col3, #T_66cac_row7_col4, #T_66cac_row7_col5, #T_66cac_row7_col6 {\n",
              "  text-align: left;\n",
              "}\n",
              "</style>\n",
              "<table id=\"T_66cac_\" class=\"dataframe\">\n",
              "  <thead>\n",
              "    <tr>\n",
              "      <th class=\"col_heading level0 col0\" >p</th>\n",
              "      <th class=\"col_heading level0 col1\" >q</th>\n",
              "      <th class=\"col_heading level0 col2\" >r</th>\n",
              "      <th class=\"col_heading level0 col3\" >p xor q</th>\n",
              "      <th class=\"col_heading level0 col4\" >~(p xor q)</th>\n",
              "      <th class=\"col_heading level0 col5\" >q or r</th>\n",
              "      <th class=\"col_heading level0 col6\" >(~(p xor q)) => (q or r)</th>\n",
              "    </tr>\n",
              "  </thead>\n",
              "  <tbody>\n",
              "    <tr>\n",
              "      <td id=\"T_66cac_row0_col0\" class=\"data row0 col0\" >True</td>\n",
              "      <td id=\"T_66cac_row0_col1\" class=\"data row0 col1\" >True</td>\n",
              "      <td id=\"T_66cac_row0_col2\" class=\"data row0 col2\" >True</td>\n",
              "      <td id=\"T_66cac_row0_col3\" class=\"data row0 col3\" >False</td>\n",
              "      <td id=\"T_66cac_row0_col4\" class=\"data row0 col4\" >True</td>\n",
              "      <td id=\"T_66cac_row0_col5\" class=\"data row0 col5\" >True</td>\n",
              "      <td id=\"T_66cac_row0_col6\" class=\"data row0 col6\" >True</td>\n",
              "    </tr>\n",
              "    <tr>\n",
              "      <td id=\"T_66cac_row1_col0\" class=\"data row1 col0\" >True</td>\n",
              "      <td id=\"T_66cac_row1_col1\" class=\"data row1 col1\" >True</td>\n",
              "      <td id=\"T_66cac_row1_col2\" class=\"data row1 col2\" >False</td>\n",
              "      <td id=\"T_66cac_row1_col3\" class=\"data row1 col3\" >False</td>\n",
              "      <td id=\"T_66cac_row1_col4\" class=\"data row1 col4\" >True</td>\n",
              "      <td id=\"T_66cac_row1_col5\" class=\"data row1 col5\" >True</td>\n",
              "      <td id=\"T_66cac_row1_col6\" class=\"data row1 col6\" >True</td>\n",
              "    </tr>\n",
              "    <tr>\n",
              "      <td id=\"T_66cac_row2_col0\" class=\"data row2 col0\" >True</td>\n",
              "      <td id=\"T_66cac_row2_col1\" class=\"data row2 col1\" >False</td>\n",
              "      <td id=\"T_66cac_row2_col2\" class=\"data row2 col2\" >True</td>\n",
              "      <td id=\"T_66cac_row2_col3\" class=\"data row2 col3\" >True</td>\n",
              "      <td id=\"T_66cac_row2_col4\" class=\"data row2 col4\" >False</td>\n",
              "      <td id=\"T_66cac_row2_col5\" class=\"data row2 col5\" >True</td>\n",
              "      <td id=\"T_66cac_row2_col6\" class=\"data row2 col6\" >True</td>\n",
              "    </tr>\n",
              "    <tr>\n",
              "      <td id=\"T_66cac_row3_col0\" class=\"data row3 col0\" >True</td>\n",
              "      <td id=\"T_66cac_row3_col1\" class=\"data row3 col1\" >False</td>\n",
              "      <td id=\"T_66cac_row3_col2\" class=\"data row3 col2\" >False</td>\n",
              "      <td id=\"T_66cac_row3_col3\" class=\"data row3 col3\" >True</td>\n",
              "      <td id=\"T_66cac_row3_col4\" class=\"data row3 col4\" >False</td>\n",
              "      <td id=\"T_66cac_row3_col5\" class=\"data row3 col5\" >False</td>\n",
              "      <td id=\"T_66cac_row3_col6\" class=\"data row3 col6\" >True</td>\n",
              "    </tr>\n",
              "    <tr>\n",
              "      <td id=\"T_66cac_row4_col0\" class=\"data row4 col0\" >False</td>\n",
              "      <td id=\"T_66cac_row4_col1\" class=\"data row4 col1\" >True</td>\n",
              "      <td id=\"T_66cac_row4_col2\" class=\"data row4 col2\" >True</td>\n",
              "      <td id=\"T_66cac_row4_col3\" class=\"data row4 col3\" >True</td>\n",
              "      <td id=\"T_66cac_row4_col4\" class=\"data row4 col4\" >False</td>\n",
              "      <td id=\"T_66cac_row4_col5\" class=\"data row4 col5\" >True</td>\n",
              "      <td id=\"T_66cac_row4_col6\" class=\"data row4 col6\" >True</td>\n",
              "    </tr>\n",
              "    <tr>\n",
              "      <td id=\"T_66cac_row5_col0\" class=\"data row5 col0\" >False</td>\n",
              "      <td id=\"T_66cac_row5_col1\" class=\"data row5 col1\" >True</td>\n",
              "      <td id=\"T_66cac_row5_col2\" class=\"data row5 col2\" >False</td>\n",
              "      <td id=\"T_66cac_row5_col3\" class=\"data row5 col3\" >True</td>\n",
              "      <td id=\"T_66cac_row5_col4\" class=\"data row5 col4\" >False</td>\n",
              "      <td id=\"T_66cac_row5_col5\" class=\"data row5 col5\" >True</td>\n",
              "      <td id=\"T_66cac_row5_col6\" class=\"data row5 col6\" >True</td>\n",
              "    </tr>\n",
              "    <tr>\n",
              "      <td id=\"T_66cac_row6_col0\" class=\"data row6 col0\" >False</td>\n",
              "      <td id=\"T_66cac_row6_col1\" class=\"data row6 col1\" >False</td>\n",
              "      <td id=\"T_66cac_row6_col2\" class=\"data row6 col2\" >True</td>\n",
              "      <td id=\"T_66cac_row6_col3\" class=\"data row6 col3\" >False</td>\n",
              "      <td id=\"T_66cac_row6_col4\" class=\"data row6 col4\" >True</td>\n",
              "      <td id=\"T_66cac_row6_col5\" class=\"data row6 col5\" >True</td>\n",
              "      <td id=\"T_66cac_row6_col6\" class=\"data row6 col6\" >True</td>\n",
              "    </tr>\n",
              "    <tr>\n",
              "      <td id=\"T_66cac_row7_col0\" class=\"data row7 col0\" >False</td>\n",
              "      <td id=\"T_66cac_row7_col1\" class=\"data row7 col1\" >False</td>\n",
              "      <td id=\"T_66cac_row7_col2\" class=\"data row7 col2\" >False</td>\n",
              "      <td id=\"T_66cac_row7_col3\" class=\"data row7 col3\" >False</td>\n",
              "      <td id=\"T_66cac_row7_col4\" class=\"data row7 col4\" >True</td>\n",
              "      <td id=\"T_66cac_row7_col5\" class=\"data row7 col5\" >False</td>\n",
              "      <td id=\"T_66cac_row7_col6\" class=\"data row7 col6\" >False</td>\n",
              "    </tr>\n",
              "  </tbody>\n",
              "</table>\n"
            ],
            "text/plain": [
              "<pandas.io.formats.style.Styler at 0x7fe9ef9ecb50>"
            ]
          },
          "metadata": {},
          "execution_count": 7
        }
      ]
    },
    {
      "cell_type": "markdown",
      "source": [
        "##Findings"
      ],
      "metadata": {
        "id": "xvCQ__uxWceX"
      }
    },
    {
      "cell_type": "markdown",
      "source": [
        "Ater doing this truth table, I came to realize that it is really hard to translate the propositions in the final result of truth table. I beleive that it made it more complicated. The simple terms were explainable."
      ],
      "metadata": {
        "id": "ZN2ZB5wUWizd"
      }
    }
  ]
}