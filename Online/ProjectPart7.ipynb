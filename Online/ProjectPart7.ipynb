{
  "nbformat": 4,
  "nbformat_minor": 0,
  "metadata": {
    "colab": {
      "name": "Untitled0.ipynb",
      "provenance": [],
      "include_colab_link": true
    },
    "kernelspec": {
      "name": "python3",
      "display_name": "Python 3"
    }
  },
  "cells": [
    {
      "cell_type": "markdown",
      "metadata": {
        "id": "view-in-github",
        "colab_type": "text"
      },
      "source": [
        "<a href=\"https://colab.research.google.com/github/sanjay6131/KatuwalSanjay_CPSMA3913_Projects/blob/main/Online/ProjectPart7.ipynb\" target=\"_parent\"><img src=\"https://colab.research.google.com/assets/colab-badge.svg\" alt=\"Open In Colab\"/></a>"
      ]
    },
    {
      "cell_type": "markdown",
      "metadata": {
        "id": "YCJaepmmfKrS"
      },
      "source": [
        "# Project Part # 7 : CPSMA 3133 [Dr. Jacob's](https://github.com/nurfnick) Discrete Mathematics \n",
        "\n",
        "## Logic\n",
        "\n",
        "### Me!\n",
        "\n",
        "\n"
      ]
    },
    {
      "cell_type": "markdown",
      "metadata": {
        "id": "Xs_Pvtua1Nnt"
      },
      "source": [
        "## 1 Logic"
      ]
    },
    {
      "cell_type": "markdown",
      "metadata": {
        "id": "2z6U1aB_fQDM"
      },
      "source": [
        "I will establish some propositions about my daily activities."
      ]
    },
    {
      "cell_type": "code",
      "metadata": {
        "id": "rU_BgC_kfH7g"
      },
      "source": [
        "WillGoToBedEarly = True\n",
        "WillEatHealthy = False\n",
        "WillGoToTheGym = True\n",
        "WillTakeALongBath = False\n",
        "WillCleanTheKitchen = True\n",
        "WillFoldLaundry = False\n"
      ],
      "execution_count": null,
      "outputs": []
    },
    {
      "cell_type": "markdown",
      "metadata": {
        "id": "Iggon6VK1Vxo"
      },
      "source": [
        "Please don't use mine!!!  Make up your own, be creative!  I will not give full marks for my work!!!"
      ]
    },
    {
      "cell_type": "markdown",
      "metadata": {
        "id": "uXi6ll7cAj2o"
      },
      "source": [
        "$$\\lnot q$$"
      ]
    },
    {
      "cell_type": "code",
      "metadata": {
        "colab": {
          "base_uri": "https://localhost:8080/"
        },
        "id": "eK4bLebw_cwV",
        "outputId": "d66d0d40-6a8d-4180-ec6c-eba34fcb7705"
      },
      "source": [
        "not(WillGoToBedEarly)"
      ],
      "execution_count": null,
      "outputs": [
        {
          "output_type": "execute_result",
          "data": {
            "text/plain": [
              "False"
            ]
          },
          "metadata": {},
          "execution_count": 6
        }
      ]
    },
    {
      "cell_type": "markdown",
      "metadata": {
        "id": "G7dnHb-2Af4D"
      },
      "source": [
        "$$q \\land p$$"
      ]
    },
    {
      "cell_type": "code",
      "metadata": {
        "colab": {
          "base_uri": "https://localhost:8080/"
        },
        "id": "zKmEpGQlANFp",
        "outputId": "de7d2b34-f5da-4374-8c2b-cc8d00300ddf"
      },
      "source": [
        "WillCleanTheKitchen and WillGoToTheGym"
      ],
      "execution_count": null,
      "outputs": [
        {
          "output_type": "execute_result",
          "data": {
            "text/plain": [
              "True"
            ]
          },
          "metadata": {},
          "execution_count": 7
        }
      ]
    },
    {
      "cell_type": "markdown",
      "metadata": {
        "id": "XNEt2-DYAalD"
      },
      "source": [
        "$$ q \\lor p$$"
      ]
    },
    {
      "cell_type": "code",
      "metadata": {
        "colab": {
          "base_uri": "https://localhost:8080/"
        },
        "id": "n28x2we-AS1y",
        "outputId": "cd99d6a9-413a-47d8-8cca-4a0d14567a3f"
      },
      "source": [
        "WillEatHealthy or WillCleanTheKitchen"
      ],
      "execution_count": null,
      "outputs": [
        {
          "output_type": "execute_result",
          "data": {
            "text/plain": [
              "True"
            ]
          },
          "metadata": {},
          "execution_count": 8
        }
      ]
    },
    {
      "cell_type": "markdown",
      "metadata": {
        "id": "LTfGBxYFAydQ"
      },
      "source": [
        "I don't see a clever way to do $p\\Rightarrow q$ so I'll do the equivalent \n",
        "$ \\lnot p \\lor q$ and make my own function to do it!"
      ]
    },
    {
      "cell_type": "code",
      "metadata": {
        "colab": {
          "base_uri": "https://localhost:8080/"
        },
        "id": "Sx6I4d53AYEp",
        "outputId": "d691429c-26d2-4f37-8928-00ae99c83309"
      },
      "source": [
        "def implies(p,q):\n",
        "  return not(p) or q\n",
        "\n",
        "implies(WillEatHealthy,WillCleanTheKitchen)"
      ],
      "execution_count": null,
      "outputs": [
        {
          "output_type": "execute_result",
          "data": {
            "text/plain": [
              "True"
            ]
          },
          "metadata": {},
          "execution_count": 9
        }
      ]
    },
    {
      "cell_type": "markdown",
      "metadata": {
        "id": "f7hqv6x1muhB"
      },
      "source": [
        "I have the same issue with XOR, there is not a build in the python logical but there is one in the python bitwise logical `^`"
      ]
    },
    {
      "cell_type": "code",
      "metadata": {
        "id": "wQTYZ-KhnA4_",
        "colab": {
          "base_uri": "https://localhost:8080/"
        },
        "outputId": "8a2a07ed-42ca-4f74-882e-dfcb3ea2547a"
      },
      "source": [
        "print(True ^ False)\n",
        "print(False ^ False)\n",
        "print(True ^ True)"
      ],
      "execution_count": null,
      "outputs": [
        {
          "output_type": "stream",
          "name": "stdout",
          "text": [
            "True\n",
            "False\n",
            "False\n"
          ]
        }
      ]
    },
    {
      "cell_type": "markdown",
      "metadata": {
        "id": "CLCBhJJgnVpY"
      },
      "source": [
        "You may use this one or try to define your own function that does it, $a\\oplus b \\equiv \\left(a\\land \\lnot b\\right)\\lor \\left(\\lnot a \\land b\\right)$.   Just be aware that passing integers to the `^` will do unexpected things!"
      ]
    },
    {
      "cell_type": "code",
      "metadata": {
        "id": "7-iagZmQnhsv",
        "colab": {
          "base_uri": "https://localhost:8080/"
        },
        "outputId": "0a4e948a-41e9-41db-975d-09a53bbed6b9"
      },
      "source": [
        "2^8"
      ],
      "execution_count": null,
      "outputs": [
        {
          "output_type": "execute_result",
          "data": {
            "text/plain": [
              "10"
            ]
          },
          "metadata": {},
          "execution_count": 5
        }
      ]
    },
    {
      "cell_type": "markdown",
      "metadata": {
        "id": "ZGGIau0XBr8Z"
      },
      "source": [
        "To develop the truth tables, I'll need to start with propositions not initialized to already have a truth value.  Let's play with the truth table for\n",
        "$$ \\left(\\lnot r \\lor p\\right) \\Rightarrow \\left(q \\land p\\right)$$"
      ]
    },
    {
      "cell_type": "markdown",
      "metadata": {
        "id": "z9qE2D8UKs8z"
      },
      "source": [
        "The real trick to a truth table is to iterate through every possible truth value.  I do that with for loops below.  \n",
        "\n",
        "A more clever programmer could do this bitwise using python's bitwise `&|~` bitwise `and` `or` and `not` "
      ]
    },
    {
      "cell_type": "code",
      "metadata": {
        "id": "fGi_S966B3Of"
      },
      "source": [
        "values = [True,False]\n",
        "table = []\n",
        "\n",
        "for r in values:\n",
        "  for p in values:\n",
        "    for q in values: \n",
        "      row =[]\n",
        "      row.append(r)\n",
        "      row.append(p)\n",
        "      row.append(q)\n",
        "      row.append(not(r))\n",
        "      row.append(not(r) and p)\n",
        "      row.append(q and p)\n",
        "      row.append(implies(not(r) and p,q and p))\n",
        "      table.append(row)\n",
        "\n",
        "\n"
      ],
      "execution_count": null,
      "outputs": []
    },
    {
      "cell_type": "code",
      "metadata": {
        "colab": {
          "base_uri": "https://localhost:8080/",
          "height": 300
        },
        "id": "UXwJMuNUEeSI",
        "outputId": "9f474def-e96c-41bb-831d-71bb9af1a240"
      },
      "source": [
        "import pandas as pd\n",
        "\n",
        "df = pd.DataFrame(table,columns = ['r','p','q','$\\lnot r$','$\\lnot r \\lor p$',r'$q\\land p$',r'$\\left(\\lnot r \\lor p\\right) \\Rightarrow \\left(q \\land p\\right)$'] )\n",
        "df"
      ],
      "execution_count": null,
      "outputs": [
        {
          "output_type": "execute_result",
          "data": {
            "text/html": [
              "<div>\n",
              "<style scoped>\n",
              "    .dataframe tbody tr th:only-of-type {\n",
              "        vertical-align: middle;\n",
              "    }\n",
              "\n",
              "    .dataframe tbody tr th {\n",
              "        vertical-align: top;\n",
              "    }\n",
              "\n",
              "    .dataframe thead th {\n",
              "        text-align: right;\n",
              "    }\n",
              "</style>\n",
              "<table border=\"1\" class=\"dataframe\">\n",
              "  <thead>\n",
              "    <tr style=\"text-align: right;\">\n",
              "      <th></th>\n",
              "      <th>r</th>\n",
              "      <th>p</th>\n",
              "      <th>q</th>\n",
              "      <th>$\\lnot r$</th>\n",
              "      <th>$\\lnot r \\lor p$</th>\n",
              "      <th>$q\\land p$</th>\n",
              "      <th>$\\left(\\lnot r \\lor p\\right) \\Rightarrow \\left(q \\land p\\right)$</th>\n",
              "    </tr>\n",
              "  </thead>\n",
              "  <tbody>\n",
              "    <tr>\n",
              "      <th>0</th>\n",
              "      <td>True</td>\n",
              "      <td>True</td>\n",
              "      <td>True</td>\n",
              "      <td>False</td>\n",
              "      <td>False</td>\n",
              "      <td>True</td>\n",
              "      <td>True</td>\n",
              "    </tr>\n",
              "    <tr>\n",
              "      <th>1</th>\n",
              "      <td>True</td>\n",
              "      <td>True</td>\n",
              "      <td>False</td>\n",
              "      <td>False</td>\n",
              "      <td>False</td>\n",
              "      <td>False</td>\n",
              "      <td>True</td>\n",
              "    </tr>\n",
              "    <tr>\n",
              "      <th>2</th>\n",
              "      <td>True</td>\n",
              "      <td>False</td>\n",
              "      <td>True</td>\n",
              "      <td>False</td>\n",
              "      <td>False</td>\n",
              "      <td>False</td>\n",
              "      <td>True</td>\n",
              "    </tr>\n",
              "    <tr>\n",
              "      <th>3</th>\n",
              "      <td>True</td>\n",
              "      <td>False</td>\n",
              "      <td>False</td>\n",
              "      <td>False</td>\n",
              "      <td>False</td>\n",
              "      <td>False</td>\n",
              "      <td>True</td>\n",
              "    </tr>\n",
              "    <tr>\n",
              "      <th>4</th>\n",
              "      <td>False</td>\n",
              "      <td>True</td>\n",
              "      <td>True</td>\n",
              "      <td>True</td>\n",
              "      <td>True</td>\n",
              "      <td>True</td>\n",
              "      <td>True</td>\n",
              "    </tr>\n",
              "    <tr>\n",
              "      <th>5</th>\n",
              "      <td>False</td>\n",
              "      <td>True</td>\n",
              "      <td>False</td>\n",
              "      <td>True</td>\n",
              "      <td>True</td>\n",
              "      <td>False</td>\n",
              "      <td>False</td>\n",
              "    </tr>\n",
              "    <tr>\n",
              "      <th>6</th>\n",
              "      <td>False</td>\n",
              "      <td>False</td>\n",
              "      <td>True</td>\n",
              "      <td>True</td>\n",
              "      <td>False</td>\n",
              "      <td>False</td>\n",
              "      <td>True</td>\n",
              "    </tr>\n",
              "    <tr>\n",
              "      <th>7</th>\n",
              "      <td>False</td>\n",
              "      <td>False</td>\n",
              "      <td>False</td>\n",
              "      <td>True</td>\n",
              "      <td>False</td>\n",
              "      <td>False</td>\n",
              "      <td>True</td>\n",
              "    </tr>\n",
              "  </tbody>\n",
              "</table>\n",
              "</div>"
            ],
            "text/plain": [
              "       r  ...  $\\left(\\lnot r \\lor p\\right) \\Rightarrow \\left(q \\land p\\right)$\n",
              "0   True  ...                                               True               \n",
              "1   True  ...                                               True               \n",
              "2   True  ...                                               True               \n",
              "3   True  ...                                               True               \n",
              "4  False  ...                                               True               \n",
              "5  False  ...                                              False               \n",
              "6  False  ...                                               True               \n",
              "7  False  ...                                               True               \n",
              "\n",
              "[8 rows x 7 columns]"
            ]
          },
          "metadata": {},
          "execution_count": 29
        }
      ]
    },
    {
      "cell_type": "markdown",
      "metadata": {
        "id": "IGO6ieXbKHSK"
      },
      "source": [
        "So I thought `pandas` would render my $\\LaTeX$ code in the column names but it doesn't look like it is supported (maybe it is?).  I'll export this table then into the native language of Jupyter, `markdown`, and copy paste the table."
      ]
    },
    {
      "cell_type": "code",
      "metadata": {
        "colab": {
          "base_uri": "https://localhost:8080/"
        },
        "id": "H8Sxld9cIf9v",
        "outputId": "3edf215a-1e1b-4c98-9742-6e7a003ebe88"
      },
      "source": [
        "print(df.to_markdown(index = False))"
      ],
      "execution_count": null,
      "outputs": [
        {
          "output_type": "stream",
          "name": "stdout",
          "text": [
            "|   r |   p |   q |   $\\lnot r$ |   $\\lnot r \\lor p$ |   $q\\land p$ |   $\\left(\\lnot r \\lor p\\right) \\Rightarrow \\left(q \\land p\\right)$ |\n",
            "|----:|----:|----:|------------:|-------------------:|-------------:|-------------------------------------------------------------------:|\n",
            "|   1 |   1 |   1 |           0 |                  0 |            1 |                                                                  1 |\n",
            "|   1 |   1 |   0 |           0 |                  0 |            0 |                                                                  1 |\n",
            "|   1 |   0 |   1 |           0 |                  0 |            0 |                                                                  1 |\n",
            "|   1 |   0 |   0 |           0 |                  0 |            0 |                                                                  1 |\n",
            "|   0 |   1 |   1 |           1 |                  1 |            1 |                                                                  1 |\n",
            "|   0 |   1 |   0 |           1 |                  1 |            0 |                                                                  0 |\n",
            "|   0 |   0 |   1 |           1 |                  0 |            0 |                                                                  1 |\n",
            "|   0 |   0 |   0 |           1 |                  0 |            0 |                                                                  1 |\n"
          ]
        }
      ]
    },
    {
      "cell_type": "markdown",
      "metadata": {
        "id": "nWDCpUDJGepQ"
      },
      "source": [
        "|   r |   p |   q |   $\\lnot r$ |   $\\lnot r \\lor p$ &nbsp; &nbsp; &nbsp; &nbsp; &nbsp; &nbsp; &nbsp;  &nbsp;|   $q\\land p$ &nbsp; &nbsp; &nbsp; &nbsp; &nbsp; &nbsp;  &nbsp;|   $\\left(\\lnot r \\lor p\\right) \\Rightarrow \\left(q \\land p\\right)$&nbsp; &nbsp; &nbsp; &nbsp; &nbsp; &nbsp; &nbsp; &nbsp; &nbsp; &nbsp; &nbsp; &nbsp; &nbsp; &nbsp; &nbsp;&nbsp; &nbsp; &nbsp; &nbsp; &nbsp; &nbsp;  |\n",
        "|:----:|:----:|:----:|:------------:|:-------------------:|:-------------:|:-------------------------------------------------------------------:|\n",
        "|   1 |   1 |   1 |           0 |                  0 |            1 |                                                                  1 |\n",
        "|   1 |   1 |   0 |           0 |                  0 |            0 |                                                                  1 |\n",
        "|   1 |   0 |   1 |           0 |                  0 |            0 |                                                                  1 |\n",
        "|   1 |   0 |   0 |           0 |                  0 |            0 |                                                                  1 |\n",
        "|   0 |   1 |   1 |           1 |                  1 |            1 |                                                                  1 |\n",
        "|   0 |   1 |   0 |           1 |                  1 |            0 |                                                                  0 |\n",
        "|   0 |   0 |   1 |           1 |                  0 |            0 |                                                                  1 |\n",
        "|   0 |   0 |   0 |           1 |                  0 |            0 |                                                                  1 |\n"
      ]
    },
    {
      "cell_type": "markdown",
      "metadata": {
        "id": "5J93i_wDJ18z"
      },
      "source": [
        "Copy paste was not enough, I had to manually change widths and alignment. \n",
        "\n",
        "Okay so I spent way too long making this look 'nice'.  I do not expect you to make a perfect table like mine but return something descriptive and it will be great!"
      ]
    }
  ]
}