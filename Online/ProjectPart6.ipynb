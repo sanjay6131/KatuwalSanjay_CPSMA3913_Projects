{
  "nbformat": 4,
  "nbformat_minor": 0,
  "metadata": {
    "colab": {
      "name": "Untitled0.ipynb",
      "provenance": [],
      "include_colab_link": true
    },
    "kernelspec": {
      "name": "python3",
      "display_name": "Python 3"
    }
  },
  "cells": [
    {
      "cell_type": "markdown",
      "metadata": {
        "id": "view-in-github",
        "colab_type": "text"
      },
      "source": [
        "<a href=\"https://colab.research.google.com/github/sanjay6131/KatuwalSanjay_CPSMA3913_Projects/blob/main/Online/ProjectPart6.ipynb\" target=\"_parent\"><img src=\"https://colab.research.google.com/assets/colab-badge.svg\" alt=\"Open In Colab\"/></a>"
      ]
    },
    {
      "cell_type": "markdown",
      "metadata": {
        "id": "YCJaepmmfKrS"
      },
      "source": [
        "# Project Part #6 : CPSMA 3913\n",
        "## Dr. Jacob\n",
        "##Discrete Mathematics \n",
        "\n",
        "## Numbers\n",
        "\n",
        "##Sanjay Katuwal\n",
        "\n",
        "\n"
      ]
    },
    {
      "cell_type": "markdown",
      "metadata": {
        "id": "_7RoPTU_hXG1"
      },
      "source": [
        "## Numbers"
      ]
    },
    {
      "cell_type": "markdown",
      "metadata": {
        "id": "MMXFYCZ6hajg"
      },
      "source": [
        "I want to convert decimal into hexadecimal and hexadecimal into decimal number.  Let's convert 3735928559 into hex."
      ]
    },
    {
      "cell_type": "code",
      "metadata": {
        "id": "5U5T3Fld5X0S",
        "colab": {
          "base_uri": "https://localhost:8080/"
        },
        "outputId": "20540fcc-14e1-4672-c66c-9e96d577188d"
      },
      "source": [
        "from math import floor\n",
        "print(3735928559%16)\n",
        "floor(3735928559/16)"
      ],
      "execution_count": 2,
      "outputs": [
        {
          "output_type": "stream",
          "name": "stdout",
          "text": [
            "15\n"
          ]
        },
        {
          "output_type": "execute_result",
          "data": {
            "text/plain": [
              "233495534"
            ]
          },
          "metadata": {},
          "execution_count": 2
        }
      ]
    },
    {
      "cell_type": "markdown",
      "metadata": {
        "id": "f1xnXaYEH_Y3"
      },
      "source": [
        "So, it looks like our last number will be 15 and lets take it further more down the road."
      ]
    },
    {
      "cell_type": "code",
      "metadata": {
        "id": "5oqBcutqHu-R",
        "colab": {
          "base_uri": "https://localhost:8080/"
        },
        "outputId": "7468ad2e-e440-45eb-ffd4-f789940f6b95"
      },
      "source": [
        "print(233495534%16)\n",
        "floor(233495534/16)"
      ],
      "execution_count": 3,
      "outputs": [
        {
          "output_type": "stream",
          "name": "stdout",
          "text": [
            "14\n"
          ]
        },
        {
          "output_type": "execute_result",
          "data": {
            "text/plain": [
              "14593470"
            ]
          },
          "metadata": {},
          "execution_count": 3
        }
      ]
    },
    {
      "cell_type": "code",
      "metadata": {
        "id": "rlczad_4IMkh",
        "colab": {
          "base_uri": "https://localhost:8080/"
        },
        "outputId": "dfd19dae-04ee-4319-abf6-17bba206462f"
      },
      "source": [
        "print(14593470%16)\n",
        "floor(14593470/16)"
      ],
      "execution_count": 4,
      "outputs": [
        {
          "output_type": "stream",
          "name": "stdout",
          "text": [
            "14\n"
          ]
        },
        {
          "output_type": "execute_result",
          "data": {
            "text/plain": [
              "912091"
            ]
          },
          "metadata": {},
          "execution_count": 4
        }
      ]
    },
    {
      "cell_type": "code",
      "metadata": {
        "id": "StROzXRVIZoY",
        "colab": {
          "base_uri": "https://localhost:8080/"
        },
        "outputId": "dfa9459e-3fc5-43d0-fbe1-ec3069a0e0db"
      },
      "source": [
        "print(912091%16)\n",
        "floor(912091/16)"
      ],
      "execution_count": 5,
      "outputs": [
        {
          "output_type": "stream",
          "name": "stdout",
          "text": [
            "11\n"
          ]
        },
        {
          "output_type": "execute_result",
          "data": {
            "text/plain": [
              "57005"
            ]
          },
          "metadata": {},
          "execution_count": 5
        }
      ]
    },
    {
      "cell_type": "code",
      "source": [
        "print(57005%16)\n",
        "floor(57005/16)"
      ],
      "metadata": {
        "colab": {
          "base_uri": "https://localhost:8080/"
        },
        "id": "i-M-5-afz6Co",
        "outputId": "9c536036-27f7-406e-f877-d1b9ffef0b16"
      },
      "execution_count": 6,
      "outputs": [
        {
          "output_type": "stream",
          "name": "stdout",
          "text": [
            "13\n"
          ]
        },
        {
          "output_type": "execute_result",
          "data": {
            "text/plain": [
              "3562"
            ]
          },
          "metadata": {},
          "execution_count": 6
        }
      ]
    },
    {
      "cell_type": "code",
      "source": [
        "print(3562%16)\n",
        "floor(3562/16)"
      ],
      "metadata": {
        "colab": {
          "base_uri": "https://localhost:8080/"
        },
        "id": "j7vhMYKX0EKO",
        "outputId": "9f6aafc7-63eb-4d91-c104-38615632cba7"
      },
      "execution_count": 7,
      "outputs": [
        {
          "output_type": "stream",
          "name": "stdout",
          "text": [
            "10\n"
          ]
        },
        {
          "output_type": "execute_result",
          "data": {
            "text/plain": [
              "222"
            ]
          },
          "metadata": {},
          "execution_count": 7
        }
      ]
    },
    {
      "cell_type": "code",
      "source": [
        "print(222%16)\n",
        "floor(222/16)"
      ],
      "metadata": {
        "colab": {
          "base_uri": "https://localhost:8080/"
        },
        "id": "c1Ug5-LI0NpP",
        "outputId": "385de1cc-1872-46b1-b7ef-20fa5067be7a"
      },
      "execution_count": 8,
      "outputs": [
        {
          "output_type": "stream",
          "name": "stdout",
          "text": [
            "14\n"
          ]
        },
        {
          "output_type": "execute_result",
          "data": {
            "text/plain": [
              "13"
            ]
          },
          "metadata": {},
          "execution_count": 8
        }
      ]
    },
    {
      "cell_type": "markdown",
      "metadata": {
        "id": "I83x3W5rIewO"
      },
      "source": [
        "Finally, I got my number.\n",
        "My number is \n",
        "$$\n",
        "DEADBEEF\n",
        "$$\n",
        "\n",
        "I can check it whether I was right or wrong."
      ]
    },
    {
      "cell_type": "code",
      "metadata": {
        "id": "uKWT1q1YIdim",
        "colab": {
          "base_uri": "https://localhost:8080/"
        },
        "outputId": "d530f57e-d9a4-4800-d480-c3e7e944fc38"
      },
      "source": [
        "15*16**0+14*16**1+14*16**2+11*16**3+13*16**4+10*16**5+14*16**6+13*16**7"
      ],
      "execution_count": 9,
      "outputs": [
        {
          "output_type": "execute_result",
          "data": {
            "text/plain": [
              "3735928559"
            ]
          },
          "metadata": {},
          "execution_count": 9
        }
      ]
    },
    {
      "cell_type": "markdown",
      "metadata": {
        "id": "WOswaw5FJGzt"
      },
      "source": [
        "I can use some python too "
      ]
    },
    {
      "cell_type": "code",
      "metadata": {
        "id": "8Hc_kC-GJE62",
        "colab": {
          "base_uri": "https://localhost:8080/",
          "height": 35
        },
        "outputId": "45992ab1-2b25-4c29-b1cc-ec1e6386ee0a"
      },
      "source": [
        "hex(3735928559)"
      ],
      "execution_count": 10,
      "outputs": [
        {
          "output_type": "execute_result",
          "data": {
            "application/vnd.google.colaboratory.intrinsic+json": {
              "type": "string"
            },
            "text/plain": [
              "'0xdeadbeef'"
            ]
          },
          "metadata": {},
          "execution_count": 10
        }
      ]
    },
    {
      "cell_type": "markdown",
      "metadata": {
        "id": "lD7110YuJM98"
      },
      "source": [
        "Now with the help of python lets turn a hexadecimal into decimal with a simple code."
      ]
    },
    {
      "cell_type": "code",
      "metadata": {
        "id": "8tq3u2PnJLae",
        "colab": {
          "base_uri": "https://localhost:8080/"
        },
        "outputId": "3cc79433-f87f-4299-f84a-1830e67f8a74"
      },
      "source": [
        "int('0xdeadbeef',16)"
      ],
      "execution_count": 11,
      "outputs": [
        {
          "output_type": "execute_result",
          "data": {
            "text/plain": [
              "3735928559"
            ]
          },
          "metadata": {},
          "execution_count": 11
        }
      ]
    },
    {
      "cell_type": "markdown",
      "source": [
        "One more just for the requirement."
      ],
      "metadata": {
        "id": "fRb3jHFo3VAn"
      }
    },
    {
      "cell_type": "code",
      "source": [
        "int('0x72e3',16)"
      ],
      "metadata": {
        "colab": {
          "base_uri": "https://localhost:8080/"
        },
        "id": "sdayMIwG1wM7",
        "outputId": "30fe3fcd-2faf-4964-a43c-c337745b148a"
      },
      "execution_count": 13,
      "outputs": [
        {
          "output_type": "execute_result",
          "data": {
            "text/plain": [
              "29411"
            ]
          },
          "metadata": {},
          "execution_count": 13
        }
      ]
    },
    {
      "cell_type": "markdown",
      "metadata": {
        "id": "ZbbPy3QmJlV7"
      },
      "source": [
        "Since, we already have a builtin function we can use it to convert 7 base number to decimal or 10 base."
      ]
    },
    {
      "cell_type": "code",
      "metadata": {
        "id": "yPer6l_LJb2U",
        "colab": {
          "base_uri": "https://localhost:8080/"
        },
        "outputId": "47d99ae1-9c4b-48a7-c82a-f167051daaa8"
      },
      "source": [
        "int('24036',7)"
      ],
      "execution_count": 14,
      "outputs": [
        {
          "output_type": "execute_result",
          "data": {
            "text/plain": [
              "6201"
            ]
          },
          "metadata": {},
          "execution_count": 14
        }
      ]
    },
    {
      "cell_type": "markdown",
      "source": [
        "##Two's Complement"
      ],
      "metadata": {
        "id": "fO5sVXd3SvM7"
      }
    },
    {
      "cell_type": "code",
      "source": [
        "bin_25=bin(25)\n",
        "print(bin_25)"
      ],
      "metadata": {
        "colab": {
          "base_uri": "https://localhost:8080/"
        },
        "id": "Z7OQ6Q53CaIc",
        "outputId": "4e4e18e2-d065-4f36-ddaf-81398b232289"
      },
      "execution_count": 10,
      "outputs": [
        {
          "output_type": "stream",
          "name": "stdout",
          "text": [
            "0b11001\n"
          ]
        }
      ]
    },
    {
      "cell_type": "code",
      "source": [
        "bin_37=bin(37)\n",
        "print(bin_37)"
      ],
      "metadata": {
        "colab": {
          "base_uri": "https://localhost:8080/"
        },
        "id": "moFH0x3qCnD_",
        "outputId": "01a0d655-98ce-4c1e-a1a7-80f12ae955b6"
      },
      "execution_count": 12,
      "outputs": [
        {
          "output_type": "stream",
          "name": "stdout",
          "text": [
            "0b100101\n"
          ]
        }
      ]
    },
    {
      "cell_type": "markdown",
      "source": [
        "Lets find Two's complement."
      ],
      "metadata": {
        "id": "_dV428D5CytV"
      }
    },
    {
      "cell_type": "code",
      "source": [
        "invertit = \"\"\n",
        "for bit in bin_37:\n",
        "  if bit == \"1\":\n",
        "    invertit += \"0\"\n",
        "  else:\n",
        "    invertit += \"1\"\n",
        "\n",
        "print (invertit) "
      ],
      "metadata": {
        "colab": {
          "base_uri": "https://localhost:8080/"
        },
        "id": "R3xAwBP_DY6h",
        "outputId": "401aa99c-3e6a-4cde-eb2b-5167dfc249f3"
      },
      "execution_count": 19,
      "outputs": [
        {
          "output_type": "stream",
          "name": "stdout",
          "text": [
            "11011010\n"
          ]
        }
      ]
    },
    {
      "cell_type": "code",
      "source": [
        "Bin_operation = bin(int(invertit, 2) + int(bin(1), 2))\n",
        "TwosComplement = (Bin_operation)\n",
        "print(TwosComplement)"
      ],
      "metadata": {
        "colab": {
          "base_uri": "https://localhost:8080/"
        },
        "id": "Mfq0pJXkDkyH",
        "outputId": "715d63a8-6265-47b6-9c85-150fce2474ec"
      },
      "execution_count": 21,
      "outputs": [
        {
          "output_type": "stream",
          "name": "stdout",
          "text": [
            "0b11011011\n"
          ]
        }
      ]
    },
    {
      "cell_type": "markdown",
      "source": [
        "Lets do it again with a function for 25 and -37."
      ],
      "metadata": {
        "id": "F10vH2tQDtIz"
      }
    },
    {
      "cell_type": "code",
      "source": [
        "Substraction=bin(int(bin_25,2)+int(TwosComplement, 2))\n",
        "print(Substraction)"
      ],
      "metadata": {
        "colab": {
          "base_uri": "https://localhost:8080/"
        },
        "id": "JDvcz04DEhMi",
        "outputId": "97a6c03c-82aa-4eb3-84a5-7fb929349936"
      },
      "execution_count": 23,
      "outputs": [
        {
          "output_type": "stream",
          "name": "stdout",
          "text": [
            "0b11110100\n"
          ]
        }
      ]
    },
    {
      "cell_type": "code",
      "source": [
        ""
      ],
      "metadata": {
        "id": "tlaAR-rkWcFM"
      },
      "execution_count": null,
      "outputs": []
    },
    {
      "cell_type": "markdown",
      "source": [
        "##Findings"
      ],
      "metadata": {
        "id": "pujox2NoYGgh"
      }
    },
    {
      "cell_type": "markdown",
      "source": [
        "This project was fun to learn the Binary Operation and the coversion between hexadecimal,Decimal and Binary. And, I Believe that Binary is important to computers because Computers doesn't understand the language outside of 1 and 0 where 1 means true and 0 means false so far I understand, which is binary and heaxdecimal is used when the binary numbers gets too large, hexadecimal cuts it short."
      ],
      "metadata": {
        "id": "UbAQIJqtYLDD"
      }
    }
  ]
}