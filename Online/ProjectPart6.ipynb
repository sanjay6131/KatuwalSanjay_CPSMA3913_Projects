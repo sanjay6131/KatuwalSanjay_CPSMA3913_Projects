{
  "nbformat": 4,
  "nbformat_minor": 0,
  "metadata": {
    "colab": {
      "name": "Untitled0.ipynb",
      "provenance": [],
      "include_colab_link": true
    },
    "kernelspec": {
      "name": "python3",
      "display_name": "Python 3"
    }
  },
  "cells": [
    {
      "cell_type": "markdown",
      "metadata": {
        "id": "view-in-github",
        "colab_type": "text"
      },
      "source": [
        "<a href=\"https://colab.research.google.com/github/sanjay6131/KatuwalSanjay_CPSMA3913_Projects/blob/main/Online/ProjectPart6.ipynb\" target=\"_parent\"><img src=\"https://colab.research.google.com/assets/colab-badge.svg\" alt=\"Open In Colab\"/></a>"
      ]
    },
    {
      "cell_type": "markdown",
      "metadata": {
        "id": "YCJaepmmfKrS"
      },
      "source": [
        "# Project Part #6 : CPSMA 3913\n",
        "## Dr. Jacob\n",
        "##Discrete Mathematics \n",
        "\n",
        "## Numbers\n",
        "\n",
        "##Sanjay Katuwal\n",
        "\n",
        "\n"
      ]
    },
    {
      "cell_type": "markdown",
      "metadata": {
        "id": "_7RoPTU_hXG1"
      },
      "source": [
        "## Numbers"
      ]
    },
    {
      "cell_type": "markdown",
      "metadata": {
        "id": "MMXFYCZ6hajg"
      },
      "source": [
        "I want to run through the mathematics of converting a decimal number into hex just to show the actions required.  I'll use the `math.floor` function to get the whole divisor and `%` to get the remainder.  Let's convert 123456 into hex."
      ]
    },
    {
      "cell_type": "code",
      "metadata": {
        "id": "5U5T3Fld5X0S",
        "colab": {
          "base_uri": "https://localhost:8080/"
        },
        "outputId": "88f2b50e-6acc-4783-e1e1-159e689136e7"
      },
      "source": [
        "from math import floor\n",
        "print(123456%16)\n",
        "floor(123456/16)"
      ],
      "execution_count": null,
      "outputs": [
        {
          "output_type": "stream",
          "name": "stdout",
          "text": [
            "0\n"
          ]
        },
        {
          "output_type": "execute_result",
          "data": {
            "text/plain": [
              "7716"
            ]
          },
          "metadata": {},
          "execution_count": 5
        }
      ]
    },
    {
      "cell_type": "markdown",
      "metadata": {
        "id": "f1xnXaYEH_Y3"
      },
      "source": [
        "So the last digit will be a zero and 7716 will be the next number to examine."
      ]
    },
    {
      "cell_type": "code",
      "metadata": {
        "id": "5oqBcutqHu-R",
        "colab": {
          "base_uri": "https://localhost:8080/"
        },
        "outputId": "e6a68ddd-7b99-4269-87a2-1ebd6209bebb"
      },
      "source": [
        "print(7716%16)\n",
        "floor(7716/16)"
      ],
      "execution_count": null,
      "outputs": [
        {
          "output_type": "stream",
          "name": "stdout",
          "text": [
            "4\n"
          ]
        },
        {
          "output_type": "execute_result",
          "data": {
            "text/plain": [
              "482"
            ]
          },
          "metadata": {},
          "execution_count": 6
        }
      ]
    },
    {
      "cell_type": "markdown",
      "metadata": {
        "id": "xnWfzas8IOBh"
      },
      "source": [
        "40 thus far but another few steps is required."
      ]
    },
    {
      "cell_type": "code",
      "metadata": {
        "id": "rlczad_4IMkh",
        "colab": {
          "base_uri": "https://localhost:8080/"
        },
        "outputId": "453185eb-577d-438c-bc27-36838926a156"
      },
      "source": [
        "print(482%16)\n",
        "floor(482/16)"
      ],
      "execution_count": null,
      "outputs": [
        {
          "output_type": "stream",
          "name": "stdout",
          "text": [
            "2\n"
          ]
        },
        {
          "output_type": "execute_result",
          "data": {
            "text/plain": [
              "30"
            ]
          },
          "metadata": {},
          "execution_count": 7
        }
      ]
    },
    {
      "cell_type": "code",
      "metadata": {
        "id": "StROzXRVIZoY",
        "colab": {
          "base_uri": "https://localhost:8080/"
        },
        "outputId": "a50bea2a-1dbd-4fc5-c7aa-4343fbb53eba"
      },
      "source": [
        "print(30%16)\n",
        "floor(30/16)"
      ],
      "execution_count": null,
      "outputs": [
        {
          "output_type": "stream",
          "name": "stdout",
          "text": [
            "14\n"
          ]
        },
        {
          "output_type": "execute_result",
          "data": {
            "text/plain": [
              "1"
            ]
          },
          "metadata": {},
          "execution_count": 8
        }
      ]
    },
    {
      "cell_type": "markdown",
      "metadata": {
        "id": "I83x3W5rIewO"
      },
      "source": [
        "Here is the interesting one, a is 10, b is 11, c is 12, d is 13, so 14 is e and 15 is f.\n",
        "\n",
        "Thus I am done.  My number is \n",
        "$$\n",
        "1e240\n",
        "$$\n",
        "\n",
        "We better check..."
      ]
    },
    {
      "cell_type": "code",
      "metadata": {
        "id": "uKWT1q1YIdim",
        "colab": {
          "base_uri": "https://localhost:8080/"
        },
        "outputId": "be2b1e59-e811-4ecf-8bd8-ab9a772c03bc"
      },
      "source": [
        "0*16**0+4*16**1+2*16**2+14*16**3+1*16**4"
      ],
      "execution_count": null,
      "outputs": [
        {
          "output_type": "execute_result",
          "data": {
            "text/plain": [
              "123456"
            ]
          },
          "metadata": {},
          "execution_count": 9
        }
      ]
    },
    {
      "cell_type": "markdown",
      "metadata": {
        "id": "WOswaw5FJGzt"
      },
      "source": [
        "Of course there are builtin ways to do this..."
      ]
    },
    {
      "cell_type": "code",
      "metadata": {
        "id": "8Hc_kC-GJE62",
        "colab": {
          "base_uri": "https://localhost:8080/",
          "height": 36
        },
        "outputId": "18b01731-0993-4dca-e067-6829997cb2be"
      },
      "source": [
        "hex(123456)"
      ],
      "execution_count": null,
      "outputs": [
        {
          "output_type": "execute_result",
          "data": {
            "application/vnd.google.colaboratory.intrinsic+json": {
              "type": "string"
            },
            "text/plain": [
              "'0x1e240'"
            ]
          },
          "metadata": {},
          "execution_count": 10
        }
      ]
    },
    {
      "cell_type": "markdown",
      "metadata": {
        "id": "lD7110YuJM98"
      },
      "source": [
        "In python (an other languages too) '0x' out front is going to tell us this is hex.  `int` will take the hex back to decimal."
      ]
    },
    {
      "cell_type": "code",
      "metadata": {
        "id": "8tq3u2PnJLae",
        "colab": {
          "base_uri": "https://localhost:8080/"
        },
        "outputId": "e21a5e4f-15c0-41ca-cd1b-ea857b7ee8e1"
      },
      "source": [
        "int('0x1e240',16)"
      ],
      "execution_count": null,
      "outputs": [
        {
          "output_type": "execute_result",
          "data": {
            "text/plain": [
              "123456"
            ]
          },
          "metadata": {},
          "execution_count": 11
        }
      ]
    },
    {
      "cell_type": "markdown",
      "metadata": {
        "id": "ZbbPy3QmJlV7"
      },
      "source": [
        "It might be a good exercise to think about what it would take to program a hex converter in either direction."
      ]
    },
    {
      "cell_type": "markdown",
      "metadata": {
        "id": "MQm9KV7xJ14U"
      },
      "source": [
        "I'll note that there is not a two's complement built in!"
      ]
    },
    {
      "cell_type": "code",
      "metadata": {
        "id": "yPer6l_LJb2U",
        "colab": {
          "base_uri": "https://localhost:8080/"
        },
        "outputId": "71f37e22-8df8-47e9-d2d7-56b668bf2f33"
      },
      "source": [
        "int('0b11111111',2)"
      ],
      "execution_count": null,
      "outputs": [
        {
          "output_type": "execute_result",
          "data": {
            "text/plain": [
              "255"
            ]
          },
          "metadata": {},
          "execution_count": 12
        }
      ]
    },
    {
      "cell_type": "code",
      "metadata": {
        "id": "R5iyOM7HKB5r",
        "colab": {
          "base_uri": "https://localhost:8080/"
        },
        "outputId": "828b126a-c756-474e-afad-b52a25c1e07f"
      },
      "source": [
        "int('11111111',2)"
      ],
      "execution_count": null,
      "outputs": [
        {
          "output_type": "execute_result",
          "data": {
            "text/plain": [
              "255"
            ]
          },
          "metadata": {},
          "execution_count": 13
        }
      ]
    },
    {
      "cell_type": "markdown",
      "metadata": {
        "id": "PvzhERNM-Nur"
      },
      "source": [
        "To preform a binary computation, I'll first explore what python does with binary numbers."
      ]
    },
    {
      "cell_type": "code",
      "metadata": {
        "id": "L_s6XtCjNQPm",
        "colab": {
          "base_uri": "https://localhost:8080/",
          "height": 36
        },
        "outputId": "7745ab5b-48d3-49c0-e02b-982cb4b11c3a"
      },
      "source": [
        "bin42 = bin(42)\n",
        "bin97 = bin(97)\n",
        "\n",
        "bin42"
      ],
      "execution_count": null,
      "outputs": [
        {
          "output_type": "execute_result",
          "data": {
            "application/vnd.google.colaboratory.intrinsic+json": {
              "type": "string"
            },
            "text/plain": [
              "'0b101010'"
            ]
          },
          "metadata": {},
          "execution_count": 14
        }
      ]
    },
    {
      "cell_type": "code",
      "metadata": {
        "id": "iepzlND--pdl",
        "colab": {
          "base_uri": "https://localhost:8080/",
          "height": 172
        },
        "outputId": "b22dc5ca-7028-454a-c511-af9b9ebf809f"
      },
      "source": [
        "bin42 - bin97"
      ],
      "execution_count": null,
      "outputs": [
        {
          "output_type": "error",
          "ename": "TypeError",
          "evalue": "ignored",
          "traceback": [
            "\u001b[0;31m---------------------------------------------------------------------------\u001b[0m",
            "\u001b[0;31mTypeError\u001b[0m                                 Traceback (most recent call last)",
            "\u001b[0;32m<ipython-input-15-6b3c8082a84b>\u001b[0m in \u001b[0;36m<module>\u001b[0;34m()\u001b[0m\n\u001b[0;32m----> 1\u001b[0;31m \u001b[0mbin42\u001b[0m \u001b[0;34m-\u001b[0m \u001b[0mbin97\u001b[0m\u001b[0;34m\u001b[0m\u001b[0;34m\u001b[0m\u001b[0m\n\u001b[0m",
            "\u001b[0;31mTypeError\u001b[0m: unsupported operand type(s) for -: 'str' and 'str'"
          ]
        }
      ]
    },
    {
      "cell_type": "markdown",
      "metadata": {
        "id": "oAC4np4a_2Ho"
      },
      "source": [
        "I get an error when I just try to subtract!  Essentially python has interpreted the binary numbers as strings! "
      ]
    },
    {
      "cell_type": "code",
      "metadata": {
        "id": "IkVYxLl5_n45",
        "colab": {
          "base_uri": "https://localhost:8080/",
          "height": 36
        },
        "outputId": "e179c210-5aed-45bc-d21f-50998e962738"
      },
      "source": [
        "bin42 + bin97"
      ],
      "execution_count": null,
      "outputs": [
        {
          "output_type": "execute_result",
          "data": {
            "application/vnd.google.colaboratory.intrinsic+json": {
              "type": "string"
            },
            "text/plain": [
              "'0b1010100b1100001'"
            ]
          },
          "metadata": {},
          "execution_count": 16
        }
      ]
    },
    {
      "cell_type": "markdown",
      "metadata": {
        "id": "RrHBKQ57ARwo"
      },
      "source": [
        "I could add but does that make any sense?  What happens with negative numbers?\n"
      ]
    },
    {
      "cell_type": "code",
      "metadata": {
        "id": "07pY9KHSAQEC",
        "colab": {
          "base_uri": "https://localhost:8080/",
          "height": 36
        },
        "outputId": "273136d4-8f1e-4eff-eacb-af70c1eb458d"
      },
      "source": [
        "bin(-27)"
      ],
      "execution_count": null,
      "outputs": [
        {
          "output_type": "execute_result",
          "data": {
            "application/vnd.google.colaboratory.intrinsic+json": {
              "type": "string"
            },
            "text/plain": [
              "'-0b11011'"
            ]
          },
          "metadata": {},
          "execution_count": 17
        }
      ]
    },
    {
      "cell_type": "markdown",
      "metadata": {
        "id": "jw4TDoqsAdng"
      },
      "source": [
        "Python built-in `bin` is not doing two's complement!"
      ]
    },
    {
      "cell_type": "markdown",
      "metadata": {
        "id": "stHq6-2HAnP_"
      },
      "source": [
        "Let's write a little code!  First I'll write a binary converter"
      ]
    },
    {
      "cell_type": "code",
      "metadata": {
        "id": "_CKpN7REAa43",
        "colab": {
          "base_uri": "https://localhost:8080/",
          "height": 36
        },
        "outputId": "025f071f-543b-468e-8f6b-437da2d00166"
      },
      "source": [
        "def binaryconvertor(x):\n",
        "  ans = ''\n",
        "  while x != 0:\n",
        "    ans = str(x%2) + ans\n",
        "    x = floor(x/2)\n",
        "  return ans\n",
        "binaryconvertor(27)"
      ],
      "execution_count": null,
      "outputs": [
        {
          "output_type": "execute_result",
          "data": {
            "application/vnd.google.colaboratory.intrinsic+json": {
              "type": "string"
            },
            "text/plain": [
              "'11011'"
            ]
          },
          "metadata": {},
          "execution_count": 18
        }
      ]
    },
    {
      "cell_type": "markdown",
      "metadata": {
        "id": "6lVoIBjCCSB8"
      },
      "source": [
        "Seems like it works for a positive, what happens if I feed it a negative?"
      ]
    },
    {
      "cell_type": "code",
      "metadata": {
        "id": "DQTymyvGBkxD",
        "colab": {
          "base_uri": "https://localhost:8080/",
          "height": 299
        },
        "outputId": "46d54e6d-0f11-4584-b899-b67e7cdfcab2"
      },
      "source": [
        "binaryconvertor(-27)"
      ],
      "execution_count": null,
      "outputs": [
        {
          "output_type": "error",
          "ename": "KeyboardInterrupt",
          "evalue": "ignored",
          "traceback": [
            "\u001b[0;31m---------------------------------------------------------------------------\u001b[0m",
            "\u001b[0;31mKeyboardInterrupt\u001b[0m                         Traceback (most recent call last)",
            "\u001b[0;32m<ipython-input-19-305d6bff6d25>\u001b[0m in \u001b[0;36m<module>\u001b[0;34m()\u001b[0m\n\u001b[0;32m----> 1\u001b[0;31m \u001b[0mbinaryconvertor\u001b[0m\u001b[0;34m(\u001b[0m\u001b[0;34m-\u001b[0m\u001b[0;36m27\u001b[0m\u001b[0;34m)\u001b[0m\u001b[0;34m\u001b[0m\u001b[0;34m\u001b[0m\u001b[0m\n\u001b[0m",
            "\u001b[0;32m<ipython-input-18-6a64ed1ec0f2>\u001b[0m in \u001b[0;36mbinaryconvertor\u001b[0;34m(x)\u001b[0m\n\u001b[1;32m      2\u001b[0m   \u001b[0mans\u001b[0m \u001b[0;34m=\u001b[0m \u001b[0;34m''\u001b[0m\u001b[0;34m\u001b[0m\u001b[0;34m\u001b[0m\u001b[0m\n\u001b[1;32m      3\u001b[0m   \u001b[0;32mwhile\u001b[0m \u001b[0mx\u001b[0m \u001b[0;34m!=\u001b[0m \u001b[0;36m0\u001b[0m\u001b[0;34m:\u001b[0m\u001b[0;34m\u001b[0m\u001b[0;34m\u001b[0m\u001b[0m\n\u001b[0;32m----> 4\u001b[0;31m     \u001b[0mans\u001b[0m \u001b[0;34m=\u001b[0m \u001b[0mstr\u001b[0m\u001b[0;34m(\u001b[0m\u001b[0mx\u001b[0m\u001b[0;34m%\u001b[0m\u001b[0;36m2\u001b[0m\u001b[0;34m)\u001b[0m \u001b[0;34m+\u001b[0m \u001b[0mans\u001b[0m\u001b[0;34m\u001b[0m\u001b[0;34m\u001b[0m\u001b[0m\n\u001b[0m\u001b[1;32m      5\u001b[0m     \u001b[0mx\u001b[0m \u001b[0;34m=\u001b[0m \u001b[0mfloor\u001b[0m\u001b[0;34m(\u001b[0m\u001b[0mx\u001b[0m\u001b[0;34m/\u001b[0m\u001b[0;36m2\u001b[0m\u001b[0;34m)\u001b[0m\u001b[0;34m\u001b[0m\u001b[0;34m\u001b[0m\u001b[0m\n\u001b[1;32m      6\u001b[0m   \u001b[0;32mreturn\u001b[0m \u001b[0mans\u001b[0m\u001b[0;34m\u001b[0m\u001b[0;34m\u001b[0m\u001b[0m\n",
            "\u001b[0;31mKeyboardInterrupt\u001b[0m: "
          ]
        }
      ]
    },
    {
      "cell_type": "markdown",
      "metadata": {
        "id": "xOo1lejQCc3w"
      },
      "source": [
        "That `while` loop is infinte!"
      ]
    },
    {
      "cell_type": "markdown",
      "metadata": {
        "id": "1tUK0b2zCimW"
      },
      "source": [
        "To deal with negatives, I'll add a little checker!"
      ]
    },
    {
      "cell_type": "code",
      "metadata": {
        "id": "aGDmz4cSBsiy",
        "colab": {
          "base_uri": "https://localhost:8080/",
          "height": 36
        },
        "outputId": "7bb15f00-be23-4d1d-a7d0-d0ac96253b78"
      },
      "source": [
        "def binaryconvertor(x):\n",
        "  ans = ''\n",
        "  if x<0:\n",
        "    x = abs(x)\n",
        "    ans = 'neg'\n",
        "  while x != 0:\n",
        "    ans = str(x%2) + ans\n",
        "    x = floor(x/2)\n",
        "  return ans\n",
        "binaryconvertor(-27)"
      ],
      "execution_count": null,
      "outputs": [
        {
          "output_type": "execute_result",
          "data": {
            "application/vnd.google.colaboratory.intrinsic+json": {
              "type": "string"
            },
            "text/plain": [
              "'11011neg'"
            ]
          },
          "metadata": {},
          "execution_count": 20
        }
      ]
    },
    {
      "cell_type": "markdown",
      "metadata": {
        "id": "tkJPvGiuDLO1"
      },
      "source": [
        "Not exactly the most elegant solution but it will deal with negatives and tell you they are such!  To get 2's complement to work we'll need to do a few more things!\n",
        "\n",
        "First two's complement requires that you add one to flip all bits and add one after you have converted.  I create a small program to do that on a list below."
      ]
    },
    {
      "cell_type": "code",
      "metadata": {
        "id": "qqSppiQPHDqL",
        "colab": {
          "base_uri": "https://localhost:8080/"
        },
        "outputId": "6f6a0583-c424-477c-ca1b-5796b5d9b6eb"
      },
      "source": [
        "def addone(list7binary):\n",
        "  counter = 7\n",
        "  list7binary[counter] = str(1 + int(list7binary[counter]))\n",
        "  while list7binary[counter]=='2':\n",
        "    list7binary[counter] = '0'\n",
        "    counter -= 1\n",
        "    list7binary[counter] = str(1 + int(list7binary[counter]))\n",
        "  return list7binary\n",
        "\n",
        "addone(['0','1','1','1','1','1','1','1'])"
      ],
      "execution_count": null,
      "outputs": [
        {
          "output_type": "execute_result",
          "data": {
            "text/plain": [
              "['1', '0', '0', '0', '0', '0', '0', '0']"
            ]
          },
          "metadata": {},
          "execution_count": 21
        }
      ]
    },
    {
      "cell_type": "markdown",
      "metadata": {
        "id": "K9exwCvNmToM"
      },
      "source": [
        "I need to do the flip it!"
      ]
    },
    {
      "cell_type": "code",
      "metadata": {
        "id": "pMIlQ7lbmZXy",
        "outputId": "1b352c10-f7e0-4f73-9908-2a57f0b778f7",
        "colab": {
          "base_uri": "https://localhost:8080/"
        }
      },
      "source": [
        "def flipit(list7binary):\n",
        "  newlist = []\n",
        "  for i in list7binary:\n",
        "    if i == '0':\n",
        "      newlist.append('1')\n",
        "    else:\n",
        "      newlist.append('0')\n",
        "  return newlist\n",
        "\n",
        "flipit(['0','1','1','1','1','1','1','1'])"
      ],
      "execution_count": null,
      "outputs": [
        {
          "output_type": "execute_result",
          "data": {
            "text/plain": [
              "['1', '0', '0', '0', '0', '0', '0', '0']"
            ]
          },
          "metadata": {},
          "execution_count": 22
        }
      ]
    },
    {
      "cell_type": "markdown",
      "metadata": {
        "id": "V9aJQWHZJuGT"
      },
      "source": [
        "I am ready for a two's complement now but I had to do some weird tricks like use lists instead of strings.  I think this works for all integers!"
      ]
    },
    {
      "cell_type": "code",
      "metadata": {
        "id": "QTUf4L_JCBVL"
      },
      "source": [
        "def twoscomplement(x):\n",
        "  if not (x>-128)&(x<127):\n",
        "    return \"No Two's Complement\"\n",
        "  ans = '00000000'\n",
        "  ans = list(ans) #strings don't allow you to change them in place (immutable) but lists can be!\n",
        "  counter = 7\n",
        "  if x>=0:\n",
        "    while x != 0:\n",
        "      ans[counter] = str(x%2)\n",
        "      x = floor(x/2)\n",
        "      counter -= 1\n",
        "  if x<0:\n",
        "    x = abs(x)\n",
        "    while x != 0:\n",
        "      ans[counter] = str(x%2)\n",
        "      x = floor(x/2)\n",
        "      counter -= 1\n",
        "    ans = flipit(ans)\n",
        "    addone(ans)        \n",
        "  ans = ''.join(ans)\n",
        "  return ans\n",
        "\n",
        "    "
      ],
      "execution_count": null,
      "outputs": []
    },
    {
      "cell_type": "code",
      "metadata": {
        "id": "J8iE2Do4CC5Y",
        "colab": {
          "base_uri": "https://localhost:8080/",
          "height": 36
        },
        "outputId": "c9f94f9f-5026-43d6-9775-d21906b4ca5e"
      },
      "source": [
        "twoscomplement(-27)"
      ],
      "execution_count": null,
      "outputs": [
        {
          "output_type": "execute_result",
          "data": {
            "application/vnd.google.colaboratory.intrinsic+json": {
              "type": "string"
            },
            "text/plain": [
              "'11100101'"
            ]
          },
          "metadata": {},
          "execution_count": 24
        }
      ]
    },
    {
      "cell_type": "code",
      "metadata": {
        "id": "FuAMmr9yoJDg",
        "outputId": "939e31fa-3986-4a67-e03f-cd9d0c86ae74",
        "colab": {
          "base_uri": "https://localhost:8080/",
          "height": 36
        }
      },
      "source": [
        "twoscomplement(-1)"
      ],
      "execution_count": null,
      "outputs": [
        {
          "output_type": "execute_result",
          "data": {
            "application/vnd.google.colaboratory.intrinsic+json": {
              "type": "string"
            },
            "text/plain": [
              "'11111111'"
            ]
          },
          "metadata": {},
          "execution_count": 27
        }
      ]
    },
    {
      "cell_type": "markdown",
      "metadata": {
        "id": "wP6p0INAImx3"
      },
      "source": [
        "Okay here's the deal, this is not what I am asking you to do!  I want you to do this with the aide of python not completely in python!  I recognize this was hard, it took me lots of lines of coding to get it done!  You may not use this code as your solution!  You can use it to help and check your answer but you should honestly just do these by hand using python to help, much like the way I did hexidecimal above!"
      ]
    },
    {
      "cell_type": "code",
      "metadata": {
        "id": "ebrLYq80FCz1"
      },
      "source": [
        ""
      ],
      "execution_count": null,
      "outputs": []
    }
  ]
}