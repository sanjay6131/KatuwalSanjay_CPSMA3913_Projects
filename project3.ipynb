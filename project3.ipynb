{
  "nbformat": 4,
  "nbformat_minor": 0,
  "metadata": {
    "colab": {
      "name": "project3.ipynb",
      "provenance": [],
      "collapsed_sections": [],
      "include_colab_link": true
    },
    "kernelspec": {
      "name": "python3",
      "display_name": "Python 3"
    }
  },
  "cells": [
    {
      "cell_type": "markdown",
      "metadata": {
        "id": "view-in-github",
        "colab_type": "text"
      },
      "source": [
        "<a href=\"https://colab.research.google.com/github/sanjay6131/KatuwalSanjay_CPSMA3913_SETS/blob/main/project3.ipynb\" target=\"_parent\"><img src=\"https://colab.research.google.com/assets/colab-badge.svg\" alt=\"Open In Colab\"/></a>"
      ]
    },
    {
      "cell_type": "markdown",
      "metadata": {
        "id": "YCJaepmmfKrS"
      },
      "source": [
        "# Project Part # 3: CPSMA 3133-Discrete Mathematics \n",
        "\n",
        "## Probability\n",
        "\n",
        "## Dr. Jacob\n",
        "## Sanjay Katuwal \n",
        "\n",
        "\n",
        "\n"
      ]
    },
    {
      "cell_type": "markdown",
      "metadata": {
        "id": "Xs_Pvtua1Nnt"
      },
      "source": [
        "#  Probability"
      ]
    },
    {
      "cell_type": "markdown",
      "metadata": {
        "id": "2z6U1aB_fQDM"
      },
      "source": [
        "For this I choose a newly purchased deck of cards total of 56 cards with joker included. So, if I pick up a random card, probablity of getting black faced card,B =13/28, probability of getting red faced card,R = 13/28 and probability of getting joker card,J = 1/14."
      ]
    },
    {
      "cell_type": "code",
      "metadata": {
        "id": "rU_BgC_kfH7g",
        "colab": {
          "base_uri": "https://localhost:8080/"
        },
        "outputId": "b8f5ab33-09d3-4c86-9b8e-f87576ccd288"
      },
      "source": [
        " p =[13/28,13/28,1/14]\n",
        "\n",
        " sum(p) \n",
        " \n",
        " #all the probability is positive and the sum should be equal to 1.\n",
        "\n"
      ],
      "execution_count": null,
      "outputs": [
        {
          "output_type": "execute_result",
          "data": {
            "text/plain": [
              "1.0"
            ]
          },
          "metadata": {},
          "execution_count": 38
        }
      ]
    },
    {
      "cell_type": "markdown",
      "metadata": {
        "id": "Iggon6VK1Vxo"
      },
      "source": [
        "So, I am picking another random card after the first random pick. And I am calling it M."
      ]
    },
    {
      "cell_type": "code",
      "metadata": {
        "id": "kCHzuVw5vvJ6",
        "colab": {
          "base_uri": "https://localhost:8080/"
        },
        "outputId": "ec7ce087-ff20-4e0d-90c3-7f959a8fc0a4"
      },
      "source": [
        "ProbabilityM = 0\n",
        "\n",
        "for i in [0,2]:\n",
        "  ProbabilityM = ProbabilityM + p[i]\n",
        "\n",
        "ProbabilityM"
      ],
      "execution_count": null,
      "outputs": [
        {
          "output_type": "execute_result",
          "data": {
            "text/plain": [
              "0.5357142857142857"
            ]
          },
          "metadata": {},
          "execution_count": 39
        }
      ]
    },
    {
      "cell_type": "markdown",
      "metadata": {
        "id": "-Xx3fefvwTx8"
      },
      "source": [
        "If i get to pick another random card from the deck. The probability of getting Black faced card is\n",
        "\n",
        "$$\n",
        "P(B|M)=\\frac{P(B\\cap M)}{P(M)}\n",
        "$$"
      ]
    },
    {
      "cell_type": "code",
      "metadata": {
        "id": "fIWFh9RfwyO0",
        "colab": {
          "base_uri": "https://localhost:8080/"
        },
        "outputId": "fe1445a8-1a44-4707-b2a3-fb538e232d4b"
      },
      "source": [
        "13/28/ProbabilityM"
      ],
      "execution_count": null,
      "outputs": [
        {
          "output_type": "execute_result",
          "data": {
            "text/plain": [
              "0.8666666666666667"
            ]
          },
          "metadata": {},
          "execution_count": 40
        }
      ]
    },
    {
      "cell_type": "markdown",
      "metadata": {
        "id": "RY7HVZ2q0MYw"
      },
      "source": [
        "For the probability of getting a black faced card given the black cards will be exactly one. I will Check it from bayes perspective and this is the formula for bayes.\n",
        "\n",
        "$$\n",
        "P(B|M) = \\frac{P(B)P(M|B)}{P(M)}\n",
        "$$"
      ]
    },
    {
      "cell_type": "code",
      "metadata": {
        "id": "DzLdXQ9l1VwT",
        "colab": {
          "base_uri": "https://localhost:8080/"
        },
        "outputId": "a20c25f2-8d41-4e79-8a44-3d3f4f13c57e"
      },
      "source": [
        ".8666666666666667 == (13/28 * 1)/ProbabilityM"
      ],
      "execution_count": null,
      "outputs": [
        {
          "output_type": "execute_result",
          "data": {
            "text/plain": [
              "True"
            ]
          },
          "metadata": {},
          "execution_count": 41
        }
      ]
    },
    {
      "cell_type": "markdown",
      "source": [
        "Now, I am doing this for red faced card instead of black card.\n",
        "\n",
        "$$\n",
        "P(R|M)=\\frac{P(R\\cap M)}{P(M)}\n",
        "$$"
      ],
      "metadata": {
        "id": "wGG4fHCObTnc"
      }
    },
    {
      "cell_type": "code",
      "source": [
        "13/28/ProbabilityM"
      ],
      "metadata": {
        "colab": {
          "base_uri": "https://localhost:8080/"
        },
        "id": "_t556F9ObuI-",
        "outputId": "da7bcec0-9de5-482c-fad9-9ba9dacc83fd"
      },
      "execution_count": null,
      "outputs": [
        {
          "output_type": "execute_result",
          "data": {
            "text/plain": [
              "0.8666666666666667"
            ]
          },
          "metadata": {},
          "execution_count": 42
        }
      ]
    },
    {
      "cell_type": "markdown",
      "source": [
        "$$\n",
        "P(R|M) = \\frac{P(R)P(M|R)}{P(M)}\n",
        "$$"
      ],
      "metadata": {
        "id": "q7ewk1e-b3ZU"
      }
    },
    {
      "cell_type": "code",
      "source": [
        ".8666666666666667 == (13/28 * 1)/ProbabilityM"
      ],
      "metadata": {
        "colab": {
          "base_uri": "https://localhost:8080/"
        },
        "id": "K8hxgIpLb-Je",
        "outputId": "c1a52648-b585-430e-e76b-c770bad850f4"
      },
      "execution_count": null,
      "outputs": [
        {
          "output_type": "execute_result",
          "data": {
            "text/plain": [
              "True"
            ]
          },
          "metadata": {},
          "execution_count": 43
        }
      ]
    },
    {
      "cell_type": "markdown",
      "source": [
        "For the complement we can just deduct the probability of getting an event from 1. Lets do B complement for the complement of Black faced cards."
      ],
      "metadata": {
        "id": "GpfwXNeZcd3t"
      }
    },
    {
      "cell_type": "code",
      "source": [
        "ProbabilityB= 13/28"
      ],
      "metadata": {
        "id": "kSGHWFOPdAlc"
      },
      "execution_count": null,
      "outputs": []
    },
    {
      "cell_type": "code",
      "source": [
        "1-ProbabilityB\n",
        "#This gives the complement of B"
      ],
      "metadata": {
        "colab": {
          "base_uri": "https://localhost:8080/"
        },
        "id": "DYbrbWIbcsEN",
        "outputId": "a7ffeb54-70b1-4feb-ad51-5516f37e2997"
      },
      "execution_count": null,
      "outputs": [
        {
          "output_type": "execute_result",
          "data": {
            "text/plain": [
              "0.5357142857142857"
            ]
          },
          "metadata": {},
          "execution_count": 45
        }
      ]
    },
    {
      "cell_type": "markdown",
      "metadata": {
        "id": "oZlnvFzUxAEh"
      },
      "source": [
        "Now, lets do the simulation with probabilities. And my LCM came out to be 28 so, i will do it with p and p28."
      ]
    },
    {
      "cell_type": "code",
      "metadata": {
        "id": "rcLbKtBfzCTQ"
      },
      "source": [
        "p28 = [28*i for i in p]\n",
        "p =[13/28,13/28,1/14]"
      ],
      "execution_count": null,
      "outputs": []
    },
    {
      "cell_type": "code",
      "metadata": {
        "id": "sAueNdZczO3S",
        "colab": {
          "base_uri": "https://localhost:8080/"
        },
        "outputId": "55898ede-ab5c-4154-8a2b-d3ca8885732c"
      },
      "source": [
        "p28"
      ],
      "execution_count": null,
      "outputs": [
        {
          "output_type": "execute_result",
          "data": {
            "text/plain": [
              "[13.0, 13.0, 2.0]"
            ]
          },
          "metadata": {},
          "execution_count": 47
        }
      ]
    },
    {
      "cell_type": "code",
      "metadata": {
        "id": "3014601TxgnX",
        "colab": {
          "base_uri": "https://localhost:8080/"
        },
        "outputId": "c69fe418-fbf7-4846-b0cd-51f970f4d9c8"
      },
      "source": [
        "from random import choices\n",
        "\n",
        "\n",
        "choices(['black','red','joker'],p28,k=10)"
      ],
      "execution_count": null,
      "outputs": [
        {
          "output_type": "execute_result",
          "data": {
            "text/plain": [
              "['red', 'red', 'red', 'black', 'black', 'red', 'red', 'black', 'red', 'red']"
            ]
          },
          "metadata": {},
          "execution_count": 48
        }
      ]
    },
    {
      "cell_type": "code",
      "metadata": {
        "id": "sRctaUNDqp4U",
        "outputId": "b0414d03-4474-4091-ebfb-37744d3d7b0e",
        "colab": {
          "base_uri": "https://localhost:8080/"
        }
      },
      "source": [
        "choices(['black','red','joker'],p,k=10)"
      ],
      "execution_count": null,
      "outputs": [
        {
          "output_type": "execute_result",
          "data": {
            "text/plain": [
              "['red',\n",
              " 'black',\n",
              " 'red',\n",
              " 'black',\n",
              " 'black',\n",
              " 'red',\n",
              " 'joker',\n",
              " 'joker',\n",
              " 'joker',\n",
              " 'red']"
            ]
          },
          "metadata": {},
          "execution_count": 49
        }
      ]
    },
    {
      "cell_type": "markdown",
      "metadata": {
        "id": "UKPjbjzCzeOS"
      },
      "source": [
        "The results are different everytime so lets do it with in a broader way for 1000 times."
      ]
    },
    {
      "cell_type": "code",
      "metadata": {
        "id": "W8DskPTBFDly"
      },
      "source": [
        "BigPicks =  choices(['black','red','joker'],p28,k=1000)\n",
        "\n",
        "countblack = 0\n",
        "countred = 0\n",
        "countjoker = 0\n",
        "\n",
        "for i in BigPicks:\n",
        "  if i =='black':\n",
        "    countblack += 1\n",
        "  elif i == 'red':\n",
        "    countred += 1\n",
        "  elif i == 'joker':\n",
        "    countjoker += 1\n",
        "\n",
        "ProbGuess = [countblack/len(BigPicks),countred/len(BigPicks),countjoker/len(BigPicks)]"
      ],
      "execution_count": null,
      "outputs": []
    },
    {
      "cell_type": "code",
      "metadata": {
        "id": "D2STYK2xF4WT",
        "colab": {
          "base_uri": "https://localhost:8080/"
        },
        "outputId": "266c93de-7371-466e-9946-dc851fedff8e"
      },
      "source": [
        "ProbGuess"
      ],
      "execution_count": null,
      "outputs": [
        {
          "output_type": "execute_result",
          "data": {
            "text/plain": [
              "[0.473, 0.464, 0.063]"
            ]
          },
          "metadata": {},
          "execution_count": 63
        }
      ]
    },
    {
      "cell_type": "markdown",
      "source": [
        "#Findings"
      ],
      "metadata": {
        "id": "48Va39q5mDIZ"
      }
    },
    {
      "cell_type": "markdown",
      "source": [
        "The outcomes will be different every time we run the code but, if we see this in larger picture the probability of getting the black card or any event will be almost same with small fluctuations everytime I run the code.\n",
        "Only thing I couldnot understand was, I choose 56 cards but from the ratio, it looks like I choose 28 cards. I find it litlle time consuming to get the code for running it 1000 times."
      ],
      "metadata": {
        "id": "SC_wbVuZqJAV"
      }
    }
  ]
}